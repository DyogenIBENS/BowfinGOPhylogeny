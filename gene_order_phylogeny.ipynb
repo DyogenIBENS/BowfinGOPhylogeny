{
 "cells": [
  {
   "cell_type": "markdown",
   "metadata": {},
   "source": [
    "# Phylogeny of 13 ray-finned fish based on gene order data"
   ]
  },
  {
   "cell_type": "markdown",
   "metadata": {},
   "source": [
    "This notebook documents the code and procedure we used to establish the **gene-order-based phylogeny of ray-finned fish** presented in the **[the bowfin genome paper](https://www.researchsquare.com/article/rs-92055/v1)**. This phylogeny supports the **Holostei hypothesis** of ray-finned fish evolution, which defines **the bowfin and spotted gar as sister groups**. The notebook is a mixed language jupyter notebook including both **python and R** code."
   ]
  },
  {
   "cell_type": "markdown",
   "metadata": {},
   "source": [
    "# Table of contents\n",
    "\n",
    "- [Libraries and packages](#libraries-and-packages)\n",
    "    - [External dependencies](#external-dependencies)\n",
    "    - [Custom python modules](#custom-python-modules)\n",
    "- [Input data description](#input-data-description)\n",
    "- [Neighbor-joining gene order phylogeny](#gene-order-phylogeny)\n",
    "    - [Marker genes selection](#marker-genes-selection)\n",
    "    - [Adjacencies extraction](#adjacencies-extraction)\n",
    "    - [Distance matrix computation](#distance-matrix-computation)\n",
    "    - [Neighbor-joining tree reconstruction](#neighbor-joining-tree-reconstruction)\n",
    "    - [Bootstrap support](#bootstrap-support)\n",
    "- [Maximum parsimony gene order phylogeny](#gene-order-phylogeny-pars)\n"
   ]
  },
  {
   "cell_type": "markdown",
   "metadata": {},
   "source": [
    "## Libraries and packages <a name=\"libraries-and-packages\"></a>"
   ]
  },
  {
   "cell_type": "markdown",
   "metadata": {},
   "source": [
    "All external dependencies to run the notebook are listed in the `binder/environment.yml` file, which includes both python packages and R libraries. Custom python modules are also stored in the `modules/` folder."
   ]
  },
  {
   "cell_type": "markdown",
   "metadata": {},
   "source": [
    "### External dependencies <a name=\"external-dependencies\"></a>"
   ]
  },
  {
   "cell_type": "code",
   "execution_count": null,
   "metadata": {},
   "outputs": [],
   "source": [
    "#Standard imports\n",
    "import os\n",
    "import itertools\n",
    "import glob\n",
    "import bz2\n",
    "from collections import defaultdict\n",
    "import random\n",
    "random.seed(1234)"
   ]
  },
  {
   "cell_type": "code",
   "execution_count": null,
   "metadata": {},
   "outputs": [],
   "source": [
    "#Gene tree manipulation\n",
    "from Bio import Phylo\n",
    "from Bio.Phylo.Consensus import majority_consensus,get_support\n",
    "from ete3 import Tree, NodeStyle, TreeStyle,TextFace, AttrFace,faces"
   ]
  },
  {
   "cell_type": "code",
   "execution_count": 1,
   "metadata": {},
   "outputs": [
    {
     "name": "stderr",
     "output_type": "stream",
     "text": [
      "Matplotlib is building the font cache; this may take a moment.\n"
     ]
    }
   ],
   "source": [
    "#Data loading and plotting\n",
    "import pandas as pd\n",
    "import numpy as np\n",
    "import matplotlib.pyplot as plt\n",
    "import seaborn as sns; sns.set_style(\"white\")"
   ]
  },
  {
   "cell_type": "code",
   "execution_count": null,
   "metadata": {},
   "outputs": [],
   "source": [
    "#Use R in python\n",
    "%load_ext rpy2.ipython"
   ]
  },
  {
   "cell_type": "markdown",
   "metadata": {},
   "source": [
    "### Custom python modules <a name=\"custom-python-modules\"></a>"
   ]
  },
  {
   "cell_type": "code",
   "execution_count": null,
   "metadata": {},
   "outputs": [],
   "source": [
    "#Load my python code\n",
    "%run modules/genomes.py\n",
    "%run modules/adjacencies.py\n",
    "%run modules/matrix.py\n",
    "%run modules/plot_trees.py"
   ]
  },
  {
   "cell_type": "markdown",
   "metadata": {},
   "source": [
    "## Input data description  <a name=\"input-data-description\"></a>"
   ]
  },
  {
   "cell_type": "markdown",
   "metadata": {},
   "source": [
    "path to data + description how they were obtained (Genomicus V2)"
   ]
  },
  {
   "cell_type": "markdown",
   "metadata": {},
   "source": [
    "## Neighbor-Joining gene order phylogeny <a name=\"gene-order-phylogeny\"></a>"
   ]
  },
  {
   "cell_type": "markdown",
   "metadata": {},
   "source": [
    "Explain"
   ]
  },
  {
   "cell_type": "code",
   "execution_count": null,
   "metadata": {},
   "outputs": [],
   "source": [
    "CORRECT_FOR_FRAC_BIAS = False #set to True to correct for post-WGD fractionation bias"
   ]
  },
  {
   "cell_type": "markdown",
   "metadata": {},
   "source": [
    "### Marker genes selection <a name=\"marker-genes-selection\"></a>"
   ]
  },
  {
   "cell_type": "markdown",
   "metadata": {},
   "source": [
    "Description"
   ]
  },
  {
   "cell_type": "code",
   "execution_count": null,
   "metadata": {},
   "outputs": [],
   "source": [
    "#global variable with all species name\n",
    "ALL_SPECIES = ['Gallus gallus','Xenopus tropicalis','Lepisosteus oculatus', 'Amia calva', 'Paramormyrops kingsleyae','Scleropages formosus', 'Astyanax mexicanus','Danio rerio','Gasterosteus aculeatus', 'Tetraodon nigroviridis', 'Takifugu rubripes', 'Oreochromis niloticus', 'Oryzias latipes', 'Poecilia formosa', 'Xiphophorus maculatus']\n",
    "\n",
    "#global variable with name of non-duplicated species (non-teleost)\n",
    "NON_DUP = ['Lepisosteus oculatus', 'Amia calva', 'Gallus gallus', 'Xenopus tropicalis']\n",
    "\n",
    "#Build a dict containing genes of all study species\n",
    "all_sp_genes, random_chr = {}, []\n",
    "for sp in ALL_SPECIES:\n",
    "    sp = sp.replace(' ','.')\n",
    "    all_all_genes[sp], genes_on_random_contig = extract_all_genes(sp)\n",
    "    all_all_genes[sp] = set(all_all_genes[sp])\n",
    "    random_chr += genes_on_random_contig"
   ]
  },
  {
   "cell_type": "code",
   "execution_count": null,
   "metadata": {},
   "outputs": [],
   "source": [
    "#Filter gene families to retain (1-to-1 or strict 1-to-2 with duplicated species)\n",
    "filter_families(all_sp_genes, NON_DUP, 'ancGenes.Euteleostomi.filtered')"
   ]
  },
  {
   "cell_type": "code",
   "execution_count": null,
   "metadata": {},
   "outputs": [],
   "source": [
    "#Write reduced genomes, i.e. containing only retained families, in fasta format\n",
    "name_families, unRAND = read('ancGenes.Euteleostomi.filtered_freeze') \n",
    "write_genomes(name_families,'MyGenomes_freeze.fa')"
   ]
  },
  {
   "cell_type": "markdown",
   "metadata": {},
   "source": [
    "### Adjacencies extraction <a name=\"adjacencies-extraction\"></a>"
   ]
  },
  {
   "cell_type": "code",
   "execution_count": null,
   "metadata": {},
   "outputs": [],
   "source": []
  },
  {
   "cell_type": "code",
   "execution_count": null,
   "metadata": {},
   "outputs": [],
   "source": [
    "d_seq = load_genomes(\"MyGenomes_freeze.fa\")\n",
    "adj_list, adj_list_rev = save_all_adj(d_seq)"
   ]
  },
  {
   "cell_type": "code",
   "execution_count": null,
   "metadata": {},
   "outputs": [],
   "source": [
    "#Filter out tetraodon adjacecnies on chromosome unRANDOM that are in no other species\n",
    "#UnRANDOM are scaffold assembled in a single contig\n",
    "all_adj,to_ign = make_matrix(adj_list, adj_list_rev,unRAND)\n",
    "adj_list, adj_list_rev = save_all_adj(d_seq, to_ignore=to_ign)"
   ]
  },
  {
   "cell_type": "markdown",
   "metadata": {},
   "source": [
    "### Distance matrix computation <a name=\"distance-matrix-computation\"></a>"
   ]
  },
  {
   "cell_type": "code",
   "execution_count": null,
   "metadata": {},
   "outputs": [],
   "source": []
  },
  {
   "cell_type": "code",
   "execution_count": null,
   "metadata": {},
   "outputs": [],
   "source": [
    "make_distance_matrix(adj_list, adj_list_rev, SP_DICT, name=NAME)"
   ]
  },
  {
   "cell_type": "markdown",
   "metadata": {},
   "source": [
    "### Neighbor-joining tree reconstruction <a name=\"neighbor-joining-tree-reconstruction\"></a>"
   ]
  },
  {
   "cell_type": "code",
   "execution_count": null,
   "metadata": {},
   "outputs": [],
   "source": [
    "%%R \n",
    "library('ape') \n",
    "\n",
    "nj_tree <- function(name){\n",
    "    dist_mat <- read.table(paste('dist_mat_', name,sep=''), header = TRUE, sep = \"\", skip = 0)\n",
    "    rownames(dist_mat) <- colnames(dist_mat)\n",
    "    dist_mat <- as.matrix(dist_mat)\n",
    "\n",
    "    a.nj <- bionj(dist_mat) # neighbour joining tree construction\n",
    "    write.tree(a.nj, file=paste('bionj_', name, '.nwk', sep=''))\n",
    "    plot(a.nj, \"phylo\") # we plot it (unrooted)\n",
    "    nodelabels()\n",
    "}"
   ]
  },
  {
   "cell_type": "markdown",
   "metadata": {},
   "source": [
    "### Bootstrap support  <a name=\"bootstrap-support\"></a>"
   ]
  },
  {
   "cell_type": "code",
   "execution_count": null,
   "metadata": {},
   "outputs": [],
   "source": [
    "all_adj, t = make_matrix(adj_list, adj_list_rev, unRAND)\n",
    "bootstrap_matrix(all_adj, name=NAME)"
   ]
  },
  {
   "cell_type": "code",
   "execution_count": null,
   "metadata": {},
   "outputs": [],
   "source": [
    "%%R \n",
    "library('ape') \n",
    "\n",
    "nj_tree <- function(name){\n",
    "    dist_mat <- read.table(paste('dist_mat_', name, sep=''), header = TRUE, sep = \"\", skip = 0)\n",
    "\n",
    "    # bootstrap the adjacecncies\n",
    "    for (i in 0:99){\n",
    "      infile = paste('bootstrap_', name, '/dist_mat_', name,as.character(i), '.txt', sep='')\n",
    "      outfile = paste('bootstrap_', name, '/bionj_', name, as.character(i), '.nwk', sep='')\n",
    "      dist_mat <- read.table(infile, header = TRUE, sep = \"\", skip = 0)\n",
    "      rownames(dist_mat) <- colnames(dist_mat)\n",
    "      dist_mat <- as.matrix(dist_mat)\n",
    "        \n",
    "      # neighbour joining tree construction for each bootstrap replicate\n",
    "      a.nj <- bionj(dist_mat)\n",
    "      write.tree(a.nj, file=outfile)\n",
    "    }\n",
    "}"
   ]
  },
  {
   "cell_type": "markdown",
   "metadata": {},
   "source": [
    "## Maximum parsimony gene order phylogeny <a name=\"gene-order-phylogeny-pars\"></a>"
   ]
  },
  {
   "cell_type": "code",
   "execution_count": null,
   "metadata": {},
   "outputs": [],
   "source": []
  }
 ],
 "metadata": {
  "kernelspec": {
   "display_name": "Python [conda env:bowfin_env]",
   "language": "python",
   "name": "conda-env-bowfin_env-py"
  },
  "language_info": {
   "codemirror_mode": {
    "name": "ipython",
    "version": 3
   },
   "file_extension": ".py",
   "mimetype": "text/x-python",
   "name": "python",
   "nbconvert_exporter": "python",
   "pygments_lexer": "ipython3",
   "version": "3.9.0"
  }
 },
 "nbformat": 4,
 "nbformat_minor": 4
}
