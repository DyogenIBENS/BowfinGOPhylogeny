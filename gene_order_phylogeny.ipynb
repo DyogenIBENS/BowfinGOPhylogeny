{
 "cells": [
  {
   "cell_type": "markdown",
   "metadata": {},
   "source": [
    "# Phylogeny of 13 ray-finned fish based on gene order data"
   ]
  },
  {
   "cell_type": "markdown",
   "metadata": {},
   "source": [
    "This notebook documents the code and procedure used to establish the **gene-order-based phylogeny of ray-finned fish** presented in the **[the bowfin genome paper](https://www.researchsquare.com/article/rs-92055/v1)**. This phylogeny supports the **Holostei hypothesis** of ray-finned fish evolution, which defines **the bowfin and spotted gar as sister groups**. The notebook is a mixed-languages jupyter notebook including both **python and R** code."
   ]
  },
  {
   "cell_type": "markdown",
   "metadata": {},
   "source": [
    "# Table of contents\n",
    "\n",
    "- [Libraries and packages](#libraries-and-packages)\n",
    "    - [External dependencies](#external-dependencies)\n",
    "    - [Custom python modules](#custom-python-modules)\n",
    "- [Input data description](#input-data-description)\n",
    "- [Gene order phylogeny](#gene-order-phylogeny)\n",
    "    - [Marker genes selection](#marker-genes-selection)\n",
    "    - [Adjacencies extraction](#adjacencies-extraction)\n",
    "    - [Distance matrix computation](#distance-matrix-computation)\n",
    "    - [Neighbor-joining tree reconstruction (and alternatives)](#neighbor-joining-tree-reconstruction)\n",
    "    - [Bootstrap support](#bootstrap-support)\n",
    "    - [Branch length differences](#brlen)"
   ]
  },
  {
   "cell_type": "markdown",
   "metadata": {},
   "source": [
    "## Libraries and packages <a name=\"libraries-and-packages\"></a>"
   ]
  },
  {
   "cell_type": "markdown",
   "metadata": {},
   "source": [
    "All external dependencies required to run the analysis are listed below, with exact versions as specified in the `binder/environment.yml` file, which includes both python packages and R libraries. Custom python modules are also stored in the `modules/` folder."
   ]
  },
  {
   "cell_type": "markdown",
   "metadata": {},
   "source": [
    "### External dependencies <a name=\"external-dependencies\"></a>"
   ]
  },
  {
   "cell_type": "code",
   "execution_count": 1,
   "metadata": {},
   "outputs": [],
   "source": [
    "#Standard imports\n",
    "import os\n",
    "import itertools\n",
    "import glob\n",
    "import bz2\n",
    "from collections import defaultdict\n",
    "\n",
    "import random\n",
    "#random.seed(1234) #Uncomment to set a random seed (for reproducible bootstrap)"
   ]
  },
  {
   "cell_type": "code",
   "execution_count": 2,
   "metadata": {},
   "outputs": [],
   "source": [
    "#Gene tree manipulation\n",
    "from Bio import Phylo\n",
    "from Bio.Phylo.Consensus import majority_consensus,get_support\n",
    "from ete3 import Tree, NodeStyle, TreeStyle,TextFace, AttrFace,faces"
   ]
  },
  {
   "cell_type": "code",
   "execution_count": 3,
   "metadata": {},
   "outputs": [],
   "source": [
    "#Data loading and plotting\n",
    "import pandas as pd\n",
    "import numpy as np\n",
    "import matplotlib.pyplot as plt\n",
    "import seaborn as sns; sns.set_style(\"white\")"
   ]
  },
  {
   "cell_type": "code",
   "execution_count": 4,
   "metadata": {},
   "outputs": [],
   "source": [
    "#Use R in python\n",
    "%load_ext rpy2.ipython"
   ]
  },
  {
   "cell_type": "code",
   "execution_count": 5,
   "metadata": {},
   "outputs": [],
   "source": [
    "%%R \n",
    "library('ape')"
   ]
  },
  {
   "cell_type": "markdown",
   "metadata": {},
   "source": [
    "### Custom python modules <a name=\"custom-python-modules\"></a>"
   ]
  },
  {
   "cell_type": "code",
   "execution_count": 6,
   "metadata": {},
   "outputs": [],
   "source": [
    "#Load my python code\n",
    "%run modules/genomes.py\n",
    "%run modules/adjacencies.py\n",
    "%run modules/matrix.py\n",
    "%run modules/bootstrap.py"
   ]
  },
  {
   "cell_type": "markdown",
   "metadata": {},
   "source": [
    "## Input data description  <a name=\"input-data-description\"></a>"
   ]
  },
  {
   "cell_type": "markdown",
   "metadata": {},
   "source": [
    "All input data are stored in `data/gene_order_phylogeny/`."
   ]
  },
  {
   "cell_type": "markdown",
   "metadata": {},
   "source": [
    "It includes an `ancGenes` file defining **gene families**, and files with **gene coordinates**, both in the **dyogen format**. Briefly, gene families were defined from gene trees built with the TreeBeST pipeline, including a total of 78 genomes and 55 ray-finned fish (*internally designated as GoodThreshold Genomicus V2 data*). In what follows, a subset of the gene families, containing the **13 selected ray-finned fish** and **2 outgroups** (chicken and xenopus) is extracted. This dataset is then used for all analyses."
   ]
  },
  {
   "cell_type": "code",
   "execution_count": 7,
   "metadata": {},
   "outputs": [
    {
     "name": "stdout",
     "output_type": "stream",
     "text": [
      "then: then/endif not found.\r\n",
      "\u001b[01;34mdata/gene_order_phylogeny/\u001b[00m\r\n",
      "├── \u001b[01;31mancGenes.Euteleostomi.list.bz2\u001b[00m\r\n",
      "├── \u001b[01;31mgenes.Amia.calva.list.bz2\u001b[00m\r\n",
      "├── \u001b[01;31mgenes.Astyanax.mexicanus.list.bz2\u001b[00m\r\n",
      "├── \u001b[01;31mgenes.Danio.rerio.list.bz2\u001b[00m\r\n",
      "├── \u001b[01;31mgenes.Gallus.gallus.list.bz2\u001b[00m\r\n",
      "├── \u001b[01;31mgenes.Gasterosteus.aculeatus.list.bz2\u001b[00m\r\n",
      "├── \u001b[01;31mgenes.Lepisosteus.oculatus.list.bz2\u001b[00m\r\n",
      "├── \u001b[01;31mgenes.Oreochromis.niloticus.list.bz2\u001b[00m\r\n",
      "├── \u001b[01;31mgenes.Oryzias.latipes.list.bz2\u001b[00m\r\n",
      "├── \u001b[01;31mgenes.Paramormyrops.kingsleyae.list.bz2\u001b[00m\r\n",
      "├── \u001b[01;31mgenes.Poecilia.formosa.list.bz2\u001b[00m\r\n",
      "├── \u001b[01;31mgenes.Scleropages.formosus.list.bz2\u001b[00m\r\n",
      "├── \u001b[01;31mgenes.Takifugu.rubripes.list.bz2\u001b[00m\r\n",
      "├── \u001b[01;31mgenes.Tetraodon.nigroviridis.list.bz2\u001b[00m\r\n",
      "├── \u001b[01;31mgenes.Xenopus.tropicalis.list.bz2\u001b[00m\r\n",
      "└── \u001b[01;31mgenes.Xiphophorus.maculatus.list.bz2\u001b[00m\r\n",
      "\r\n",
      "0 directories, 16 files\r\n"
     ]
    }
   ],
   "source": [
    "! tree data/gene_order_phylogeny/"
   ]
  },
  {
   "cell_type": "markdown",
   "metadata": {},
   "source": [
    "- Define global variables for paths to input data:"
   ]
  },
  {
   "cell_type": "code",
   "execution_count": 8,
   "metadata": {},
   "outputs": [],
   "source": [
    "FAMILIES = \"data/gene_order_phylogeny/ancGenes.Euteleostomi.list.bz2\"\n",
    "GENES = \"data/gene_order_phylogeny/genes.%s.list.bz2\""
   ]
  },
  {
   "cell_type": "markdown",
   "metadata": {},
   "source": [
    "## Gene order phylogeny <a name=\"gene-order-phylogeny\"></a>"
   ]
  },
  {
   "cell_type": "markdown",
   "metadata": {},
   "source": [
    "The gene order phylogeny is built in 5 steps detailed below. First, a **selection of marker genes** is conducted to limit the effect of differential gene content. The genomes are then reduced to these marker genes and **gene adjacencies** are stored. Next, a **distance matrix** then a **neighbor-joining tree** are built. Finally, **bootstrap** is perfomed to add support to nodes of the phylogeny.\n",
    "\n",
    "*Note: the code below writes a lot of intermediary files that may seem unnecessary. These were initally used for additional unpublished controls and analyses.*\n",
    "\n",
    "All outputs are stored in `output/`."
   ]
  },
  {
   "cell_type": "code",
   "execution_count": 9,
   "metadata": {},
   "outputs": [],
   "source": [
    "os.makedirs(\"output\", exist_ok=True)"
   ]
  },
  {
   "cell_type": "markdown",
   "metadata": {},
   "source": [
    "### Marker genes selection <a name=\"marker-genes-selection\"></a>"
   ]
  },
  {
   "cell_type": "markdown",
   "metadata": {},
   "source": [
    "Because the selected species contain teleost species that underwent a common whole-genome duplication event, we retained only gene families with exactly one gene copy in non-duplicated genomes and one or two gene copies in duplicated genomes. Corresponding custom functions can be found in `modules/genomes.py`."
   ]
  },
  {
   "cell_type": "code",
   "execution_count": 10,
   "metadata": {},
   "outputs": [],
   "source": [
    "#Global variable with all species name\n",
    "ALL_SPECIES = ['Gallus gallus','Xenopus tropicalis','Lepisosteus oculatus', 'Amia calva', 'Paramormyrops kingsleyae','Scleropages formosus', 'Astyanax mexicanus','Danio rerio','Gasterosteus aculeatus', 'Tetraodon nigroviridis', 'Takifugu rubripes', 'Oreochromis niloticus', 'Oryzias latipes', 'Poecilia formosa', 'Xiphophorus maculatus']\n",
    "\n",
    "#Global variable with latin to common name correspondance (for plots)\n",
    "SP_DICT = {'Gallus':'Chicken', 'Xenopus':'Xenopus', 'Lepisosteus':'Gar', 'Amia':'Bowfin', 'Paramormyrops':'Paramormyrops', 'Scleropages':'Asian bonytongue', 'Astyanax':'Cavefish', 'Danio':'Zebrafish', 'Gasterosteus':'Stickleback', 'Tetraodon':'Tetraodon', 'Takifugu':'Fugu', 'Oreochromis':'Tilapia', 'Oryzias':'Medaka', 'Poecilia':'Amazon molly', 'Xiphophorus':'Platyfish'}\n",
    "\n",
    "#Global variable with name of non-duplicated species (non-teleost)\n",
    "NON_DUP = ['Lepisosteus oculatus', 'Amia calva', 'Gallus gallus', 'Xenopus tropicalis']\n",
    "\n",
    "# Build a dict containing genes of all study species\n",
    "all_sp_genes, genes_on_random_contig = {}, set()\n",
    "for sp in ALL_SPECIES:\n",
    "    sp = sp.replace(' ','.')\n",
    "    genefile = GENES % (sp)\n",
    "    all_sp_genes[sp], tmp_genes_on_random_contig = extract_all_genes(genefile)\n",
    "    genes_on_random_contig.update(tmp_genes_on_random_contig)"
   ]
  },
  {
   "cell_type": "code",
   "execution_count": 11,
   "metadata": {},
   "outputs": [
    {
     "name": "stdout",
     "output_type": "stream",
     "text": [
      "Number of marker gene families selected: 3223.\n",
      "Number of corresponding genes in each species: {'Gallus.gallus': 3223, 'Xenopus.tropicalis': 3223, 'Lepisosteus.oculatus': 3223, 'Amia.calva': 3223, 'Paramormyrops.kingsleyae': 4067, 'Scleropages.formosus': 4039, 'Astyanax.mexicanus': 3765, 'Danio.rerio': 3721, 'Gasterosteus.aculeatus': 3607, 'Tetraodon.nigroviridis': 3713, 'Takifugu.rubripes': 3683, 'Oreochromis.niloticus': 3659, 'Oryzias.latipes': 3604, 'Poecilia.formosa': 3851, 'Xiphophorus.maculatus': 3601}\n"
     ]
    }
   ],
   "source": [
    "# Filter gene families to retain (1-to-1 or 1-to-2 for duplicated species)\n",
    "filter_families(all_sp_genes, NON_DUP, 'data/gene_order_phylogeny/ancGenes.Euteleostomi.list.bz2', 'output/ancGenes.Euteleostomi.filtered')"
   ]
  },
  {
   "cell_type": "code",
   "execution_count": 12,
   "metadata": {},
   "outputs": [],
   "source": [
    "# Write reduced genomes, i.e. containing only retained families, in fasta format\n",
    "name_families, unRAND = read('output/ancGenes.Euteleostomi.filtered', genes_on_random_contig) \n",
    "write_genomes(name_families, GENES, ALL_SPECIES, 'output/mygenomes.fa')"
   ]
  },
  {
   "cell_type": "markdown",
   "metadata": {},
   "source": [
    "At the end of this step, `output/ancGenes.Euteleostomi.filtered` stores the selected marker gene families and `output/mygenomes.fa` stores marker genes order in the 15 selected species."
   ]
  },
  {
   "cell_type": "markdown",
   "metadata": {},
   "source": [
    "### Adjacencies extraction <a name=\"adjacencies-extraction\"></a>"
   ]
  },
  {
   "cell_type": "markdown",
   "metadata": {},
   "source": [
    "This step consists in a simple parsing of the multiple genomes fasta file, to extract sets of **gene adjacencies** present in each species. Corresponding custom functions can be found in `modules/adjacencies.py`."
   ]
  },
  {
   "cell_type": "code",
   "execution_count": 13,
   "metadata": {},
   "outputs": [],
   "source": [
    "#Load genomes in a dict\n",
    "d_seq = load_genomes(\"output/mygenomes.fa\")"
   ]
  },
  {
   "cell_type": "markdown",
   "metadata": {},
   "source": [
    "**First pass extraction**"
   ]
  },
  {
   "cell_type": "code",
   "execution_count": 14,
   "metadata": {},
   "outputs": [],
   "source": [
    "#Save all adjacencies for all species and in each direction. For instance, (-1,2) is equivalent to (-2,1).\n",
    "adj_list, adj_list_rev = save_all_adj(d_seq)"
   ]
  },
  {
   "cell_type": "markdown",
   "metadata": {},
   "source": [
    "**Final extraction** : filter out tetraodon adjacencies on random contig that are in no other species (UnRandom is a contig with all scaffolds chained in a random order)."
   ]
  },
  {
   "cell_type": "code",
   "execution_count": 15,
   "metadata": {},
   "outputs": [
    {
     "name": "stdout",
     "output_type": "stream",
     "text": [
      "Number of total adjacencies: 16561\n",
      "Number of derived adjacencies shared only by Bowfin and Gar: 372\n",
      "Number of derived adjacencies shared by Bowfin and Teleosts only: 108\n",
      "Number of derived adjacencies shared by Gar and Teleosts only: 86\n"
     ]
    }
   ],
   "source": [
    "#Write adjacencies in a binary absence/presence matrix and filter tetraodon adjacencies (save them in 'to_ign')\n",
    "all_adj, to_ign = make_binary_adj_matrix(adj_list, adj_list_rev, ALL_SPECIES, unrandom=unRAND, sp_with_rm=\"Tetraodon nigroviridis\")\n",
    "\n",
    "#Also filter out tetraodon adjacencies from the adjacencies dict\n",
    "adj_list, adj_list_rev = save_all_adj(d_seq, to_ignore=to_ign, sp_with_ign=\"Tetraodon nigroviridis\")"
   ]
  },
  {
   "cell_type": "markdown",
   "metadata": {},
   "source": [
    "The dictionnaries `adj_list` and `adj_list_rev` store the complete sets of gene adjacencies in each species, while `all_adj` stores it in a binary absence/presence matrix."
   ]
  },
  {
   "cell_type": "markdown",
   "metadata": {},
   "source": [
    "### Distance matrix computation <a name=\"distance-matrix-computation\"></a>"
   ]
  },
  {
   "cell_type": "markdown",
   "metadata": {},
   "source": [
    "Corresponding custom functions for this part can be found in `modules/matrix.py`.\n",
    "\n",
    "Two strategies can be used to compute the pairwise distance :\n",
    " - the 'simple' normalized breakpoint distance\n",
    " - the normalized breakpoint distance corrected for post-WGD fractionation (massive gene losses displacing adjacent genes on different paraologons)\n",
    " \n",
    "The normalized breakpoint distance NBD is computed as follows : NBD = (1 - proportion of shared adjacencies). The correction for disruption of adjacencies through gene losses considers relaxed adjacencies between duplicated and non-duplicated species (see the documentation of `correct_frac_bias` in `modules/matrix.py`)."
   ]
  },
  {
   "cell_type": "markdown",
   "metadata": {},
   "source": [
    "- Select the strategy below:"
   ]
  },
  {
   "cell_type": "code",
   "execution_count": 16,
   "metadata": {},
   "outputs": [],
   "source": [
    "CORRECT_FOR_FRAC_BIAS = False #set to True to use the correction for post-WGD fractionation"
   ]
  },
  {
   "cell_type": "markdown",
   "metadata": {},
   "source": [
    "- Compute all pairwise distances and build the distance matrix:"
   ]
  },
  {
   "cell_type": "code",
   "execution_count": 17,
   "metadata": {},
   "outputs": [
    {
     "data": {
      "image/png": "[encoded data removed]",
      "text/plain": [
       "<Figure size 576x576 with 2 Axes>"
      ]
     },
     "metadata": {},
     "output_type": "display_data"
    }
   ],
   "source": [
    "if CORRECT_FOR_FRAC_BIAS:\n",
    "    correct_frac_bias(adj_list, adj_list_rev, ALL_SPECIES, d_seq, NON_DUP) #not optimized, may take ~1min\n",
    "\n",
    "# build the distance matrix, plot it, and write it to file 'output/dist_mat'\n",
    "make_distance_matrix(adj_list, adj_list_rev, SP_DICT, ALL_SPECIES)"
   ]
  },
  {
   "cell_type": "markdown",
   "metadata": {},
   "source": [
    "The file `output/dist_mat` stores the computed distance matrix."
   ]
  },
  {
   "cell_type": "markdown",
   "metadata": {},
   "source": [
    "### Neighbor-joining tree reconstruction <a name=\"neighbor-joining-tree-reconstruction\"></a>"
   ]
  },
  {
   "cell_type": "markdown",
   "metadata": {},
   "source": [
    "Use the `ape` R library to build a neighbor-joining tree from the distance matrix."
   ]
  },
  {
   "cell_type": "code",
   "execution_count": 18,
   "metadata": {},
   "outputs": [],
   "source": [
    "%%R \n",
    "\n",
    "tree_methods <- function(dist.mat, method=c(\"NJ\", \"FASTME\", \"UPGMA\")){\n",
    "    \n",
    "    method <- match.arg(method)\n",
    "    \n",
    "    #build tree\n",
    "    if (method == \"NJ\"){\n",
    "        tree <- bionj(dist.mat)\n",
    "    }\n",
    "    \n",
    "    if (method == \"FASTME\"){\n",
    "        tree <- fastme.bal(dist.mat)\n",
    "        tree <- root(tree, outgroup=c('Xenopus', 'Chicken'), resolve.root=TRUE) # root using the outgroups\n",
    "    }\n",
    "    \n",
    "    if (method == \"UPGMA\"){\n",
    "        dist.mat <- as.dist(dist.mat)\n",
    "        tree <- as.phylo(hclust(dist.mat, \"average\")) # upgma() in phangorn \n",
    "    }\n",
    "    return(tree)\n",
    "}"
   ]
  },
  {
   "cell_type": "code",
   "execution_count": 19,
   "metadata": {},
   "outputs": [],
   "source": [
    "%%R\n",
    "\n",
    "build_tree <- function(method=c(\"NJ\", \"FASTME\", \"UPGMA\")){\n",
    "\n",
    "    method <- match.arg(method)\n",
    "    \n",
    "    #reformat the distance matrix\n",
    "    dist.mat <- read.table('output/dist_mat', header = TRUE, sep = \"\", skip = 0)\n",
    "    rownames(dist.mat) <- colnames(dist.mat)\n",
    "    dist.mat <- as.matrix(dist.mat)\n",
    "\n",
    "    tree <- tree_methods(dist.mat, method)\n",
    "    \n",
    "    outfile <- paste('output/', method, '.nwk', sep='')\n",
    "    \n",
    "    write.tree(tree, file=outfile)\n",
    "    \n",
    "    if (method == 'NJ'){\n",
    "        tree <- root(tree, outgroup=c('Xenopus', 'Chicken'), resolve.root=TRUE) # root using the outgroups\n",
    "    }\n",
    "    plot(tree, \"phylo\") # we plot it, unrooted\n",
    "    nodelabels()\n",
    "    \n",
    "}"
   ]
  },
  {
   "cell_type": "markdown",
   "metadata": {},
   "source": [
    "The tree reconstruction method can be specified in the next cell :"
   ]
  },
  {
   "cell_type": "code",
   "execution_count": 20,
   "metadata": {},
   "outputs": [],
   "source": [
    "METHOD = 'NJ' #can be one of NJ, FASTME or UPGMA"
   ]
  },
  {
   "cell_type": "markdown",
   "metadata": {},
   "source": [
    "- And build the tree :"
   ]
  },
  {
   "cell_type": "code",
   "execution_count": 21,
   "metadata": {},
   "outputs": [
    {
     "data": {
      "image/png": "[encoded data removed]"
     },
     "metadata": {},
     "output_type": "display_data"
    }
   ],
   "source": [
    "%%R -i METHOD\n",
    "build_tree(METHOD)"
   ]
  },
  {
   "cell_type": "markdown",
   "metadata": {},
   "source": [
    "The file `output/output/NJ.nwk` stores the neighbor-joining tree."
   ]
  },
  {
   "cell_type": "markdown",
   "metadata": {},
   "source": [
    "### Bootstrap support  <a name=\"bootstrap-support\"></a>"
   ]
  },
  {
   "cell_type": "markdown",
   "metadata": {},
   "source": [
    "- Generate 100 bootstrap replicates of the binary absence/presence adjacency matrix and compute a distance matrix for each. (Note that bootstrap support will slightly differ from our published tree, due to randomness of the resampling.)"
   ]
  },
  {
   "cell_type": "code",
   "execution_count": 22,
   "metadata": {
    "scrolled": true
   },
   "outputs": [
    {
     "name": "stdout",
     "output_type": "stream",
     "text": [
      "10 bootstrap replicates done\n",
      "20 bootstrap replicates done\n",
      "30 bootstrap replicates done\n",
      "40 bootstrap replicates done\n",
      "50 bootstrap replicates done\n",
      "60 bootstrap replicates done\n",
      "70 bootstrap replicates done\n",
      "80 bootstrap replicates done\n",
      "90 bootstrap replicates done\n",
      "100 bootstrap replicates done\n",
      "DONE\n"
     ]
    }
   ],
   "source": [
    "bootstrap_matrix(all_adj, ALL_SPECIES, SP_DICT)"
   ]
  },
  {
   "cell_type": "markdown",
   "metadata": {},
   "source": [
    "- Build a tree for each replicate"
   ]
  },
  {
   "cell_type": "code",
   "execution_count": 23,
   "metadata": {},
   "outputs": [],
   "source": [
    "%%R \n",
    "\n",
    "boot_tree <- function(method=c(\"NJ\", \"FASTME\", \"UPGMA\")){\n",
    "    dist.mat <- read.table('output/dist_mat', header = TRUE, sep = \"\", skip = 0)\n",
    "\n",
    "    # load distance matrix of bootstrap replicates and build trees\n",
    "    for (i in 0:99){\n",
    "      infile = paste('output/bootstrap/dist_mat_', as.character(i), '.txt', sep='')\n",
    "      outfile = paste('output/bootstrap/', method, '_', as.character(i), '.nwk', sep='')\n",
    "      dist.mat <- read.table(infile, header = TRUE, sep = \"\", skip = 0)\n",
    "      rownames(dist.mat) <- colnames(dist.mat)\n",
    "      dist.mat <- as.matrix(dist.mat)\n",
    "        \n",
    "      # neighbour joining tree construction for each bootstrap replicate and write to file\n",
    "      tree <- tree_methods(dist.mat, method)\n",
    "      write.tree(tree, file=outfile)\n",
    "    }\n",
    "}"
   ]
  },
  {
   "cell_type": "code",
   "execution_count": 24,
   "metadata": {},
   "outputs": [],
   "source": [
    "%%R -i METHOD\n",
    "boot_tree(METHOD)"
   ]
  },
  {
   "cell_type": "markdown",
   "metadata": {},
   "source": [
    "- Add bootstrap support and store branch length difference for a selection of species pair"
   ]
  },
  {
   "cell_type": "code",
   "execution_count": 25,
   "metadata": {},
   "outputs": [],
   "source": [
    "SPECIES_PAIRS = [('Bowfin', 'Gar'), ('Bowfin', 'Zebrafish'), ('Bowfin', 'Fugu'), ('Bowfin', 'Asian_bonytongue')]"
   ]
  },
  {
   "cell_type": "code",
   "execution_count": 26,
   "metadata": {},
   "outputs": [],
   "source": [
    "ROOT = True\n",
    "if METHOD == \"UPGMA\":\n",
    "    ROOT = False"
   ]
  },
  {
   "cell_type": "code",
   "execution_count": 27,
   "metadata": {},
   "outputs": [],
   "source": [
    "bstrap = glob.glob(f'output/bootstrap/{METHOD}_*.nwk')\n",
    "tree = f'output/{METHOD}.nwk'\n",
    "brlen_diff = add_bootstrap_support(tree, bstrap, root=ROOT, branch_length_diff=SPECIES_PAIRS)"
   ]
  },
  {
   "cell_type": "markdown",
   "metadata": {},
   "source": [
    "- Plot the phylogeny"
   ]
  },
  {
   "cell_type": "code",
   "execution_count": 28,
   "metadata": {},
   "outputs": [],
   "source": [
    "def layout(node):\n",
    "    if node.is_leaf():\n",
    "        N = AttrFace(\"name\", fsize=9)\n",
    "        faces.add_face_to_node(N, node, 0)\n",
    "        \n",
    "        \n",
    "def draw_tree(tree, outfile):\n",
    "    \n",
    "    \"\"\"\n",
    "    SVG figure of the final tree with bootstrap support.\n",
    "    \"\"\"\n",
    "    \n",
    "    tree = Tree(tree)\n",
    "    ts = TreeStyle()\n",
    "    lca = tree.get_common_ancestor(['Bowfin', 'Gar'])\n",
    "    for n in tree.traverse():\n",
    "\n",
    "        nstyle = NodeStyle()\n",
    "        nstyle['size'] = 0\n",
    "\n",
    "        if n == lca or n.name in ['Bowfin', 'Gar']:\n",
    "\n",
    "            nstyle['bgcolor'] = 'pink'\n",
    "\n",
    "        else:\n",
    "            nstyle['bgcolor'] = 'white'\n",
    "\n",
    "        if n.name in ['Stickleback']:\n",
    "            nstyle[\"hz_line_color\"] = \"grey\"\n",
    "            nstyle[\"hz_line_width\"] = 2\n",
    "\n",
    "        n.set_style(nstyle)\n",
    "\n",
    "    ts.show_leaf_name = False\n",
    "    ts.layout_fn = layout\n",
    "    ts.show_branch_support = True\n",
    "    ts.tree_width = 300\n",
    "    tree.render(outfile, dpi=80, tree_style=ts)\n",
    "    plt.close(\"all\")"
   ]
  },
  {
   "cell_type": "code",
   "execution_count": 29,
   "metadata": {},
   "outputs": [],
   "source": [
    "draw_tree('output/ete3_formatted_bootstrap_tree.nwk', f'output/{METHOD}_tree.svg')"
   ]
  },
  {
   "cell_type": "markdown",
   "metadata": {},
   "source": [
    "- The figure is saved in `output/NJ_tree.svg`"
   ]
  },
  {
   "cell_type": "code",
   "execution_count": 30,
   "metadata": {},
   "outputs": [
    {
     "data": {
      "image/svg+xml": [
       "<svg xmlns=\"http://www.w3.org/2000/svg\" xmlns:xlink=\"http://www.w3.org/1999/xlink\" width=\"147.461mm\" height=\"103.011mm\" viewBox=\"0 0 418.108 292\" version=\"1.2\" baseProfile=\"tiny\"> <title>Generated with ETE http://etetoolkit.org</title> <desc>Generated with ETE http://etetoolkit.org</desc> <defs> </defs> <g fill=\"none\" stroke=\"black\" stroke-width=\"1\" fill-rule=\"evenodd\" stroke-linecap=\"square\" stroke-linejoin=\"bevel\">      <g fill=\"none\" stroke=\"none\" transform=\"matrix(1,0,0,1,0,0)\" font-family=\"Sans Serif\" font-size=\"9pt\" font-weight=\"400\" font-style=\"normal\"> <rect x=\"0\" y=\"0\" width=\"418.108\" height=\"292\"/> </g>      <g fill=\"none\" stroke=\"none\" transform=\"matrix(1,0,0,1,1,1)\" font-family=\"Sans Serif\" font-size=\"9pt\" font-weight=\"400\" font-style=\"normal\"> <rect x=\"0\" y=\"0\" width=\"416.108\" height=\"240\"/> </g>      <g fill=\"#ffffff\" fill-opacity=\"1\" stroke=\"#ffffff\" stroke-opacity=\"1\" stroke-width=\"1\" stroke-linecap=\"square\" stroke-linejoin=\"bevel\" transform=\"matrix(1,0,0,1,1,1)\" font-family=\"Sans Serif\" font-size=\"9pt\" font-weight=\"400\" font-style=\"normal\"> <rect x=\"0\" y=\"0\" width=\"416.108\" height=\"240\"/> </g>      <g fill=\"#ffffff\" fill-opacity=\"1\" stroke=\"#ffffff\" stroke-opacity=\"1\" stroke-width=\"1\" stroke-linecap=\"square\" stroke-linejoin=\"bevel\" transform=\"matrix(1,0,0,1,20,1)\" font-family=\"Sans Serif\" font-size=\"9pt\" font-weight=\"400\" font-style=\"normal\"> <rect x=\"0\" y=\"0\" width=\"397.108\" height=\"32\"/> </g>      <g fill=\"#ffffff\" fill-opacity=\"1\" stroke=\"#ffffff\" stroke-opacity=\"1\" stroke-width=\"1\" stroke-linecap=\"square\" stroke-linejoin=\"bevel\" transform=\"matrix(1,0,0,1,61.2782,1)\" font-family=\"Sans Serif\" font-size=\"9pt\" font-weight=\"400\" font-style=\"normal\"> <rect x=\"0\" y=\"0\" width=\"355.83\" height=\"16\"/> </g>      <g fill=\"#ffffff\" fill-opacity=\"1\" stroke=\"#ffffff\" stroke-opacity=\"1\" stroke-width=\"1\" stroke-linecap=\"square\" stroke-linejoin=\"bevel\" transform=\"matrix(1,0,0,1,61.2782,17)\" font-family=\"Sans Serif\" font-size=\"9pt\" font-weight=\"400\" font-style=\"normal\"> <rect x=\"0\" y=\"0\" width=\"355.83\" height=\"16\"/> </g>      <g fill=\"#ffffff\" fill-opacity=\"1\" stroke=\"#ffffff\" stroke-opacity=\"1\" stroke-width=\"1\" stroke-linecap=\"square\" stroke-linejoin=\"bevel\" transform=\"matrix(1,0,0,1,20,33)\" font-family=\"Sans Serif\" font-size=\"9pt\" font-weight=\"400\" font-style=\"normal\"> <rect x=\"0\" y=\"0\" width=\"397.108\" height=\"208\"/> </g>      <g fill=\"#ffc0cb\" fill-opacity=\"1\" stroke=\"#ffc0cb\" stroke-opacity=\"1\" stroke-width=\"1\" stroke-linecap=\"square\" stroke-linejoin=\"bevel\" transform=\"matrix(1,0,0,1,61.2782,33)\" font-family=\"Sans Serif\" font-size=\"9pt\" font-weight=\"400\" font-style=\"normal\"> <rect x=\"0\" y=\"0\" width=\"355.83\" height=\"32\"/> </g>      <g fill=\"#ffc0cb\" fill-opacity=\"1\" stroke=\"#ffc0cb\" stroke-opacity=\"1\" stroke-width=\"1\" stroke-linecap=\"square\" stroke-linejoin=\"bevel\" transform=\"matrix(1,0,0,1,132.806,33)\" font-family=\"Sans Serif\" font-size=\"9pt\" font-weight=\"400\" font-style=\"normal\"> <rect x=\"0\" y=\"0\" width=\"284.302\" height=\"16\"/> </g>      <g fill=\"#ffc0cb\" fill-opacity=\"1\" stroke=\"#ffc0cb\" stroke-opacity=\"1\" stroke-width=\"1\" stroke-linecap=\"square\" stroke-linejoin=\"bevel\" transform=\"matrix(1,0,0,1,132.806,49)\" font-family=\"Sans Serif\" font-size=\"9pt\" font-weight=\"400\" font-style=\"normal\"> <rect x=\"0\" y=\"0\" width=\"284.302\" height=\"16\"/> </g>      <g fill=\"#ffffff\" fill-opacity=\"1\" stroke=\"#ffffff\" stroke-opacity=\"1\" stroke-width=\"1\" stroke-linecap=\"square\" stroke-linejoin=\"bevel\" transform=\"matrix(1,0,0,1,61.2782,65)\" font-family=\"Sans Serif\" font-size=\"9pt\" font-weight=\"400\" font-style=\"normal\"> <rect x=\"0\" y=\"0\" width=\"355.83\" height=\"176\"/> </g>      <g fill=\"#ffffff\" fill-opacity=\"1\" stroke=\"#ffffff\" stroke-opacity=\"1\" stroke-width=\"1\" stroke-linecap=\"square\" stroke-linejoin=\"bevel\" transform=\"matrix(1,0,0,1,89.3555,65)\" font-family=\"Sans Serif\" font-size=\"9pt\" font-weight=\"400\" font-style=\"normal\"> <rect x=\"0\" y=\"0\" width=\"327.753\" height=\"32\"/> </g>      <g fill=\"#ffffff\" fill-opacity=\"1\" stroke=\"#ffffff\" stroke-opacity=\"1\" stroke-width=\"1\" stroke-linecap=\"square\" stroke-linejoin=\"bevel\" transform=\"matrix(1,0,0,1,153.828,65)\" font-family=\"Sans Serif\" font-size=\"9pt\" font-weight=\"400\" font-style=\"normal\"> <rect x=\"0\" y=\"0\" width=\"263.28\" height=\"16\"/> </g>      <g fill=\"#ffffff\" fill-opacity=\"1\" stroke=\"#ffffff\" stroke-opacity=\"1\" stroke-width=\"1\" stroke-linecap=\"square\" stroke-linejoin=\"bevel\" transform=\"matrix(1,0,0,1,153.828,81)\" font-family=\"Sans Serif\" font-size=\"9pt\" font-weight=\"400\" font-style=\"normal\"> <rect x=\"0\" y=\"0\" width=\"263.28\" height=\"16\"/> </g>      <g fill=\"#ffffff\" fill-opacity=\"1\" stroke=\"#ffffff\" stroke-opacity=\"1\" stroke-width=\"1\" stroke-linecap=\"square\" stroke-linejoin=\"bevel\" transform=\"matrix(1,0,0,1,89.3555,97)\" font-family=\"Sans Serif\" font-size=\"9pt\" font-weight=\"400\" font-style=\"normal\"> <rect x=\"0\" y=\"0\" width=\"327.753\" height=\"144\"/> </g>      <g fill=\"#ffffff\" fill-opacity=\"1\" stroke=\"#ffffff\" stroke-opacity=\"1\" stroke-width=\"1\" stroke-linecap=\"square\" stroke-linejoin=\"bevel\" transform=\"matrix(1,0,0,1,120.419,97)\" font-family=\"Sans Serif\" font-size=\"9pt\" font-weight=\"400\" font-style=\"normal\"> <rect x=\"0\" y=\"0\" width=\"296.689\" height=\"32\"/> </g>      <g fill=\"#ffffff\" fill-opacity=\"1\" stroke=\"#ffffff\" stroke-opacity=\"1\" stroke-width=\"1\" stroke-linecap=\"square\" stroke-linejoin=\"bevel\" transform=\"matrix(1,0,0,1,200.091,97)\" font-family=\"Sans Serif\" font-size=\"9pt\" font-weight=\"400\" font-style=\"normal\"> <rect x=\"0\" y=\"0\" width=\"217.017\" height=\"16\"/> </g>      <g fill=\"#ffffff\" fill-opacity=\"1\" stroke=\"#ffffff\" stroke-opacity=\"1\" stroke-width=\"1\" stroke-linecap=\"square\" stroke-linejoin=\"bevel\" transform=\"matrix(1,0,0,1,200.091,113)\" font-family=\"Sans Serif\" font-size=\"9pt\" font-weight=\"400\" font-style=\"normal\"> <rect x=\"0\" y=\"0\" width=\"217.017\" height=\"16\"/> </g>      <g fill=\"#ffffff\" fill-opacity=\"1\" stroke=\"#ffffff\" stroke-opacity=\"1\" stroke-width=\"1\" stroke-linecap=\"square\" stroke-linejoin=\"bevel\" transform=\"matrix(1,0,0,1,120.419,129)\" font-family=\"Sans Serif\" font-size=\"9pt\" font-weight=\"400\" font-style=\"normal\"> <rect x=\"0\" y=\"0\" width=\"296.689\" height=\"112\"/> </g>      <g fill=\"#ffffff\" fill-opacity=\"1\" stroke=\"#ffffff\" stroke-opacity=\"1\" stroke-width=\"1\" stroke-linecap=\"square\" stroke-linejoin=\"bevel\" transform=\"matrix(1,0,0,1,234.487,129)\" font-family=\"Sans Serif\" font-size=\"9pt\" font-weight=\"400\" font-style=\"normal\"> <rect x=\"0\" y=\"0\" width=\"182.621\" height=\"32\"/> </g>      <g fill=\"#ffffff\" fill-opacity=\"1\" stroke=\"#ffffff\" stroke-opacity=\"1\" stroke-width=\"1\" stroke-linecap=\"square\" stroke-linejoin=\"bevel\" transform=\"matrix(1,0,0,1,268.339,129)\" font-family=\"Sans Serif\" font-size=\"9pt\" font-weight=\"400\" font-style=\"normal\"> <rect x=\"0\" y=\"0\" width=\"148.769\" height=\"16\"/> </g>      <g fill=\"#ffffff\" fill-opacity=\"1\" stroke=\"#ffffff\" stroke-opacity=\"1\" stroke-width=\"1\" stroke-linecap=\"square\" stroke-linejoin=\"bevel\" transform=\"matrix(1,0,0,1,268.339,145)\" font-family=\"Sans Serif\" font-size=\"9pt\" font-weight=\"400\" font-style=\"normal\"> <rect x=\"0\" y=\"0\" width=\"148.769\" height=\"16\"/> </g>      <g fill=\"#ffffff\" fill-opacity=\"1\" stroke=\"#ffffff\" stroke-opacity=\"1\" stroke-width=\"1\" stroke-linecap=\"square\" stroke-linejoin=\"bevel\" transform=\"matrix(1,0,0,1,234.487,161)\" font-family=\"Sans Serif\" font-size=\"9pt\" font-weight=\"400\" font-style=\"normal\"> <rect x=\"0\" y=\"0\" width=\"182.621\" height=\"80\"/> </g>      <g fill=\"#ffffff\" fill-opacity=\"1\" stroke=\"#ffffff\" stroke-opacity=\"1\" stroke-width=\"1\" stroke-linecap=\"square\" stroke-linejoin=\"bevel\" transform=\"matrix(1,0,0,1,253.487,161)\" font-family=\"Sans Serif\" font-size=\"9pt\" font-weight=\"400\" font-style=\"normal\"> <rect x=\"0\" y=\"0\" width=\"163.621\" height=\"16\"/> </g>      <g fill=\"#ffffff\" fill-opacity=\"1\" stroke=\"#ffffff\" stroke-opacity=\"1\" stroke-width=\"1\" stroke-linecap=\"square\" stroke-linejoin=\"bevel\" transform=\"matrix(1,0,0,1,253.487,177)\" font-family=\"Sans Serif\" font-size=\"9pt\" font-weight=\"400\" font-style=\"normal\"> <rect x=\"0\" y=\"0\" width=\"163.621\" height=\"64\"/> </g>      <g fill=\"#ffffff\" fill-opacity=\"1\" stroke=\"#ffffff\" stroke-opacity=\"1\" stroke-width=\"1\" stroke-linecap=\"square\" stroke-linejoin=\"bevel\" transform=\"matrix(1,0,0,1,266.487,177)\" font-family=\"Sans Serif\" font-size=\"9pt\" font-weight=\"400\" font-style=\"normal\"> <rect x=\"0\" y=\"0\" width=\"150.621\" height=\"48\"/> </g>      <g fill=\"#ffffff\" fill-opacity=\"1\" stroke=\"#ffffff\" stroke-opacity=\"1\" stroke-width=\"1\" stroke-linecap=\"square\" stroke-linejoin=\"bevel\" transform=\"matrix(1,0,0,1,279.487,177)\" font-family=\"Sans Serif\" font-size=\"9pt\" font-weight=\"400\" font-style=\"normal\"> <rect x=\"0\" y=\"0\" width=\"137.621\" height=\"32\"/> </g>      <g fill=\"#ffffff\" fill-opacity=\"1\" stroke=\"#ffffff\" stroke-opacity=\"1\" stroke-width=\"1\" stroke-linecap=\"square\" stroke-linejoin=\"bevel\" transform=\"matrix(1,0,0,1,316.954,177)\" font-family=\"Sans Serif\" font-size=\"9pt\" font-weight=\"400\" font-style=\"normal\"> <rect x=\"0\" y=\"0\" width=\"100.154\" height=\"16\"/> </g>      <g fill=\"#ffffff\" fill-opacity=\"1\" stroke=\"#ffffff\" stroke-opacity=\"1\" stroke-width=\"1\" stroke-linecap=\"square\" stroke-linejoin=\"bevel\" transform=\"matrix(1,0,0,1,316.954,193)\" font-family=\"Sans Serif\" font-size=\"9pt\" font-weight=\"400\" font-style=\"normal\"> <rect x=\"0\" y=\"0\" width=\"100.154\" height=\"16\"/> </g>      <g fill=\"#ffffff\" fill-opacity=\"1\" stroke=\"#ffffff\" stroke-opacity=\"1\" stroke-width=\"1\" stroke-linecap=\"square\" stroke-linejoin=\"bevel\" transform=\"matrix(1,0,0,1,279.487,209)\" font-family=\"Sans Serif\" font-size=\"9pt\" font-weight=\"400\" font-style=\"normal\"> <rect x=\"0\" y=\"0\" width=\"137.621\" height=\"16\"/> </g>      <g fill=\"#ffffff\" fill-opacity=\"1\" stroke=\"#ffffff\" stroke-opacity=\"1\" stroke-width=\"1\" stroke-linecap=\"square\" stroke-linejoin=\"bevel\" transform=\"matrix(1,0,0,1,266.487,225)\" font-family=\"Sans Serif\" font-size=\"9pt\" font-weight=\"400\" font-style=\"normal\"> <rect x=\"0\" y=\"0\" width=\"150.621\" height=\"16\"/> </g>                                                                                                                          <g fill=\"none\" stroke=\"#000000\" stroke-opacity=\"1\" stroke-width=\"1\" stroke-linecap=\"butt\" stroke-linejoin=\"bevel\" transform=\"matrix(1,0,0,1,1,1)\" font-family=\"Sans Serif\" font-size=\"9pt\" font-weight=\"400\" font-style=\"normal\"> <polyline fill=\"none\" vector-effect=\"non-scaling-stroke\" points=\"19,16 19,79.0625 \"/> </g>      <g fill=\"none\" stroke=\"#808080\" stroke-opacity=\"1\" stroke-dasharray=\"1,2\" stroke-dashoffset=\"0\" stroke-width=\"1\" stroke-linecap=\"butt\" stroke-linejoin=\"bevel\" transform=\"matrix(1,0,0,1,1,1)\" font-family=\"Sans Serif\" font-size=\"9pt\" font-weight=\"400\" font-style=\"normal\"> <polyline fill=\"none\" vector-effect=\"non-scaling-stroke\" points=\"0,47.5313 19,47.5313 \"/> </g>                    <g fill=\"none\" stroke=\"#8b0000\" stroke-opacity=\"1\" stroke-width=\"1\" stroke-linecap=\"square\" stroke-linejoin=\"bevel\" transform=\"matrix(1,0,0,1,1,48.5313)\" font-family=\"Arial\" font-size=\"8pt\" font-weight=\"400\" font-style=\"normal\"> <text fill=\"#8b0000\" fill-opacity=\"1\" stroke=\"none\" xml:space=\"preserve\" x=\"0\" y=\"10\" font-family=\"Arial\" font-size=\"8pt\" font-weight=\"400\" font-style=\"normal\">100</text> </g>          <g fill=\"none\" stroke=\"#000000\" stroke-opacity=\"1\" stroke-width=\"1\" stroke-linecap=\"butt\" stroke-linejoin=\"bevel\" transform=\"matrix(1,0,0,1,20,1)\" font-family=\"Sans Serif\" font-size=\"9pt\" font-weight=\"400\" font-style=\"normal\"> <polyline fill=\"none\" vector-effect=\"non-scaling-stroke\" points=\"41.2782,8 41.2782,24 \"/> </g>            <g fill=\"none\" stroke=\"#000000\" stroke-opacity=\"1\" stroke-width=\"1\" stroke-linecap=\"butt\" stroke-linejoin=\"bevel\" transform=\"matrix(1,0,0,1,20,1)\" font-family=\"Sans Serif\" font-size=\"9pt\" font-weight=\"400\" font-style=\"normal\"> <polyline fill=\"none\" vector-effect=\"non-scaling-stroke\" points=\"0,16 41.2782,16 \"/> </g>              <g fill=\"none\" stroke=\"#8b0000\" stroke-opacity=\"1\" stroke-width=\"1\" stroke-linecap=\"square\" stroke-linejoin=\"bevel\" transform=\"matrix(1,0,0,1,42.2782,17)\" font-family=\"Arial\" font-size=\"8pt\" font-weight=\"400\" font-style=\"normal\"> <text fill=\"#8b0000\" fill-opacity=\"1\" stroke=\"none\" xml:space=\"preserve\" x=\"0\" y=\"10\" font-family=\"Arial\" font-size=\"8pt\" font-weight=\"400\" font-style=\"normal\">100</text> </g>                <g fill=\"none\" stroke=\"#000000\" stroke-opacity=\"1\" stroke-width=\"1\" stroke-linecap=\"butt\" stroke-linejoin=\"bevel\" transform=\"matrix(1,0,0,1,61.2782,1)\" font-family=\"Sans Serif\" font-size=\"9pt\" font-weight=\"400\" font-style=\"normal\"> <polyline fill=\"none\" vector-effect=\"non-scaling-stroke\" points=\"0,8 138.34,8 \"/> </g>          <g fill=\"none\" stroke=\"#000000\" stroke-opacity=\"1\" stroke-width=\"1\" stroke-linecap=\"square\" stroke-linejoin=\"bevel\" transform=\"matrix(1,0,0,1,199.618,1)\" font-family=\"Verdana\" font-size=\"9pt\" font-weight=\"400\" font-style=\"normal\"> <text fill=\"#000000\" fill-opacity=\"1\" stroke=\"none\" xml:space=\"preserve\" x=\"0\" y=\"13\" font-family=\"Verdana\" font-size=\"9pt\" font-weight=\"400\" font-style=\"normal\">Xenopus</text> </g>                    <g fill=\"none\" stroke=\"#000000\" stroke-opacity=\"1\" stroke-width=\"1\" stroke-linecap=\"butt\" stroke-linejoin=\"bevel\" transform=\"matrix(1,0,0,1,61.2782,17)\" font-family=\"Sans Serif\" font-size=\"9pt\" font-weight=\"400\" font-style=\"normal\"> <polyline fill=\"none\" vector-effect=\"non-scaling-stroke\" points=\"0,8 116.139,8 \"/> </g>          <g fill=\"none\" stroke=\"#000000\" stroke-opacity=\"1\" stroke-width=\"1\" stroke-linecap=\"square\" stroke-linejoin=\"bevel\" transform=\"matrix(1,0,0,1,177.417,17)\" font-family=\"Verdana\" font-size=\"9pt\" font-weight=\"400\" font-style=\"normal\"> <text fill=\"#000000\" fill-opacity=\"1\" stroke=\"none\" xml:space=\"preserve\" x=\"0\" y=\"13\" font-family=\"Verdana\" font-size=\"9pt\" font-weight=\"400\" font-style=\"normal\">Chicken</text> </g>              <g fill=\"none\" stroke=\"#000000\" stroke-opacity=\"1\" stroke-width=\"1\" stroke-linecap=\"butt\" stroke-linejoin=\"bevel\" transform=\"matrix(1,0,0,1,20,33)\" font-family=\"Sans Serif\" font-size=\"9pt\" font-weight=\"400\" font-style=\"normal\"> <polyline fill=\"none\" vector-effect=\"non-scaling-stroke\" points=\"41.2782,16 41.2782,78.125 \"/> </g>            <g fill=\"none\" stroke=\"#000000\" stroke-opacity=\"1\" stroke-width=\"1\" stroke-linecap=\"butt\" stroke-linejoin=\"bevel\" transform=\"matrix(1,0,0,1,20,33)\" font-family=\"Sans Serif\" font-size=\"9pt\" font-weight=\"400\" font-style=\"normal\"> <polyline fill=\"none\" vector-effect=\"non-scaling-stroke\" points=\"0,47.0625 41.2782,47.0625 \"/> </g>              <g fill=\"none\" stroke=\"#8b0000\" stroke-opacity=\"1\" stroke-width=\"1\" stroke-linecap=\"square\" stroke-linejoin=\"bevel\" transform=\"matrix(1,0,0,1,42.2782,80.0625)\" font-family=\"Arial\" font-size=\"8pt\" font-weight=\"400\" font-style=\"normal\"> <text fill=\"#8b0000\" fill-opacity=\"1\" stroke=\"none\" xml:space=\"preserve\" x=\"0\" y=\"10\" font-family=\"Arial\" font-size=\"8pt\" font-weight=\"400\" font-style=\"normal\">100</text> </g>          <g fill=\"none\" stroke=\"#000000\" stroke-opacity=\"1\" stroke-width=\"1\" stroke-linecap=\"butt\" stroke-linejoin=\"bevel\" transform=\"matrix(1,0,0,1,61.2782,33)\" font-family=\"Sans Serif\" font-size=\"9pt\" font-weight=\"400\" font-style=\"normal\"> <polyline fill=\"none\" vector-effect=\"non-scaling-stroke\" points=\"71.5277,8 71.5277,24 \"/> </g>            <g fill=\"none\" stroke=\"#000000\" stroke-opacity=\"1\" stroke-width=\"1\" stroke-linecap=\"butt\" stroke-linejoin=\"bevel\" transform=\"matrix(1,0,0,1,61.2782,33)\" font-family=\"Sans Serif\" font-size=\"9pt\" font-weight=\"400\" font-style=\"normal\"> <polyline fill=\"none\" vector-effect=\"non-scaling-stroke\" points=\"0,16 71.5277,16 \"/> </g>              <g fill=\"none\" stroke=\"#8b0000\" stroke-opacity=\"1\" stroke-width=\"1\" stroke-linecap=\"square\" stroke-linejoin=\"bevel\" transform=\"matrix(1,0,0,1,113.806,49)\" font-family=\"Arial\" font-size=\"8pt\" font-weight=\"400\" font-style=\"normal\"> <text fill=\"#8b0000\" fill-opacity=\"1\" stroke=\"none\" xml:space=\"preserve\" x=\"0\" y=\"10\" font-family=\"Arial\" font-size=\"8pt\" font-weight=\"400\" font-style=\"normal\">100</text> </g>                <g fill=\"none\" stroke=\"#000000\" stroke-opacity=\"1\" stroke-width=\"1\" stroke-linecap=\"butt\" stroke-linejoin=\"bevel\" transform=\"matrix(1,0,0,1,132.806,33)\" font-family=\"Sans Serif\" font-size=\"9pt\" font-weight=\"400\" font-style=\"normal\"> <polyline fill=\"none\" vector-effect=\"non-scaling-stroke\" points=\"0,8 55.5981,8 \"/> </g>          <g fill=\"none\" stroke=\"#000000\" stroke-opacity=\"1\" stroke-width=\"1\" stroke-linecap=\"square\" stroke-linejoin=\"bevel\" transform=\"matrix(1,0,0,1,188.404,33)\" font-family=\"Verdana\" font-size=\"9pt\" font-weight=\"400\" font-style=\"normal\"> <text fill=\"#000000\" fill-opacity=\"1\" stroke=\"none\" xml:space=\"preserve\" x=\"0\" y=\"13\" font-family=\"Verdana\" font-size=\"9pt\" font-weight=\"400\" font-style=\"normal\">Bowfin</text> </g>                    <g fill=\"none\" stroke=\"#000000\" stroke-opacity=\"1\" stroke-width=\"1\" stroke-linecap=\"butt\" stroke-linejoin=\"bevel\" transform=\"matrix(1,0,0,1,132.806,49)\" font-family=\"Sans Serif\" font-size=\"9pt\" font-weight=\"400\" font-style=\"normal\"> <polyline fill=\"none\" vector-effect=\"non-scaling-stroke\" points=\"0,8 56.5735,8 \"/> </g>          <g fill=\"none\" stroke=\"#000000\" stroke-opacity=\"1\" stroke-width=\"1\" stroke-linecap=\"square\" stroke-linejoin=\"bevel\" transform=\"matrix(1,0,0,1,189.379,49)\" font-family=\"Verdana\" font-size=\"9pt\" font-weight=\"400\" font-style=\"normal\"> <text fill=\"#000000\" fill-opacity=\"1\" stroke=\"none\" xml:space=\"preserve\" x=\"0\" y=\"13\" font-family=\"Verdana\" font-size=\"9pt\" font-weight=\"400\" font-style=\"normal\">Gar</text> </g>              <g fill=\"none\" stroke=\"#000000\" stroke-opacity=\"1\" stroke-width=\"1\" stroke-linecap=\"butt\" stroke-linejoin=\"bevel\" transform=\"matrix(1,0,0,1,61.2782,65)\" font-family=\"Sans Serif\" font-size=\"9pt\" font-weight=\"400\" font-style=\"normal\"> <polyline fill=\"none\" vector-effect=\"non-scaling-stroke\" points=\"28.0773,16 28.0773,76.25 \"/> </g>            <g fill=\"none\" stroke=\"#000000\" stroke-opacity=\"1\" stroke-width=\"1\" stroke-linecap=\"butt\" stroke-linejoin=\"bevel\" transform=\"matrix(1,0,0,1,61.2782,65)\" font-family=\"Sans Serif\" font-size=\"9pt\" font-weight=\"400\" font-style=\"normal\"> <polyline fill=\"none\" vector-effect=\"non-scaling-stroke\" points=\"0,46.125 28.0773,46.125 \"/> </g>              <g fill=\"none\" stroke=\"#8b0000\" stroke-opacity=\"1\" stroke-width=\"1\" stroke-linecap=\"square\" stroke-linejoin=\"bevel\" transform=\"matrix(1,0,0,1,70.3555,111.125)\" font-family=\"Arial\" font-size=\"8pt\" font-weight=\"400\" font-style=\"normal\"> <text fill=\"#8b0000\" fill-opacity=\"1\" stroke=\"none\" xml:space=\"preserve\" x=\"0\" y=\"10\" font-family=\"Arial\" font-size=\"8pt\" font-weight=\"400\" font-style=\"normal\">100</text> </g>          <g fill=\"none\" stroke=\"#000000\" stroke-opacity=\"1\" stroke-width=\"1\" stroke-linecap=\"butt\" stroke-linejoin=\"bevel\" transform=\"matrix(1,0,0,1,89.3555,65)\" font-family=\"Sans Serif\" font-size=\"9pt\" font-weight=\"400\" font-style=\"normal\"> <polyline fill=\"none\" vector-effect=\"non-scaling-stroke\" points=\"64.4725,8 64.4725,24 \"/> </g>            <g fill=\"none\" stroke=\"#000000\" stroke-opacity=\"1\" stroke-width=\"1\" stroke-linecap=\"butt\" stroke-linejoin=\"bevel\" transform=\"matrix(1,0,0,1,89.3555,65)\" font-family=\"Sans Serif\" font-size=\"9pt\" font-weight=\"400\" font-style=\"normal\"> <polyline fill=\"none\" vector-effect=\"non-scaling-stroke\" points=\"0,16 64.4725,16 \"/> </g>              <g fill=\"none\" stroke=\"#8b0000\" stroke-opacity=\"1\" stroke-width=\"1\" stroke-linecap=\"square\" stroke-linejoin=\"bevel\" transform=\"matrix(1,0,0,1,134.828,81)\" font-family=\"Arial\" font-size=\"8pt\" font-weight=\"400\" font-style=\"normal\"> <text fill=\"#8b0000\" fill-opacity=\"1\" stroke=\"none\" xml:space=\"preserve\" x=\"0\" y=\"10\" font-family=\"Arial\" font-size=\"8pt\" font-weight=\"400\" font-style=\"normal\">100</text> </g>                <g fill=\"none\" stroke=\"#000000\" stroke-opacity=\"1\" stroke-width=\"1\" stroke-linecap=\"butt\" stroke-linejoin=\"bevel\" transform=\"matrix(1,0,0,1,153.828,65)\" font-family=\"Sans Serif\" font-size=\"9pt\" font-weight=\"400\" font-style=\"normal\"> <polyline fill=\"none\" vector-effect=\"non-scaling-stroke\" points=\"0,8 61.654,8 \"/> </g>          <g fill=\"none\" stroke=\"#000000\" stroke-opacity=\"1\" stroke-width=\"1\" stroke-linecap=\"square\" stroke-linejoin=\"bevel\" transform=\"matrix(1,0,0,1,215.482,65)\" font-family=\"Verdana\" font-size=\"9pt\" font-weight=\"400\" font-style=\"normal\"> <text fill=\"#000000\" fill-opacity=\"1\" stroke=\"none\" xml:space=\"preserve\" x=\"0\" y=\"13\" font-family=\"Verdana\" font-size=\"9pt\" font-weight=\"400\" font-style=\"normal\">Asian_bonytongue</text> </g>                    <g fill=\"none\" stroke=\"#000000\" stroke-opacity=\"1\" stroke-width=\"1\" stroke-linecap=\"butt\" stroke-linejoin=\"bevel\" transform=\"matrix(1,0,0,1,153.828,81)\" font-family=\"Sans Serif\" font-size=\"9pt\" font-weight=\"400\" font-style=\"normal\"> <polyline fill=\"none\" vector-effect=\"non-scaling-stroke\" points=\"0,8 72.6886,8 \"/> </g>          <g fill=\"none\" stroke=\"#000000\" stroke-opacity=\"1\" stroke-width=\"1\" stroke-linecap=\"square\" stroke-linejoin=\"bevel\" transform=\"matrix(1,0,0,1,226.517,81)\" font-family=\"Verdana\" font-size=\"9pt\" font-weight=\"400\" font-style=\"normal\"> <text fill=\"#000000\" fill-opacity=\"1\" stroke=\"none\" xml:space=\"preserve\" x=\"0\" y=\"13\" font-family=\"Verdana\" font-size=\"9pt\" font-weight=\"400\" font-style=\"normal\">Paramormyrops</text> </g>              <g fill=\"none\" stroke=\"#000000\" stroke-opacity=\"1\" stroke-width=\"1\" stroke-linecap=\"butt\" stroke-linejoin=\"bevel\" transform=\"matrix(1,0,0,1,89.3555,97)\" font-family=\"Sans Serif\" font-size=\"9pt\" font-weight=\"400\" font-style=\"normal\"> <polyline fill=\"none\" vector-effect=\"non-scaling-stroke\" points=\"31.0634,16 31.0634,72.5 \"/> </g>            <g fill=\"none\" stroke=\"#000000\" stroke-opacity=\"1\" stroke-width=\"1\" stroke-linecap=\"butt\" stroke-linejoin=\"bevel\" transform=\"matrix(1,0,0,1,89.3555,97)\" font-family=\"Sans Serif\" font-size=\"9pt\" font-weight=\"400\" font-style=\"normal\"> <polyline fill=\"none\" vector-effect=\"non-scaling-stroke\" points=\"0,44.25 31.0634,44.25 \"/> </g>              <g fill=\"none\" stroke=\"#8b0000\" stroke-opacity=\"1\" stroke-width=\"1\" stroke-linecap=\"square\" stroke-linejoin=\"bevel\" transform=\"matrix(1,0,0,1,101.419,141.25)\" font-family=\"Arial\" font-size=\"8pt\" font-weight=\"400\" font-style=\"normal\"> <text fill=\"#8b0000\" fill-opacity=\"1\" stroke=\"none\" xml:space=\"preserve\" x=\"0\" y=\"10\" font-family=\"Arial\" font-size=\"8pt\" font-weight=\"400\" font-style=\"normal\">100</text> </g>          <g fill=\"none\" stroke=\"#000000\" stroke-opacity=\"1\" stroke-width=\"1\" stroke-linecap=\"butt\" stroke-linejoin=\"bevel\" transform=\"matrix(1,0,0,1,120.419,97)\" font-family=\"Sans Serif\" font-size=\"9pt\" font-weight=\"400\" font-style=\"normal\"> <polyline fill=\"none\" vector-effect=\"non-scaling-stroke\" points=\"79.6721,8 79.6721,24 \"/> </g>            <g fill=\"none\" stroke=\"#000000\" stroke-opacity=\"1\" stroke-width=\"1\" stroke-linecap=\"butt\" stroke-linejoin=\"bevel\" transform=\"matrix(1,0,0,1,120.419,97)\" font-family=\"Sans Serif\" font-size=\"9pt\" font-weight=\"400\" font-style=\"normal\"> <polyline fill=\"none\" vector-effect=\"non-scaling-stroke\" points=\"0,16 79.6721,16 \"/> </g>              <g fill=\"none\" stroke=\"#8b0000\" stroke-opacity=\"1\" stroke-width=\"1\" stroke-linecap=\"square\" stroke-linejoin=\"bevel\" transform=\"matrix(1,0,0,1,181.091,113)\" font-family=\"Arial\" font-size=\"8pt\" font-weight=\"400\" font-style=\"normal\"> <text fill=\"#8b0000\" fill-opacity=\"1\" stroke=\"none\" xml:space=\"preserve\" x=\"0\" y=\"10\" font-family=\"Arial\" font-size=\"8pt\" font-weight=\"400\" font-style=\"normal\">100</text> </g>                <g fill=\"none\" stroke=\"#000000\" stroke-opacity=\"1\" stroke-width=\"1\" stroke-linecap=\"butt\" stroke-linejoin=\"bevel\" transform=\"matrix(1,0,0,1,200.091,97)\" font-family=\"Sans Serif\" font-size=\"9pt\" font-weight=\"400\" font-style=\"normal\"> <polyline fill=\"none\" vector-effect=\"non-scaling-stroke\" points=\"0,8 113.596,8 \"/> </g>          <g fill=\"none\" stroke=\"#000000\" stroke-opacity=\"1\" stroke-width=\"1\" stroke-linecap=\"square\" stroke-linejoin=\"bevel\" transform=\"matrix(1,0,0,1,313.687,97)\" font-family=\"Verdana\" font-size=\"9pt\" font-weight=\"400\" font-style=\"normal\"> <text fill=\"#000000\" fill-opacity=\"1\" stroke=\"none\" xml:space=\"preserve\" x=\"0\" y=\"13\" font-family=\"Verdana\" font-size=\"9pt\" font-weight=\"400\" font-style=\"normal\">Zebrafish</text> </g>                    <g fill=\"none\" stroke=\"#000000\" stroke-opacity=\"1\" stroke-width=\"1\" stroke-linecap=\"butt\" stroke-linejoin=\"bevel\" transform=\"matrix(1,0,0,1,200.091,113)\" font-family=\"Sans Serif\" font-size=\"9pt\" font-weight=\"400\" font-style=\"normal\"> <polyline fill=\"none\" vector-effect=\"non-scaling-stroke\" points=\"0,8 115.966,8 \"/> </g>          <g fill=\"none\" stroke=\"#000000\" stroke-opacity=\"1\" stroke-width=\"1\" stroke-linecap=\"square\" stroke-linejoin=\"bevel\" transform=\"matrix(1,0,0,1,316.056,113)\" font-family=\"Verdana\" font-size=\"9pt\" font-weight=\"400\" font-style=\"normal\"> <text fill=\"#000000\" fill-opacity=\"1\" stroke=\"none\" xml:space=\"preserve\" x=\"0\" y=\"13\" font-family=\"Verdana\" font-size=\"9pt\" font-weight=\"400\" font-style=\"normal\">Cavefish</text> </g>              <g fill=\"none\" stroke=\"#000000\" stroke-opacity=\"1\" stroke-width=\"1\" stroke-linecap=\"butt\" stroke-linejoin=\"bevel\" transform=\"matrix(1,0,0,1,120.419,129)\" font-family=\"Sans Serif\" font-size=\"9pt\" font-weight=\"400\" font-style=\"normal\"> <polyline fill=\"none\" vector-effect=\"non-scaling-stroke\" points=\"114.069,16 114.069,65 \"/> </g>            <g fill=\"none\" stroke=\"#000000\" stroke-opacity=\"1\" stroke-width=\"1\" stroke-linecap=\"butt\" stroke-linejoin=\"bevel\" transform=\"matrix(1,0,0,1,120.419,129)\" font-family=\"Sans Serif\" font-size=\"9pt\" font-weight=\"400\" font-style=\"normal\"> <polyline fill=\"none\" vector-effect=\"non-scaling-stroke\" points=\"0,40.5 114.069,40.5 \"/> </g>              <g fill=\"none\" stroke=\"#8b0000\" stroke-opacity=\"1\" stroke-width=\"1\" stroke-linecap=\"square\" stroke-linejoin=\"bevel\" transform=\"matrix(1,0,0,1,215.487,169.5)\" font-family=\"Arial\" font-size=\"8pt\" font-weight=\"400\" font-style=\"normal\"> <text fill=\"#8b0000\" fill-opacity=\"1\" stroke=\"none\" xml:space=\"preserve\" x=\"0\" y=\"10\" font-family=\"Arial\" font-size=\"8pt\" font-weight=\"400\" font-style=\"normal\">100</text> </g>          <g fill=\"none\" stroke=\"#000000\" stroke-opacity=\"1\" stroke-width=\"1\" stroke-linecap=\"butt\" stroke-linejoin=\"bevel\" transform=\"matrix(1,0,0,1,234.487,129)\" font-family=\"Sans Serif\" font-size=\"9pt\" font-weight=\"400\" font-style=\"normal\"> <polyline fill=\"none\" vector-effect=\"non-scaling-stroke\" points=\"33.852,8 33.852,24 \"/> </g>            <g fill=\"none\" stroke=\"#000000\" stroke-opacity=\"1\" stroke-width=\"1\" stroke-linecap=\"butt\" stroke-linejoin=\"bevel\" transform=\"matrix(1,0,0,1,234.487,129)\" font-family=\"Sans Serif\" font-size=\"9pt\" font-weight=\"400\" font-style=\"normal\"> <polyline fill=\"none\" vector-effect=\"non-scaling-stroke\" points=\"0,16 33.852,16 \"/> </g>              <g fill=\"none\" stroke=\"#8b0000\" stroke-opacity=\"1\" stroke-width=\"1\" stroke-linecap=\"square\" stroke-linejoin=\"bevel\" transform=\"matrix(1,0,0,1,249.339,145)\" font-family=\"Arial\" font-size=\"8pt\" font-weight=\"400\" font-style=\"normal\"> <text fill=\"#8b0000\" fill-opacity=\"1\" stroke=\"none\" xml:space=\"preserve\" x=\"0\" y=\"10\" font-family=\"Arial\" font-size=\"8pt\" font-weight=\"400\" font-style=\"normal\">100</text> </g>                <g fill=\"none\" stroke=\"#000000\" stroke-opacity=\"1\" stroke-width=\"1\" stroke-linecap=\"butt\" stroke-linejoin=\"bevel\" transform=\"matrix(1,0,0,1,268.339,129)\" font-family=\"Sans Serif\" font-size=\"9pt\" font-weight=\"400\" font-style=\"normal\"> <polyline fill=\"none\" vector-effect=\"non-scaling-stroke\" points=\"0,8 46.3946,8 \"/> </g>          <g fill=\"none\" stroke=\"#000000\" stroke-opacity=\"1\" stroke-width=\"1\" stroke-linecap=\"square\" stroke-linejoin=\"bevel\" transform=\"matrix(1,0,0,1,314.734,129)\" font-family=\"Verdana\" font-size=\"9pt\" font-weight=\"400\" font-style=\"normal\"> <text fill=\"#000000\" fill-opacity=\"1\" stroke=\"none\" xml:space=\"preserve\" x=\"0\" y=\"13\" font-family=\"Verdana\" font-size=\"9pt\" font-weight=\"400\" font-style=\"normal\">Fugu</text> </g>                    <g fill=\"none\" stroke=\"#000000\" stroke-opacity=\"1\" stroke-width=\"1\" stroke-linecap=\"butt\" stroke-linejoin=\"bevel\" transform=\"matrix(1,0,0,1,268.339,145)\" font-family=\"Sans Serif\" font-size=\"9pt\" font-weight=\"400\" font-style=\"normal\"> <polyline fill=\"none\" vector-effect=\"non-scaling-stroke\" points=\"0,8 44.3421,8 \"/> </g>          <g fill=\"none\" stroke=\"#000000\" stroke-opacity=\"1\" stroke-width=\"1\" stroke-linecap=\"square\" stroke-linejoin=\"bevel\" transform=\"matrix(1,0,0,1,312.681,145)\" font-family=\"Verdana\" font-size=\"9pt\" font-weight=\"400\" font-style=\"normal\"> <text fill=\"#000000\" fill-opacity=\"1\" stroke=\"none\" xml:space=\"preserve\" x=\"0\" y=\"13\" font-family=\"Verdana\" font-size=\"9pt\" font-weight=\"400\" font-style=\"normal\">Tetraodon</text> </g>              <g fill=\"none\" stroke=\"#000000\" stroke-opacity=\"1\" stroke-width=\"1\" stroke-linecap=\"butt\" stroke-linejoin=\"bevel\" transform=\"matrix(1,0,0,1,234.487,161)\" font-family=\"Sans Serif\" font-size=\"9pt\" font-weight=\"400\" font-style=\"normal\"> <polyline fill=\"none\" vector-effect=\"non-scaling-stroke\" points=\"19,7 19,58 \"/> </g>      <g fill=\"none\" stroke=\"#808080\" stroke-opacity=\"1\" stroke-dasharray=\"1,2\" stroke-dashoffset=\"0\" stroke-width=\"1\" stroke-linecap=\"butt\" stroke-linejoin=\"bevel\" transform=\"matrix(1,0,0,1,234.487,161)\" font-family=\"Sans Serif\" font-size=\"9pt\" font-weight=\"400\" font-style=\"normal\"> <polyline fill=\"none\" vector-effect=\"non-scaling-stroke\" points=\"6.24738,33 19,33 \"/> </g>      <g fill=\"none\" stroke=\"#000000\" stroke-opacity=\"1\" stroke-width=\"1\" stroke-linecap=\"butt\" stroke-linejoin=\"bevel\" transform=\"matrix(1,0,0,1,234.487,161)\" font-family=\"Sans Serif\" font-size=\"9pt\" font-weight=\"400\" font-style=\"normal\"> <polyline fill=\"none\" vector-effect=\"non-scaling-stroke\" points=\"0,33 6.24738,33 \"/> </g>              <g fill=\"none\" stroke=\"#8b0000\" stroke-opacity=\"1\" stroke-width=\"1\" stroke-linecap=\"square\" stroke-linejoin=\"bevel\" transform=\"matrix(1,0,0,1,234.487,194)\" font-family=\"Arial\" font-size=\"8pt\" font-weight=\"400\" font-style=\"normal\"> <text fill=\"#8b0000\" fill-opacity=\"1\" stroke=\"none\" xml:space=\"preserve\" x=\"0\" y=\"10\" font-family=\"Arial\" font-size=\"8pt\" font-weight=\"400\" font-style=\"normal\">100</text> </g>                <g fill=\"none\" stroke=\"#808080\" stroke-opacity=\"1\" stroke-width=\"2\" stroke-linecap=\"butt\" stroke-linejoin=\"bevel\" transform=\"matrix(1,0,0,1,253.487,161)\" font-family=\"Sans Serif\" font-size=\"9pt\" font-weight=\"400\" font-style=\"normal\"> <polyline fill=\"none\" vector-effect=\"none\" points=\"0,8 71.3362,8 \"/> </g>          <g fill=\"none\" stroke=\"#000000\" stroke-opacity=\"1\" stroke-width=\"1\" stroke-linecap=\"square\" stroke-linejoin=\"bevel\" transform=\"matrix(1,0,0,1,324.824,161)\" font-family=\"Verdana\" font-size=\"9pt\" font-weight=\"400\" font-style=\"normal\"> <text fill=\"#000000\" fill-opacity=\"1\" stroke=\"none\" xml:space=\"preserve\" x=\"0\" y=\"13\" font-family=\"Verdana\" font-size=\"9pt\" font-weight=\"400\" font-style=\"normal\">Stickleback</text> </g>              <g fill=\"none\" stroke=\"#000000\" stroke-opacity=\"1\" stroke-width=\"1\" stroke-linecap=\"butt\" stroke-linejoin=\"bevel\" transform=\"matrix(1,0,0,1,253.487,177)\" font-family=\"Sans Serif\" font-size=\"9pt\" font-weight=\"400\" font-style=\"normal\"> <polyline fill=\"none\" vector-effect=\"non-scaling-stroke\" points=\"13,28 13,56 \"/> </g>      <g fill=\"none\" stroke=\"#808080\" stroke-opacity=\"1\" stroke-dasharray=\"1,2\" stroke-dashoffset=\"0\" stroke-width=\"1\" stroke-linecap=\"butt\" stroke-linejoin=\"bevel\" transform=\"matrix(1,0,0,1,253.487,177)\" font-family=\"Sans Serif\" font-size=\"9pt\" font-weight=\"400\" font-style=\"normal\"> <polyline fill=\"none\" vector-effect=\"non-scaling-stroke\" points=\"3.9854,42 13,42 \"/> </g>      <g fill=\"none\" stroke=\"#000000\" stroke-opacity=\"1\" stroke-width=\"1\" stroke-linecap=\"butt\" stroke-linejoin=\"bevel\" transform=\"matrix(1,0,0,1,253.487,177)\" font-family=\"Sans Serif\" font-size=\"9pt\" font-weight=\"400\" font-style=\"normal\"> <polyline fill=\"none\" vector-effect=\"non-scaling-stroke\" points=\"0,42 3.9854,42 \"/> </g>              <g fill=\"none\" stroke=\"#8b0000\" stroke-opacity=\"1\" stroke-width=\"1\" stroke-linecap=\"square\" stroke-linejoin=\"bevel\" transform=\"matrix(1,0,0,1,253.487,219)\" font-family=\"Arial\" font-size=\"8pt\" font-weight=\"400\" font-style=\"normal\"> <text fill=\"#8b0000\" fill-opacity=\"1\" stroke=\"none\" xml:space=\"preserve\" x=\"0\" y=\"10\" font-family=\"Arial\" font-size=\"8pt\" font-weight=\"400\" font-style=\"normal\">79</text> </g>          <g fill=\"none\" stroke=\"#000000\" stroke-opacity=\"1\" stroke-width=\"1\" stroke-linecap=\"butt\" stroke-linejoin=\"bevel\" transform=\"matrix(1,0,0,1,266.487,177)\" font-family=\"Sans Serif\" font-size=\"9pt\" font-weight=\"400\" font-style=\"normal\"> <polyline fill=\"none\" vector-effect=\"non-scaling-stroke\" points=\"13,16 13,40 \"/> </g>      <g fill=\"none\" stroke=\"#808080\" stroke-opacity=\"1\" stroke-dasharray=\"1,2\" stroke-dashoffset=\"0\" stroke-width=\"1\" stroke-linecap=\"butt\" stroke-linejoin=\"bevel\" transform=\"matrix(1,0,0,1,266.487,177)\" font-family=\"Sans Serif\" font-size=\"9pt\" font-weight=\"400\" font-style=\"normal\"> <polyline fill=\"none\" vector-effect=\"non-scaling-stroke\" points=\"5.26001,28 13,28 \"/> </g>      <g fill=\"none\" stroke=\"#000000\" stroke-opacity=\"1\" stroke-width=\"1\" stroke-linecap=\"butt\" stroke-linejoin=\"bevel\" transform=\"matrix(1,0,0,1,266.487,177)\" font-family=\"Sans Serif\" font-size=\"9pt\" font-weight=\"400\" font-style=\"normal\"> <polyline fill=\"none\" vector-effect=\"non-scaling-stroke\" points=\"0,28 5.26001,28 \"/> </g>              <g fill=\"none\" stroke=\"#8b0000\" stroke-opacity=\"1\" stroke-width=\"1\" stroke-linecap=\"square\" stroke-linejoin=\"bevel\" transform=\"matrix(1,0,0,1,266.487,205)\" font-family=\"Arial\" font-size=\"8pt\" font-weight=\"400\" font-style=\"normal\"> <text fill=\"#8b0000\" fill-opacity=\"1\" stroke=\"none\" xml:space=\"preserve\" x=\"0\" y=\"10\" font-family=\"Arial\" font-size=\"8pt\" font-weight=\"400\" font-style=\"normal\">56</text> </g>          <g fill=\"none\" stroke=\"#000000\" stroke-opacity=\"1\" stroke-width=\"1\" stroke-linecap=\"butt\" stroke-linejoin=\"bevel\" transform=\"matrix(1,0,0,1,279.487,177)\" font-family=\"Sans Serif\" font-size=\"9pt\" font-weight=\"400\" font-style=\"normal\"> <polyline fill=\"none\" vector-effect=\"non-scaling-stroke\" points=\"37.4663,8 37.4663,24 \"/> </g>            <g fill=\"none\" stroke=\"#000000\" stroke-opacity=\"1\" stroke-width=\"1\" stroke-linecap=\"butt\" stroke-linejoin=\"bevel\" transform=\"matrix(1,0,0,1,279.487,177)\" font-family=\"Sans Serif\" font-size=\"9pt\" font-weight=\"400\" font-style=\"normal\"> <polyline fill=\"none\" vector-effect=\"non-scaling-stroke\" points=\"0,16 37.4663,16 \"/> </g>              <g fill=\"none\" stroke=\"#8b0000\" stroke-opacity=\"1\" stroke-width=\"1\" stroke-linecap=\"square\" stroke-linejoin=\"bevel\" transform=\"matrix(1,0,0,1,297.954,193)\" font-family=\"Arial\" font-size=\"8pt\" font-weight=\"400\" font-style=\"normal\"> <text fill=\"#8b0000\" fill-opacity=\"1\" stroke=\"none\" xml:space=\"preserve\" x=\"0\" y=\"10\" font-family=\"Arial\" font-size=\"8pt\" font-weight=\"400\" font-style=\"normal\">100</text> </g>                <g fill=\"none\" stroke=\"#000000\" stroke-opacity=\"1\" stroke-width=\"1\" stroke-linecap=\"butt\" stroke-linejoin=\"bevel\" transform=\"matrix(1,0,0,1,316.954,177)\" font-family=\"Sans Serif\" font-size=\"9pt\" font-weight=\"400\" font-style=\"normal\"> <polyline fill=\"none\" vector-effect=\"non-scaling-stroke\" points=\"0,8 19.3944,8 \"/> </g>          <g fill=\"none\" stroke=\"#000000\" stroke-opacity=\"1\" stroke-width=\"1\" stroke-linecap=\"square\" stroke-linejoin=\"bevel\" transform=\"matrix(1,0,0,1,336.348,177)\" font-family=\"Verdana\" font-size=\"9pt\" font-weight=\"400\" font-style=\"normal\"> <text fill=\"#000000\" fill-opacity=\"1\" stroke=\"none\" xml:space=\"preserve\" x=\"0\" y=\"13\" font-family=\"Verdana\" font-size=\"9pt\" font-weight=\"400\" font-style=\"normal\">Platyfish</text> </g>                    <g fill=\"none\" stroke=\"#000000\" stroke-opacity=\"1\" stroke-width=\"1\" stroke-linecap=\"butt\" stroke-linejoin=\"bevel\" transform=\"matrix(1,0,0,1,316.954,193)\" font-family=\"Sans Serif\" font-size=\"9pt\" font-weight=\"400\" font-style=\"normal\"> <polyline fill=\"none\" vector-effect=\"non-scaling-stroke\" points=\"0,8 11.1543,8 \"/> </g>          <g fill=\"none\" stroke=\"#000000\" stroke-opacity=\"1\" stroke-width=\"1\" stroke-linecap=\"square\" stroke-linejoin=\"bevel\" transform=\"matrix(1,0,0,1,328.108,193)\" font-family=\"Verdana\" font-size=\"9pt\" font-weight=\"400\" font-style=\"normal\"> <text fill=\"#000000\" fill-opacity=\"1\" stroke=\"none\" xml:space=\"preserve\" x=\"0\" y=\"13\" font-family=\"Verdana\" font-size=\"9pt\" font-weight=\"400\" font-style=\"normal\">Amazon_molly</text> </g>                    <g fill=\"none\" stroke=\"#000000\" stroke-opacity=\"1\" stroke-width=\"1\" stroke-linecap=\"butt\" stroke-linejoin=\"bevel\" transform=\"matrix(1,0,0,1,279.487,209)\" font-family=\"Sans Serif\" font-size=\"9pt\" font-weight=\"400\" font-style=\"normal\"> <polyline fill=\"none\" vector-effect=\"non-scaling-stroke\" points=\"0,8 70.0197,8 \"/> </g>          <g fill=\"none\" stroke=\"#000000\" stroke-opacity=\"1\" stroke-width=\"1\" stroke-linecap=\"square\" stroke-linejoin=\"bevel\" transform=\"matrix(1,0,0,1,349.507,209)\" font-family=\"Verdana\" font-size=\"9pt\" font-weight=\"400\" font-style=\"normal\"> <text fill=\"#000000\" fill-opacity=\"1\" stroke=\"none\" xml:space=\"preserve\" x=\"0\" y=\"13\" font-family=\"Verdana\" font-size=\"9pt\" font-weight=\"400\" font-style=\"normal\">Medaka</text> </g>                    <g fill=\"none\" stroke=\"#000000\" stroke-opacity=\"1\" stroke-width=\"1\" stroke-linecap=\"butt\" stroke-linejoin=\"bevel\" transform=\"matrix(1,0,0,1,266.487,225)\" font-family=\"Sans Serif\" font-size=\"9pt\" font-weight=\"400\" font-style=\"normal\"> <polyline fill=\"none\" vector-effect=\"non-scaling-stroke\" points=\"0,8 54.9339,8 \"/> </g>          <g fill=\"none\" stroke=\"#000000\" stroke-opacity=\"1\" stroke-width=\"1\" stroke-linecap=\"square\" stroke-linejoin=\"bevel\" transform=\"matrix(1,0,0,1,321.421,225)\" font-family=\"Verdana\" font-size=\"9pt\" font-weight=\"400\" font-style=\"normal\"> <text fill=\"#000000\" fill-opacity=\"1\" stroke=\"none\" xml:space=\"preserve\" x=\"0\" y=\"13\" font-family=\"Verdana\" font-size=\"9pt\" font-weight=\"400\" font-style=\"normal\">Tilapia</text> </g>                                                                                                                                  <g fill=\"none\" stroke=\"#000000\" stroke-opacity=\"1\" stroke-width=\"1\" stroke-linecap=\"square\" stroke-linejoin=\"bevel\" transform=\"matrix(1,0,0,1,1,242)\" font-family=\"Sans Serif\" font-size=\"9pt\" font-weight=\"400\" font-style=\"normal\"> <polyline fill=\"none\" vector-effect=\"none\" points=\"0,5 50,5 \"/> </g>      <g fill=\"none\" stroke=\"#000000\" stroke-opacity=\"1\" stroke-width=\"1\" stroke-linecap=\"square\" stroke-linejoin=\"bevel\" transform=\"matrix(1,0,0,1,1,242)\" font-family=\"Sans Serif\" font-size=\"9pt\" font-weight=\"400\" font-style=\"normal\"> <polyline fill=\"none\" vector-effect=\"none\" points=\"0,0 0,10 \"/> </g>      <g fill=\"none\" stroke=\"#000000\" stroke-opacity=\"1\" stroke-width=\"1\" stroke-linecap=\"square\" stroke-linejoin=\"bevel\" transform=\"matrix(1,0,0,1,1,242)\" font-family=\"Sans Serif\" font-size=\"9pt\" font-weight=\"400\" font-style=\"normal\"> <polyline fill=\"none\" vector-effect=\"none\" points=\"50,0 50,10 \"/> </g>      <g fill=\"none\" stroke=\"#000000\" stroke-opacity=\"1\" stroke-width=\"1\" stroke-linecap=\"square\" stroke-linejoin=\"bevel\" transform=\"matrix(1,0,0,1,1,252)\" font-family=\"Sans Serif\" font-size=\"9pt\" font-weight=\"400\" font-style=\"normal\"> <text fill=\"#000000\" fill-opacity=\"1\" stroke=\"none\" xml:space=\"preserve\" x=\"0\" y=\"12\" font-family=\"Sans Serif\" font-size=\"9pt\" font-weight=\"400\" font-style=\"normal\">0.083555</text> </g>     </g> </svg>"
      ],
      "text/plain": [
       "<IPython.core.display.SVG object>"
      ]
     },
     "execution_count": 30,
     "metadata": {},
     "output_type": "execute_result"
    }
   ],
   "source": [
    "from IPython.core.display import SVG\n",
    "SVG(filename=f'output/{METHOD}_tree.svg')"
   ]
  },
  {
   "cell_type": "markdown",
   "metadata": {},
   "source": [
    "### Branch length differences  <a name=\"brlen\"></a>"
   ]
  },
  {
   "cell_type": "markdown",
   "metadata": {},
   "source": [
    "Here we'll used the stored branch length differences extracted from bootstraped trees to compute the 95% bootstrap intervals :"
   ]
  },
  {
   "cell_type": "code",
   "execution_count": 31,
   "metadata": {},
   "outputs": [
    {
     "name": "stdout",
     "output_type": "stream",
     "text": [
      "95% bootstrap interval for branch Bowfin - branch Gar :\n",
      "[-0.009521223614999998, 0.006221987310000003]\n",
      "Bootstrap interval includes 0 : no significant difference.\n",
      "\n",
      "\n",
      "95% bootstrap interval for branch Bowfin - branch Zebrafish :\n",
      "[-0.222994836085, -0.19753980075]\n",
      "Zebrafish has a significantly longer branch length than Bowfin.\n",
      "\n",
      "\n",
      "95% bootstrap interval for branch Bowfin - branch Fugu :\n",
      "[-0.224922237915, -0.201447414225]\n",
      "Fugu has a significantly longer branch length than Bowfin.\n",
      "\n",
      "\n",
      "95% bootstrap interval for branch Bowfin - branch Asian_bonytongue :\n",
      "[-0.06572225688000001, -0.03833848607499998]\n",
      "Asian_bonytongue has a significantly longer branch length than Bowfin.\n",
      "\n",
      "\n"
     ]
    }
   ],
   "source": [
    "for sp_pair in brlen_diff:\n",
    "    diff_bl = brlen_diff[sp_pair]\n",
    "    lval = np.percentile(diff_bl, (0.05 / 2) * 100)\n",
    "    uval = np.percentile(diff_bl, (0.95 + (0.05 / 2)) * 100)\n",
    "    print(f'95% bootstrap interval for branch {sp_pair[0]} - branch {sp_pair[1]} :')\n",
    "    print([lval, uval])\n",
    "    if lval < 0 and uval > 0:\n",
    "        print(\"Bootstrap interval includes 0 : no significant difference.\")\n",
    "    elif lval < 0:\n",
    "        print(f\"{sp_pair[1]} has a significantly longer branch length than {sp_pair[0]}.\")\n",
    "    else:\n",
    "        print(f\"{sp_pair[0]} has a significantly longer branch length than {sp_pair[1]}.\")\n",
    "        \n",
    "    print('\\n')"
   ]
  }
 ],
 "metadata": {
  "kernelspec": {
   "display_name": "Python [conda env:bowfin_env]",
   "language": "python",
   "name": "conda-env-bowfin_env-py"
  },
  "language_info": {
   "codemirror_mode": {
    "name": "ipython",
    "version": 3
   },
   "file_extension": ".py",
   "mimetype": "text/x-python",
   "name": "python",
   "nbconvert_exporter": "python",
   "pygments_lexer": "ipython3",
   "version": "3.9.0"
  }
 },
 "nbformat": 4,
 "nbformat_minor": 4
}
