{
 "cells": [
  {
   "cell_type": "markdown",
   "metadata": {},
   "source": [
    "# Phylogeny of 13 ray-finned fish based on gene order data"
   ]
  },
  {
   "cell_type": "markdown",
   "metadata": {},
   "source": [
    "This notebook documents the code and procedure used to establish the **gene-order-based phylogeny of ray-finned fish** presented in the **[the bowfin genome paper](https://www.researchsquare.com/article/rs-92055/v1)**. This phylogeny supports the **Holostei hypothesis** of ray-finned fish evolution, which defines **the bowfin and spotted gar as sister groups**. The notebook is a mixed-languages jupyter notebook including both **python and R** code."
   ]
  },
  {
   "cell_type": "markdown",
   "metadata": {},
   "source": [
    "# Table of contents\n",
    "\n",
    "- [Libraries and packages](#libraries-and-packages)\n",
    "    - [External dependencies](#external-dependencies)\n",
    "    - [Custom python modules](#custom-python-modules)\n",
    "- [Input data description](#input-data-description)\n",
    "- [Gene order phylogeny](#gene-order-phylogeny)\n",
    "    - [Marker genes selection](#marker-genes-selection)\n",
    "    - [Adjacencies extraction](#adjacencies-extraction)\n",
    "    - [Distance matrix computation](#distance-matrix-computation)\n",
    "    - [Neighbor-joining tree reconstruction (and alternatives)](#neighbor-joining-tree-reconstruction)\n",
    "    - [Bootstrap support](#bootstrap-support)\n",
    "    - [Branch length differences](#brlen)"
   ]
  },
  {
   "cell_type": "markdown",
   "metadata": {},
   "source": [
    "## Libraries and packages <a name=\"libraries-and-packages\"></a>"
   ]
  },
  {
   "cell_type": "markdown",
   "metadata": {},
   "source": [
    "All external dependencies required to run the analysis are listed below, with exact versions as specified in the `binder/environment.yml` file, which includes both python packages and R libraries. Custom python modules are also stored in the `modules/` folder."
   ]
  },
  {
   "cell_type": "markdown",
   "metadata": {},
   "source": [
    "### External dependencies <a name=\"external-dependencies\"></a>"
   ]
  },
  {
   "cell_type": "code",
   "execution_count": null,
   "metadata": {},
   "outputs": [],
   "source": [
    "#Standard imports\n",
    "import os\n",
    "import itertools\n",
    "import glob\n",
    "import bz2\n",
    "from collections import defaultdict\n",
    "\n",
    "import random\n",
    "#random.seed(1234) #Uncomment to set a random seed (for reproducible bootstrap)"
   ]
  },
  {
   "cell_type": "code",
   "execution_count": null,
   "metadata": {},
   "outputs": [],
   "source": [
    "#Gene tree manipulation\n",
    "from Bio import Phylo\n",
    "from Bio.Phylo.Consensus import majority_consensus,get_support\n",
    "from ete3 import Tree, NodeStyle, TreeStyle,TextFace, AttrFace,faces"
   ]
  },
  {
   "cell_type": "code",
   "execution_count": null,
   "metadata": {},
   "outputs": [],
   "source": [
    "#Data loading and plotting\n",
    "import pandas as pd\n",
    "import numpy as np\n",
    "import matplotlib.pyplot as plt\n",
    "import seaborn as sns; sns.set_style(\"white\")"
   ]
  },
  {
   "cell_type": "code",
   "execution_count": null,
   "metadata": {},
   "outputs": [],
   "source": [
    "#Use R in python\n",
    "%load_ext rpy2.ipython"
   ]
  },
  {
   "cell_type": "code",
   "execution_count": null,
   "metadata": {},
   "outputs": [],
   "source": [
    "%%R \n",
    "library('ape')"
   ]
  },
  {
   "cell_type": "markdown",
   "metadata": {},
   "source": [
    "### Custom python modules <a name=\"custom-python-modules\"></a>"
   ]
  },
  {
   "cell_type": "code",
   "execution_count": null,
   "metadata": {},
   "outputs": [],
   "source": [
    "#Load my python code\n",
    "%run modules/genomes.py\n",
    "%run modules/adjacencies.py\n",
    "%run modules/matrix.py\n",
    "%run modules/bootstrap.py"
   ]
  },
  {
   "cell_type": "markdown",
   "metadata": {},
   "source": [
    "## Input data description  <a name=\"input-data-description\"></a>"
   ]
  },
  {
   "cell_type": "markdown",
   "metadata": {},
   "source": [
    "All input data are stored in `data/gene_order_phylogeny/`."
   ]
  },
  {
   "cell_type": "markdown",
   "metadata": {},
   "source": [
    "It includes an `ancGenes` file defining **gene families**, and files with **gene coordinates**, both in the **dyogen format**. Briefly, gene families were defined from gene trees built with the TreeBeST pipeline, including a total of 78 genomes and 55 ray-finned fish (*internally designated as GoodThreshold Genomicus V2 data*). In what follows, a subset of the gene families, containing the **13 selected ray-finned fish** and **2 outgroups** (chicken and xenopus) is extracted. This dataset is then used for all analyses."
   ]
  },
  {
   "cell_type": "code",
   "execution_count": null,
   "metadata": {},
   "outputs": [],
   "source": [
    "! tree data/gene_order_phylogeny/"
   ]
  },
  {
   "cell_type": "markdown",
   "metadata": {},
   "source": [
    "- Define global variables for paths to input data:"
   ]
  },
  {
   "cell_type": "code",
   "execution_count": null,
   "metadata": {},
   "outputs": [],
   "source": [
    "FAMILIES = \"data/gene_order_phylogeny/ancGenes.Euteleostomi.list.bz2\"\n",
    "GENES = \"data/gene_order_phylogeny/genes.%s.list.bz2\""
   ]
  },
  {
   "cell_type": "markdown",
   "metadata": {},
   "source": [
    "## Gene order phylogeny <a name=\"gene-order-phylogeny\"></a>"
   ]
  },
  {
   "cell_type": "markdown",
   "metadata": {},
   "source": [
    "The gene order phylogeny is built in 5 steps detailed below. First, a **selection of marker genes** is conducted to limit the effect of differential gene content. The genomes are then reduced to these marker genes and **gene adjacencies** are stored. Next, a **distance matrix** then a **neighbor-joining tree** are built. Finally, **bootstrap** is perfomed to add support to nodes of the phylogeny.\n",
    "\n",
    "*Note: the code below writes a lot of intermediary files that may seem unnecessary. These were initally used for additional unpublished controls and analyses.*\n",
    "\n",
    "All outputs are stored in `output/`."
   ]
  },
  {
   "cell_type": "code",
   "execution_count": null,
   "metadata": {},
   "outputs": [],
   "source": [
    "os.makedirs(\"output\", exist_ok=True)"
   ]
  },
  {
   "cell_type": "markdown",
   "metadata": {},
   "source": [
    "### Marker genes selection <a name=\"marker-genes-selection\"></a>"
   ]
  },
  {
   "cell_type": "markdown",
   "metadata": {},
   "source": [
    "Because the selected species contain teleost species that underwent a common whole-genome duplication event, we retained only gene families with exactly one gene copy in non-duplicated genomes and one or two gene copies in duplicated genomes. Corresponding custom functions can be found in `modules/genomes.py`."
   ]
  },
  {
   "cell_type": "code",
   "execution_count": null,
   "metadata": {},
   "outputs": [],
   "source": [
    "#Global variable with all species name\n",
    "ALL_SPECIES = ['Gallus gallus','Xenopus tropicalis','Lepisosteus oculatus', 'Amia calva', 'Paramormyrops kingsleyae','Scleropages formosus', 'Astyanax mexicanus','Danio rerio','Gasterosteus aculeatus', 'Tetraodon nigroviridis', 'Takifugu rubripes', 'Oreochromis niloticus', 'Oryzias latipes', 'Poecilia formosa', 'Xiphophorus maculatus']\n",
    "\n",
    "#Global variable with latin to common name correspondance (for plots)\n",
    "SP_DICT = {'Gallus':'Chicken', 'Xenopus':'Xenopus', 'Lepisosteus':'Gar', 'Amia':'Bowfin', 'Paramormyrops':'Paramormyrops', 'Scleropages':'Asian bonytongue', 'Astyanax':'Cavefish', 'Danio':'Zebrafish', 'Gasterosteus':'Stickleback', 'Tetraodon':'Tetraodon', 'Takifugu':'Fugu', 'Oreochromis':'Tilapia', 'Oryzias':'Medaka', 'Poecilia':'Amazon molly', 'Xiphophorus':'Platyfish'}\n",
    "\n",
    "#Global variable with name of non-duplicated species (non-teleost)\n",
    "NON_DUP = ['Lepisosteus oculatus', 'Amia calva', 'Gallus gallus', 'Xenopus tropicalis']\n",
    "\n",
    "# Build a dict containing genes of all study species\n",
    "all_sp_genes, genes_on_random_contig = {}, set()\n",
    "for sp in ALL_SPECIES:\n",
    "    sp = sp.replace(' ','.')\n",
    "    genefile = GENES % (sp)\n",
    "    all_sp_genes[sp], tmp_genes_on_random_contig = extract_all_genes(genefile)\n",
    "    genes_on_random_contig.update(tmp_genes_on_random_contig)"
   ]
  },
  {
   "cell_type": "code",
   "execution_count": null,
   "metadata": {},
   "outputs": [],
   "source": [
    "# Filter gene families to retain (1-to-1 or 1-to-2 for duplicated species)\n",
    "filter_families(all_sp_genes, NON_DUP, 'data/gene_order_phylogeny/ancGenes.Euteleostomi.list.bz2', 'output/ancGenes.Euteleostomi.filtered')"
   ]
  },
  {
   "cell_type": "code",
   "execution_count": null,
   "metadata": {},
   "outputs": [],
   "source": [
    "# Write reduced genomes, i.e. containing only retained families, in fasta format\n",
    "name_families, unRAND = read('output/ancGenes.Euteleostomi.filtered', genes_on_random_contig) \n",
    "write_genomes(name_families, GENES, ALL_SPECIES, 'output/mygenomes.fa')"
   ]
  },
  {
   "cell_type": "markdown",
   "metadata": {},
   "source": [
    "At the end of this step, `output/ancGenes.Euteleostomi.filtered` stores the selected marker gene families and `output/mygenomes.fa` stores marker genes order in the 15 selected species."
   ]
  },
  {
   "cell_type": "markdown",
   "metadata": {},
   "source": [
    "### Adjacencies extraction <a name=\"adjacencies-extraction\"></a>"
   ]
  },
  {
   "cell_type": "markdown",
   "metadata": {},
   "source": [
    "This step consists in a simple parsing of the multiple genomes fasta file, to extract sets of **gene adjacencies** present in each species. Corresponding custom functions can be found in `modules/adjacencies.py`."
   ]
  },
  {
   "cell_type": "code",
   "execution_count": null,
   "metadata": {},
   "outputs": [],
   "source": [
    "#Load genomes in a dict\n",
    "d_seq = load_genomes(\"output/mygenomes.fa\")"
   ]
  },
  {
   "cell_type": "markdown",
   "metadata": {},
   "source": [
    "**First pass extraction**"
   ]
  },
  {
   "cell_type": "code",
   "execution_count": null,
   "metadata": {},
   "outputs": [],
   "source": [
    "#Save all adjacencies for all species and in each direction. For instance, (-1,2) is equivalent to (-2,1).\n",
    "adj_list, adj_list_rev = save_all_adj(d_seq)"
   ]
  },
  {
   "cell_type": "markdown",
   "metadata": {},
   "source": [
    "**Final extraction** : filter out tetraodon adjacencies on random contig that are in no other species (UnRandom is a contig with all scaffolds chained in a random order)."
   ]
  },
  {
   "cell_type": "code",
   "execution_count": null,
   "metadata": {},
   "outputs": [],
   "source": [
    "#Write adjacencies in a binary absence/presence matrix and filter tetraodon adjacencies (save them in 'to_ign')\n",
    "all_adj, to_ign = make_binary_adj_matrix(adj_list, adj_list_rev, ALL_SPECIES, unrandom=unRAND, sp_with_rm=\"Tetraodon nigroviridis\")\n",
    "\n",
    "#Also filter out tetraodon adjacencies from the adjacencies dict\n",
    "adj_list, adj_list_rev = save_all_adj(d_seq, to_ignore=to_ign, sp_with_ign=\"Tetraodon nigroviridis\")"
   ]
  },
  {
   "cell_type": "markdown",
   "metadata": {},
   "source": [
    "The dictionnaries `adj_list` and `adj_list_rev` store the complete sets of gene adjacencies in each species, while `all_adj` stores it in a binary absence/presence matrix."
   ]
  },
  {
   "cell_type": "markdown",
   "metadata": {},
   "source": [
    "### Distance matrix computation <a name=\"distance-matrix-computation\"></a>"
   ]
  },
  {
   "cell_type": "markdown",
   "metadata": {},
   "source": [
    "Corresponding custom functions for this part can be found in `modules/matrix.py`.\n",
    "\n",
    "Two strategies can be used to compute the pairwise distance :\n",
    " - the 'simple' normalized breakpoint distance\n",
    " - the normalized breakpoint distance corrected for post-WGD fractionation (massive gene losses displacing ancestrally adjacent genes on different paraologons)\n",
    " \n",
    "The normalized breakpoint distance NBD is computed as follows : NBD = (1 - proportion of shared adjacencies). The correction for disruption of adjacencies through gene losses considers relaxed adjacencies between duplicated and non-duplicated species (see the documentation of `correct_frac_bias` in `modules/matrix.py`)."
   ]
  },
  {
   "cell_type": "markdown",
   "metadata": {},
   "source": [
    "- Select the strategy below:"
   ]
  },
  {
   "cell_type": "code",
   "execution_count": null,
   "metadata": {},
   "outputs": [],
   "source": [
    "CORRECT_FOR_FRAC_BIAS = False #set to True to use the correction for post-WGD fractionation"
   ]
  },
  {
   "cell_type": "markdown",
   "metadata": {},
   "source": [
    "- Compute all pairwise distances and build the distance matrix:"
   ]
  },
  {
   "cell_type": "code",
   "execution_count": null,
   "metadata": {},
   "outputs": [],
   "source": [
    "if CORRECT_FOR_FRAC_BIAS:\n",
    "    correct_frac_bias(adj_list, adj_list_rev, ALL_SPECIES, d_seq, NON_DUP) #not optimized, may take ~1min\n",
    "\n",
    "# build the distance matrix, plot it, and write it to file 'output/dist_mat'\n",
    "make_distance_matrix(adj_list, adj_list_rev, SP_DICT, ALL_SPECIES)"
   ]
  },
  {
   "cell_type": "markdown",
   "metadata": {},
   "source": [
    "The file `output/dist_mat` stores the computed distance matrix."
   ]
  },
  {
   "cell_type": "markdown",
   "metadata": {},
   "source": [
    "### Neighbor-joining tree reconstruction <a name=\"neighbor-joining-tree-reconstruction\"></a>"
   ]
  },
  {
   "cell_type": "markdown",
   "metadata": {},
   "source": [
    "Use the `ape` R library to build a neighbor-joining tree from the distance matrix."
   ]
  },
  {
   "cell_type": "code",
   "execution_count": null,
   "metadata": {},
   "outputs": [],
   "source": [
    "%%R \n",
    "\n",
    "tree_methods <- function(dist.mat, method=c(\"NJ\", \"FASTME\", \"UPGMA\")){\n",
    "    \n",
    "    method <- match.arg(method)\n",
    "    \n",
    "    #build tree\n",
    "    if (method == \"NJ\"){\n",
    "        tree <- bionj(dist.mat)\n",
    "    }\n",
    "    \n",
    "    if (method == \"FASTME\"){\n",
    "        tree <- fastme.bal(dist.mat)\n",
    "        tree <- root(tree, outgroup=c('Xenopus', 'Chicken'), resolve.root=TRUE) # root using the outgroups\n",
    "    }\n",
    "    \n",
    "    if (method == \"UPGMA\"){\n",
    "        dist.mat <- as.dist(dist.mat)\n",
    "        tree <- as.phylo(hclust(dist.mat, \"average\")) # upgma() in phangorn \n",
    "    }\n",
    "    return(tree)\n",
    "}"
   ]
  },
  {
   "cell_type": "code",
   "execution_count": null,
   "metadata": {},
   "outputs": [],
   "source": [
    "%%R\n",
    "\n",
    "build_tree <- function(method=c(\"NJ\", \"FASTME\", \"UPGMA\")){\n",
    "\n",
    "    method <- match.arg(method)\n",
    "    \n",
    "    #reformat the distance matrix\n",
    "    dist.mat <- read.table('output/dist_mat', header = TRUE, sep = \"\", skip = 0)\n",
    "    rownames(dist.mat) <- colnames(dist.mat)\n",
    "    dist.mat <- as.matrix(dist.mat)\n",
    "\n",
    "    tree <- tree_methods(dist.mat, method)\n",
    "    \n",
    "    outfile <- paste('output/', method, '.nwk', sep='')\n",
    "    \n",
    "    write.tree(tree, file=outfile)\n",
    "    \n",
    "    if (method == 'NJ'){\n",
    "        tree <- root(tree, outgroup=c('Xenopus', 'Chicken'), resolve.root=TRUE) # root using the outgroups\n",
    "    }\n",
    "    plot(tree, \"phylo\") # we plot it, unrooted\n",
    "    nodelabels()\n",
    "    \n",
    "}"
   ]
  },
  {
   "cell_type": "markdown",
   "metadata": {},
   "source": [
    "The tree reconstruction method can be specified in the next cell :"
   ]
  },
  {
   "cell_type": "code",
   "execution_count": null,
   "metadata": {},
   "outputs": [],
   "source": [
    "METHOD = 'NJ' #can be one of NJ, FASTME or UPGMA"
   ]
  },
  {
   "cell_type": "markdown",
   "metadata": {},
   "source": [
    "- And build the tree :"
   ]
  },
  {
   "cell_type": "code",
   "execution_count": null,
   "metadata": {},
   "outputs": [],
   "source": [
    "%%R -i METHOD\n",
    "build_tree(METHOD)"
   ]
  },
  {
   "cell_type": "markdown",
   "metadata": {},
   "source": [
    "The file `output/output/NJ.nwk` stores the neighbor-joining tree."
   ]
  },
  {
   "cell_type": "markdown",
   "metadata": {},
   "source": [
    "### Bootstrap support  <a name=\"bootstrap-support\"></a>"
   ]
  },
  {
   "cell_type": "markdown",
   "metadata": {},
   "source": [
    "- Generate 100 bootstrap replicates of the binary absence/presence adjacency matrix and compute a distance matrix for each. (Note that bootstrap support will slightly differ from our published tree, due to randomness of the resampling.)"
   ]
  },
  {
   "cell_type": "code",
   "execution_count": null,
   "metadata": {
    "scrolled": true
   },
   "outputs": [],
   "source": [
    "bootstrap_matrix(all_adj, ALL_SPECIES, SP_DICT)"
   ]
  },
  {
   "cell_type": "markdown",
   "metadata": {},
   "source": [
    "- Build a tree for each replicate"
   ]
  },
  {
   "cell_type": "code",
   "execution_count": null,
   "metadata": {},
   "outputs": [],
   "source": [
    "%%R \n",
    "\n",
    "boot_tree <- function(method=c(\"NJ\", \"FASTME\", \"UPGMA\")){\n",
    "    dist.mat <- read.table('output/dist_mat', header = TRUE, sep = \"\", skip = 0)\n",
    "\n",
    "    # load distance matrix of bootstrap replicates and build trees\n",
    "    for (i in 0:99){\n",
    "      infile = paste('output/bootstrap/dist_mat_', as.character(i), '.txt', sep='')\n",
    "      outfile = paste('output/bootstrap/', method, '_', as.character(i), '.nwk', sep='')\n",
    "      dist.mat <- read.table(infile, header = TRUE, sep = \"\", skip = 0)\n",
    "      rownames(dist.mat) <- colnames(dist.mat)\n",
    "      dist.mat <- as.matrix(dist.mat)\n",
    "        \n",
    "      # neighbour joining tree construction for each bootstrap replicate and write to file\n",
    "      tree <- tree_methods(dist.mat, method)\n",
    "      write.tree(tree, file=outfile)\n",
    "    }\n",
    "}"
   ]
  },
  {
   "cell_type": "code",
   "execution_count": null,
   "metadata": {},
   "outputs": [],
   "source": [
    "%%R -i METHOD\n",
    "boot_tree(METHOD)"
   ]
  },
  {
   "cell_type": "markdown",
   "metadata": {},
   "source": [
    "- Add bootstrap support and store branch length difference for a selection of species pairs"
   ]
  },
  {
   "cell_type": "code",
   "execution_count": null,
   "metadata": {},
   "outputs": [],
   "source": [
    "SPECIES_PAIRS = [('Bowfin', 'Gar'), ('Bowfin', 'Zebrafish'), ('Bowfin', 'Fugu'), ('Bowfin', 'Asian_bonytongue')]"
   ]
  },
  {
   "cell_type": "code",
   "execution_count": null,
   "metadata": {},
   "outputs": [],
   "source": [
    "ROOT = True\n",
    "if METHOD == \"UPGMA\":\n",
    "    ROOT = False"
   ]
  },
  {
   "cell_type": "code",
   "execution_count": null,
   "metadata": {},
   "outputs": [],
   "source": [
    "bstrap = glob.glob(f'output/bootstrap/{METHOD}_*.nwk')\n",
    "tree = f'output/{METHOD}.nwk'\n",
    "brlen_diff = add_bootstrap_support(tree, bstrap, root=ROOT, branch_length_diff=SPECIES_PAIRS)"
   ]
  },
  {
   "cell_type": "markdown",
   "metadata": {},
   "source": [
    "- Plot the phylogeny"
   ]
  },
  {
   "cell_type": "code",
   "execution_count": null,
   "metadata": {},
   "outputs": [],
   "source": [
    "def layout(node):\n",
    "    if node.is_leaf():\n",
    "        N = AttrFace(\"name\", fsize=9)\n",
    "        faces.add_face_to_node(N, node, 0)\n",
    "        \n",
    "        \n",
    "def draw_tree(tree, outfile):\n",
    "    \n",
    "    \"\"\"\n",
    "    SVG figure of the final tree with bootstrap support.\n",
    "    \"\"\"\n",
    "    \n",
    "    tree = Tree(tree)\n",
    "    ts = TreeStyle()\n",
    "    lca = tree.get_common_ancestor(['Bowfin', 'Gar'])\n",
    "    for n in tree.traverse():\n",
    "\n",
    "        nstyle = NodeStyle()\n",
    "        nstyle['size'] = 0\n",
    "\n",
    "        if n == lca or n.name in ['Bowfin', 'Gar']:\n",
    "\n",
    "            nstyle['bgcolor'] = 'pink'\n",
    "\n",
    "        else:\n",
    "            nstyle['bgcolor'] = 'white'\n",
    "\n",
    "        if n.name in ['Stickleback']:\n",
    "            nstyle[\"hz_line_color\"] = \"grey\"\n",
    "            nstyle[\"hz_line_width\"] = 2\n",
    "\n",
    "        n.set_style(nstyle)\n",
    "\n",
    "    ts.show_leaf_name = False\n",
    "    ts.layout_fn = layout\n",
    "    ts.show_branch_support = True\n",
    "    ts.tree_width = 300\n",
    "    tree.render(outfile, dpi=80, tree_style=ts)\n",
    "    plt.close(\"all\")"
   ]
  },
  {
   "cell_type": "code",
   "execution_count": null,
   "metadata": {},
   "outputs": [],
   "source": [
    "draw_tree('output/ete3_formatted_bootstrap_tree.nwk', f'output/{METHOD}_tree.svg')"
   ]
  },
  {
   "cell_type": "markdown",
   "metadata": {},
   "source": [
    "- The figure is saved in `output/NJ_tree.svg`"
   ]
  },
  {
   "cell_type": "code",
   "execution_count": null,
   "metadata": {},
   "outputs": [],
   "source": [
    "from IPython.core.display import SVG\n",
    "SVG(filename=f'output/{METHOD}_tree.svg')"
   ]
  },
  {
   "cell_type": "markdown",
   "metadata": {},
   "source": [
    "### Branch length differences  <a name=\"brlen\"></a>"
   ]
  },
  {
   "cell_type": "markdown",
   "metadata": {},
   "source": [
    "Here we'll used the stored branch length differences extracted from bootstraped trees to compute the 95% bootstrap intervals :"
   ]
  },
  {
   "cell_type": "code",
   "execution_count": null,
   "metadata": {},
   "outputs": [],
   "source": [
    "for sp_pair in brlen_diff:\n",
    "    diff_bl = brlen_diff[sp_pair]\n",
    "    lval = np.percentile(diff_bl, (0.05 / 2) * 100)\n",
    "    uval = np.percentile(diff_bl, (0.95 + (0.05 / 2)) * 100)\n",
    "    print(f'95% bootstrap interval for branch {sp_pair[0]} - branch {sp_pair[1]} :')\n",
    "    print([lval, uval])\n",
    "    if lval < 0 and uval > 0:\n",
    "        print(\"Bootstrap interval includes 0 : no significant difference.\")\n",
    "    elif lval < 0:\n",
    "        print(f\"{sp_pair[1]} has a significantly longer branch length than {sp_pair[0]}.\")\n",
    "    else:\n",
    "        print(f\"{sp_pair[0]} has a significantly longer branch length than {sp_pair[1]}.\")\n",
    "        \n",
    "    print('\\n')"
   ]
  }
 ],
 "metadata": {
  "kernelspec": {
   "display_name": "Python [conda env:bowfin_env]",
   "language": "python",
   "name": "conda-env-bowfin_env-py"
  },
  "language_info": {
   "codemirror_mode": {
    "name": "ipython",
    "version": 3
   },
   "file_extension": ".py",
   "mimetype": "text/x-python",
   "name": "python",
   "nbconvert_exporter": "python",
   "pygments_lexer": "ipython3",
   "version": "3.9.0"
  }
 },
 "nbformat": 4,
 "nbformat_minor": 4
}
