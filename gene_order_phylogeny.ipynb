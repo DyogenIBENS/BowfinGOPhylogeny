{
 "cells": [
  {
   "cell_type": "markdown",
   "metadata": {},
   "source": [
    "# Phylogeny of 13 ray-finned fish based on gene order data"
   ]
  },
  {
   "cell_type": "markdown",
   "metadata": {},
   "source": [
    "The present notebook documents the code and procedure we used to establish the **gene-order-based phylogeny of ray-finned fish** presented in the **[the bowfin genome paper](https://www.researchsquare.com/article/rs-92055/v1)**. This phylogeny supports the **Holostei hypothesis** of ray-finned fish evolution, which defines **the bowfin and spotted gar as sister groups**. The notebook is a mixed language jupyter notebook including both **python and R** code. The code presented is aimed at this specifc analysis and should not be taken as optimized nor directly generalizable."
   ]
  },
  {
   "cell_type": "markdown",
   "metadata": {},
   "source": [
    "# Table of contents\n",
    "\n",
    "- [Libraries and packages](#libraries-and-packages)\n",
    "    - [External dependencies](#external-dependencies)\n",
    "    - [Custom python modules](#custom-python-modules)\n",
    "- [Input data description](#input-data-description)\n",
    "- [Neighbor-joining gene order phylogeny](#gene-order-phylogeny)\n",
    "    - [Marker genes selection](#marker-genes-selection)\n",
    "    - [Adjacencies extraction](#adjacencies-extraction)\n",
    "    - [Distance matrix computation](#distance-matrix-computation)\n",
    "    - [Neighbor-joining tree reconstruction](#neighbor-joining-tree-reconstruction)\n",
    "    - [Bootstrap support](#bootstrap-support)\n",
    "- [Maximum parsimony gene order phylogeny](#gene-order-phylogeny-pars)\n"
   ]
  },
  {
   "cell_type": "markdown",
   "metadata": {},
   "source": [
    "## Libraries and packages <a name=\"libraries-and-packages\"></a>"
   ]
  },
  {
   "cell_type": "markdown",
   "metadata": {},
   "source": [
    "All external dependencies to run the notebook are listed in the `binder/environment.yml` file, which includes both python packages and R libraries. Custom python modules are also stored in the `modules/` folder."
   ]
  },
  {
   "cell_type": "markdown",
   "metadata": {},
   "source": [
    "### External dependencies <a name=\"external-dependencies\"></a>"
   ]
  },
  {
   "cell_type": "code",
   "execution_count": 3,
   "metadata": {},
   "outputs": [],
   "source": [
    "#Standard imports\n",
    "import os\n",
    "import itertools\n",
    "import glob\n",
    "import bz2\n",
    "from collections import defaultdict\n",
    "import random\n",
    "random.seed(1234)"
   ]
  },
  {
   "cell_type": "code",
   "execution_count": 4,
   "metadata": {},
   "outputs": [],
   "source": [
    "#Gene tree manipulation\n",
    "from Bio import Phylo\n",
    "from Bio.Phylo.Consensus import majority_consensus,get_support\n",
    "from ete3 import Tree, NodeStyle, TreeStyle,TextFace, AttrFace,faces"
   ]
  },
  {
   "cell_type": "code",
   "execution_count": 5,
   "metadata": {},
   "outputs": [],
   "source": [
    "#Data loading and plotting\n",
    "import pandas as pd\n",
    "import numpy as np\n",
    "import matplotlib.pyplot as plt\n",
    "import seaborn as sns; sns.set_style(\"white\")"
   ]
  },
  {
   "cell_type": "code",
   "execution_count": 6,
   "metadata": {},
   "outputs": [
    {
     "name": "stdout",
     "output_type": "stream",
     "text": [
      "The rpy2.ipython extension is already loaded. To reload it, use:\n",
      "  %reload_ext rpy2.ipython\n"
     ]
    }
   ],
   "source": [
    "#Use R in python\n",
    "%load_ext rpy2.ipython"
   ]
  },
  {
   "cell_type": "markdown",
   "metadata": {},
   "source": [
    "### Custom python modules <a name=\"custom-python-modules\"></a>"
   ]
  },
  {
   "cell_type": "code",
   "execution_count": 98,
   "metadata": {},
   "outputs": [],
   "source": [
    "#Load my python code\n",
    "%run modules/genomes.py\n",
    "%run modules/adjacencies.py\n",
    "%run modules/matrix.py\n",
    "%run modules/bootstrap.py\n",
    "%run modules/plot_trees.py"
   ]
  },
  {
   "cell_type": "markdown",
   "metadata": {},
   "source": [
    "## Input data description  <a name=\"input-data-description\"></a>"
   ]
  },
  {
   "cell_type": "markdown",
   "metadata": {},
   "source": [
    "All input data are stored in `data/gene_order_phylogeny/`."
   ]
  },
  {
   "cell_type": "code",
   "execution_count": 8,
   "metadata": {},
   "outputs": [
    {
     "name": "stdout",
     "output_type": "stream",
     "text": [
      "then: then/endif not found.\n",
      "\u001b[01;34mdata/gene_order_phylogeny/\u001b[00m\n",
      "├── \u001b[01;31mancGenes.Euteleostomi.list.bz2\u001b[00m\n",
      "├── \u001b[01;31mgenes.Amia.calva.list.bz2\u001b[00m\n",
      "├── \u001b[01;31mgenes.Astyanax.mexicanus.list.bz2\u001b[00m\n",
      "├── \u001b[01;31mgenes.Danio.rerio.list.bz2\u001b[00m\n",
      "├── \u001b[01;31mgenes.Gallus.gallus.list.bz2\u001b[00m\n",
      "├── \u001b[01;31mgenes.Gasterosteus.aculeatus.list.bz2\u001b[00m\n",
      "├── \u001b[01;31mgenes.Lepisosteus.oculatus.list.bz2\u001b[00m\n",
      "├── \u001b[01;31mgenes.Oreochromis.niloticus.list.bz2\u001b[00m\n",
      "├── \u001b[01;31mgenes.Oryzias.latipes.list.bz2\u001b[00m\n",
      "├── \u001b[01;31mgenes.Paramormyrops.kingsleyae.list.bz2\u001b[00m\n",
      "├── \u001b[01;31mgenes.Poecilia.formosa.list.bz2\u001b[00m\n",
      "├── \u001b[01;31mgenes.Scleropages.formosus.list.bz2\u001b[00m\n",
      "├── \u001b[01;31mgenes.Takifugu.rubripes.list.bz2\u001b[00m\n",
      "├── \u001b[01;31mgenes.Tetraodon.nigroviridis.list.bz2\u001b[00m\n",
      "├── \u001b[01;31mgenes.Xenopus.tropicalis.list.bz2\u001b[00m\n",
      "└── \u001b[01;31mgenes.Xiphophorus.maculatus.list.bz2\u001b[00m\n",
      "\n",
      "0 directories, 16 files\n"
     ]
    }
   ],
   "source": [
    "! tree data/gene_order_phylogeny/"
   ]
  },
  {
   "cell_type": "markdown",
   "metadata": {},
   "source": [
    "It includes an `ancGenes` file defining **gene families** and files with **gene coordinates**, both in **dyogen format** (see PhylDiag). Briefly, gene families were defined from gene trees built with the TreeBeST pipeline, including a total of y genomes and x ray-finned fish (*internally designated as GoodThreshold Genomicus V2 data*). In what follows, a subset of this gene families, containing the **13 selected ray-finned fish** and **2 outgroups** (chicken and xenopus) is extracted and kept for all analysis."
   ]
  },
  {
   "cell_type": "code",
   "execution_count": 9,
   "metadata": {},
   "outputs": [],
   "source": [
    "GENES = f\"data/gene_order_phylogeny/genes.%s.list.bz2\"\n",
    "FAMILIES = \"data/gene_order_phylogeny/ancGenes.Euteleostomi.list.bz2\""
   ]
  },
  {
   "cell_type": "markdown",
   "metadata": {},
   "source": [
    "## Neighbor-Joining gene order phylogeny <a name=\"gene-order-phylogeny\"></a>"
   ]
  },
  {
   "cell_type": "markdown",
   "metadata": {},
   "source": [
    "The gene order phylogeny is built in 5 steps detailed below. First, a **selection of marker genes** is conducted to limit the effect of differential gene content. Genomes are then reduced to this marker genes and **gene adjacencies** are stored. Next, a **distance matrix** and a **neighbor-joining tree** are built. Finally, **bootstrap** is perfomed to add support to nodes of the phylogeny.\n",
    "\n",
    "*Note: the code below writes a lot of intermediary files that may seem unnecessary. These were initally used for additional unpublished controls and analyses.*\n",
    "\n",
    "All outputs are stored in `output`."
   ]
  },
  {
   "cell_type": "code",
   "execution_count": 10,
   "metadata": {},
   "outputs": [
    {
     "name": "stdout",
     "output_type": "stream",
     "text": [
      "then: then/endif not found.\r\n",
      "mkdir: impossible de créer le répertoire «output»: Le fichier existe\r\n"
     ]
    }
   ],
   "source": [
    "! mkdir output"
   ]
  },
  {
   "cell_type": "markdown",
   "metadata": {},
   "source": [
    "### Marker genes selection <a name=\"marker-genes-selection\"></a>"
   ]
  },
  {
   "cell_type": "markdown",
   "metadata": {},
   "source": [
    "Because the selected species contain teleost species that underwent a common whole-genome duplication event, we retained only gene families with exactly one gene copy in non-duplicated genomes and one or two gene copies in duplicated genomes."
   ]
  },
  {
   "cell_type": "code",
   "execution_count": 11,
   "metadata": {},
   "outputs": [],
   "source": [
    "# global variable with all species name\n",
    "ALL_SPECIES = ['Gallus gallus','Xenopus tropicalis','Lepisosteus oculatus', 'Amia calva', 'Paramormyrops kingsleyae','Scleropages formosus', 'Astyanax mexicanus','Danio rerio','Gasterosteus aculeatus', 'Tetraodon nigroviridis', 'Takifugu rubripes', 'Oreochromis niloticus', 'Oryzias latipes', 'Poecilia formosa', 'Xiphophorus maculatus']\n",
    "\n",
    "#global variable with latin to common name correspondance\n",
    "SP_DICT = {'Gallus':'Chicken', 'Xenopus':'Xenopus', 'Lepisosteus':'Gar', 'Amia':'Bowfin', 'Paramormyrops':'Paramormyrops', 'Scleropages':'Asian bonytongue', 'Astyanax':'Cavefish', 'Danio':'Zebrafish', 'Gasterosteus':'Stickleback', 'Tetraodon':'Tetraodon', 'Takifugu':'Fugu', 'Oreochromis':'Tilapia', 'Oryzias':'Medaka', 'Poecilia':'Amazon molly', 'Xiphophorus':'Platyfish'}\n",
    "\n",
    "# global variable with name of non-duplicated species (non-teleost)\n",
    "NON_DUP = ['Lepisosteus oculatus', 'Amia calva', 'Gallus gallus', 'Xenopus tropicalis']\n",
    "\n",
    "# Build a dict containing genes of all study species\n",
    "all_sp_genes, genes_on_random_contig = {}, set()\n",
    "for sp in ALL_SPECIES:\n",
    "    sp = sp.replace(' ','.')\n",
    "    genefile = GENES % (sp)\n",
    "    all_sp_genes[sp], tmp_genes_on_random_contig = extract_all_genes(genefile)\n",
    "    genes_on_random_contig.update(tmp_genes_on_random_contig)"
   ]
  },
  {
   "cell_type": "code",
   "execution_count": 12,
   "metadata": {},
   "outputs": [
    {
     "name": "stdout",
     "output_type": "stream",
     "text": [
      "Number of marker genes selected : 3223.\n",
      "Number of genes in each species: {'Gallus.gallus': 3223, 'Xenopus.tropicalis': 3223, 'Lepisosteus.oculatus': 3223, 'Amia.calva': 3223, 'Paramormyrops.kingsleyae': 4067, 'Scleropages.formosus': 4039, 'Astyanax.mexicanus': 3765, 'Danio.rerio': 3721, 'Gasterosteus.aculeatus': 3607, 'Tetraodon.nigroviridis': 3713, 'Takifugu.rubripes': 3683, 'Oreochromis.niloticus': 3659, 'Oryzias.latipes': 3604, 'Poecilia.formosa': 3851, 'Xiphophorus.maculatus': 3601}\n"
     ]
    }
   ],
   "source": [
    "# Filter gene families to retain (1-to-1 or 1-to-2 for duplicated species)\n",
    "filter_families(all_sp_genes, NON_DUP, 'data/gene_order_phylogeny/ancGenes.Euteleostomi.list.bz2', 'output/ancGenes.Euteleostomi.filtered')"
   ]
  },
  {
   "cell_type": "code",
   "execution_count": 13,
   "metadata": {},
   "outputs": [],
   "source": [
    "# Write reduced genomes, i.e. containing only retained families, in fasta format\n",
    "name_families, unRAND = read('output/ancGenes.Euteleostomi.filtered', genes_on_random_contig) \n",
    "write_genomes(name_families, GENES, ALL_SPECIES, 'output/mygenomes.fa')"
   ]
  },
  {
   "cell_type": "markdown",
   "metadata": {},
   "source": [
    "### Adjacencies extraction <a name=\"adjacencies-extraction\"></a>"
   ]
  },
  {
   "cell_type": "markdown",
   "metadata": {},
   "source": [
    "This step consists in a simple parsing of the multiple genomes fasta file, to extract sets of **gene adjacencies** present in each species."
   ]
  },
  {
   "cell_type": "code",
   "execution_count": 14,
   "metadata": {},
   "outputs": [],
   "source": [
    "# Load genomes in a dict\n",
    "d_seq = load_genomes(\"output/mygenomes.fa\")\n",
    "\n",
    "# Save all adjacencies for all species and in each direction. For instance, (-1,2) is equivalent to (-2,1).\n",
    "adj_list, adj_list_rev = save_all_adj(d_seq) "
   ]
  },
  {
   "cell_type": "code",
   "execution_count": 15,
   "metadata": {},
   "outputs": [
    {
     "name": "stdout",
     "output_type": "stream",
     "text": [
      "Number of total adjacencies: 16561\n",
      "Number of derived adjacencies shared only by Bowfin and Gar: 372\n",
      "Number of derived adjacencies shared by Bowfin and Teleosts only: 86\n",
      "Number of derived adjacencies shared by Gar and Teleosts only: 108\n"
     ]
    }
   ],
   "source": [
    "# Filter out tetraodon adjacencies on random contig that are in no other species\n",
    "# (UnRANDOM are scaffold randomly assembled in a single contig)\n",
    "# This is kinda slow atm sorry\n",
    "all_adj, to_ign = make_matrix(adj_list, adj_list_rev, ALL_SPECIES, unRAND)\n",
    "adj_list, adj_list_rev = save_all_adj(d_seq, to_ignore=to_ign)"
   ]
  },
  {
   "cell_type": "markdown",
   "metadata": {},
   "source": [
    "### Distance matrix computation <a name=\"distance-matrix-computation\"></a>"
   ]
  },
  {
   "cell_type": "markdown",
   "metadata": {},
   "source": [
    "Two strategies can be used to compute the pairwise distance :\n",
    " - the 'simple' normalized breakpoint distance\n",
    " - the normalized breakpoint distance corrected for fractionation bias\n",
    " \n",
    "You can select the strategy to use in the next notebook cell."
   ]
  },
  {
   "cell_type": "code",
   "execution_count": 16,
   "metadata": {},
   "outputs": [],
   "source": [
    "CORRECT_FOR_FRAC_BIAS = False #set to True to correct for post-WGD fractionation"
   ]
  },
  {
   "cell_type": "markdown",
   "metadata": {},
   "source": [
    "We next compute all pairwise distances and build the distance matrix."
   ]
  },
  {
   "cell_type": "code",
   "execution_count": 62,
   "metadata": {},
   "outputs": [
    {
     "data": {
      "image/png": "[encoded data removed]",
      "text/plain": [
       "<Figure size 576x576 with 2 Axes>"
      ]
     },
     "metadata": {},
     "output_type": "display_data"
    }
   ],
   "source": [
    "#Warning: computationally intensive cell.\n",
    "\n",
    "if CORRECT_FOR_FRAC_BIAS:\n",
    "    correct_frac_bias(adj_list, adj_list_rev)\n",
    "\n",
    "make_distance_matrix(adj_list, adj_list_rev, SP_DICT, ALL_SPECIES)"
   ]
  },
  {
   "cell_type": "markdown",
   "metadata": {},
   "source": [
    "### Neighbor-joining tree reconstruction <a name=\"neighbor-joining-tree-reconstruction\"></a>"
   ]
  },
  {
   "cell_type": "markdown",
   "metadata": {},
   "source": [
    "Use the `ape` R library to build a neighbor-joining tree from the distance matrix."
   ]
  },
  {
   "cell_type": "code",
   "execution_count": 87,
   "metadata": {},
   "outputs": [],
   "source": [
    "%%R \n",
    "library('ape')\n",
    "\n",
    "nj_tree <- function(){\n",
    "    dist_mat <- read.table('output/dist_mat', header = TRUE, sep = \"\", skip = 0)\n",
    "    rownames(dist_mat) <- colnames(dist_mat)\n",
    "    dist_mat <- as.matrix(dist_mat)\n",
    "\n",
    "    a.nj <- bionj(dist_mat) # neighbour joining tree construction\n",
    "    write.tree(a.nj, file='output/bionj.nwk', sep=''))\n",
    "    tree <- root(a.nj, outgroup= c('Xenopus', 'Chicken'), resolve.root=TRUE) # root using the outgroups\n",
    "    plot(tree, \"phylo\") # we plot it \n",
    "    nodelabels()\n",
    "}"
   ]
  },
  {
   "cell_type": "code",
   "execution_count": 89,
   "metadata": {},
   "outputs": [
    {
     "data": {
      "image/png": "[encoded data removed]"
     },
     "metadata": {},
     "output_type": "display_data"
    }
   ],
   "source": [
    "%%R\n",
    "nj_tree()"
   ]
  },
  {
   "cell_type": "code",
   "execution_count": null,
   "metadata": {},
   "outputs": [],
   "source": []
  },
  {
   "cell_type": "markdown",
   "metadata": {},
   "source": [
    "### Bootstrap support  <a name=\"bootstrap-support\"></a>"
   ]
  },
  {
   "cell_type": "markdown",
   "metadata": {},
   "source": [
    "Generate 100 bootstrap replicates of the binary absence/presence adjacencie matrix."
   ]
  },
  {
   "cell_type": "code",
   "execution_count": 99,
   "metadata": {},
   "outputs": [
    {
     "name": "stdout",
     "output_type": "stream",
     "text": [
      "10 bootstrap replicate done\n",
      "20 bootstrap replicate done\n",
      "30 bootstrap replicate done\n",
      "40 bootstrap replicate done\n",
      "50 bootstrap replicate done\n",
      "60 bootstrap replicate done\n",
      "70 bootstrap replicate done\n",
      "80 bootstrap replicate done\n",
      "90 bootstrap replicate done\n"
     ]
    }
   ],
   "source": [
    "bootstrap_matrix(all_adj, ALL_SPECIES)"
   ]
  },
  {
   "cell_type": "code",
   "execution_count": 103,
   "metadata": {},
   "outputs": [],
   "source": [
    "%%R \n",
    "library('ape') \n",
    "\n",
    "boot_tree <- function(){\n",
    "    dist_mat <- read.table('output/dist_mat', header = TRUE, sep = \"\", skip = 0)\n",
    "\n",
    "    # bootstrap the adjacecncies\n",
    "    for (i in 0:99){\n",
    "      infile = paste('output/bootstrap_dist_mat_', as.character(i), '.txt', sep='')\n",
    "      outfile = paste('output/bootstrap/bionj_', as.character(i), '.nwk', sep='')\n",
    "      dist_mat <- read.table(infile, header = TRUE, sep = \"\", skip = 0)\n",
    "      rownames(dist_mat) <- colnames(dist_mat)\n",
    "      dist_mat <- as.matrix(dist_mat)\n",
    "        \n",
    "      # neighbour joining tree construction for each bootstrap replicate\n",
    "      a.nj <- bionj(dist_mat)\n",
    "      write.tree(a.nj, file=outfile)\n",
    "    }\n",
    "}"
   ]
  },
  {
   "cell_type": "code",
   "execution_count": 105,
   "metadata": {},
   "outputs": [
    {
     "name": "stderr",
     "output_type": "stream",
     "text": [
      "R[write to console]: Error in scan(file = file, what = what, sep = sep, quote = quote, dec = dec,  : \n",
      "  line 1 did not have 30 elements\n",
      "\n"
     ]
    },
    {
     "name": "stdout",
     "output_type": "stream",
     "text": [
      "\n",
      "Error in scan(file = file, what = what, sep = sep, quote = quote, dec = dec,  : \n",
      "  line 1 did not have 30 elements\n"
     ]
    }
   ],
   "source": [
    "%%R\n",
    "boot_tree()"
   ]
  },
  {
   "cell_type": "markdown",
   "metadata": {},
   "source": [
    "## Maximum parsimony gene order phylogeny <a name=\"gene-order-phylogeny-pars\"></a>"
   ]
  },
  {
   "cell_type": "code",
   "execution_count": null,
   "metadata": {},
   "outputs": [],
   "source": []
  }
 ],
 "metadata": {
  "kernelspec": {
   "display_name": "Python [conda env:bowfin_env]",
   "language": "python",
   "name": "conda-env-bowfin_env-py"
  },
  "language_info": {
   "codemirror_mode": {
    "name": "ipython",
    "version": 3
   },
   "file_extension": ".py",
   "mimetype": "text/x-python",
   "name": "python",
   "nbconvert_exporter": "python",
   "pygments_lexer": "ipython3",
   "version": "3.9.0"
  }
 },
 "nbformat": 4,
 "nbformat_minor": 4
}
