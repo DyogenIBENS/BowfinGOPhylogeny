{
 "cells": [
  {
   "cell_type": "markdown",
   "metadata": {},
   "source": [
    "# Phylogeny of 13 ray-finned fish based on gene order data"
   ]
  },
  {
   "cell_type": "markdown",
   "metadata": {},
   "source": [
    "This notebook documents the code and procedure we used to establish the **gene-order-based phylogeny of ray-finned fish** presented in the **[the bowfin genome paper](https://www.researchsquare.com/article/rs-92055/v1)**. This phylogeny supports the **Holostei hypothesis** of ray-finned fish evolution, which defines **the bowfin and spotted gar as sister groups**. The notebook is a mixed-languages jupyter notebook including both **python and R** code."
   ]
  },
  {
   "cell_type": "markdown",
   "metadata": {},
   "source": [
    "# Table of contents\n",
    "\n",
    "- [Libraries and packages](#libraries-and-packages)\n",
    "    - [External dependencies](#external-dependencies)\n",
    "    - [Custom python modules](#custom-python-modules)\n",
    "- [Input data description](#input-data-description)\n",
    "- [Gene order phylogeny](#gene-order-phylogeny)\n",
    "    - [Marker genes selection](#marker-genes-selection)\n",
    "    - [Adjacencies extraction](#adjacencies-extraction)\n",
    "    - [Distance matrix computation](#distance-matrix-computation)\n",
    "    - [Neighbor-joining tree reconstruction](#neighbor-joining-tree-reconstruction)\n",
    "    - [Bootstrap support](#bootstrap-support)\n",
    "    - [Branch length difference](#brlength)\n",
    "- [Maximum parsimony gene order phylogeny](#gene-order-phylogeny-pars)\n"
   ]
  },
  {
   "cell_type": "markdown",
   "metadata": {},
   "source": [
    "## Libraries and packages <a name=\"libraries-and-packages\"></a>"
   ]
  },
  {
   "cell_type": "markdown",
   "metadata": {},
   "source": [
    "All external dependencies to run the notebook are listed in the `binder/environment.yml` file, which includes both python packages and R libraries. Custom python modules are also stored in the `modules/` folder."
   ]
  },
  {
   "cell_type": "markdown",
   "metadata": {},
   "source": [
    "### External dependencies <a name=\"external-dependencies\"></a>"
   ]
  },
  {
   "cell_type": "code",
   "execution_count": 44,
   "metadata": {},
   "outputs": [],
   "source": [
    "#Standard imports\n",
    "import os\n",
    "import itertools\n",
    "import glob\n",
    "import bz2\n",
    "from collections import defaultdict\n",
    "\n",
    "#Uncomment to fix a random seed (can be useful for bootstrap)\n",
    "# import random\n",
    "# random.seed(1234)"
   ]
  },
  {
   "cell_type": "code",
   "execution_count": 45,
   "metadata": {},
   "outputs": [],
   "source": [
    "#Gene tree manipulation\n",
    "from Bio import Phylo\n",
    "from Bio.Phylo.Consensus import majority_consensus,get_support\n",
    "from ete3 import Tree, NodeStyle, TreeStyle,TextFace, AttrFace,faces"
   ]
  },
  {
   "cell_type": "code",
   "execution_count": 46,
   "metadata": {},
   "outputs": [],
   "source": [
    "#Data loading and plotting\n",
    "import pandas as pd\n",
    "import numpy as np\n",
    "import matplotlib.pyplot as plt\n",
    "import seaborn as sns; sns.set_style(\"white\")"
   ]
  },
  {
   "cell_type": "code",
   "execution_count": 47,
   "metadata": {},
   "outputs": [
    {
     "name": "stdout",
     "output_type": "stream",
     "text": [
      "The rpy2.ipython extension is already loaded. To reload it, use:\n",
      "  %reload_ext rpy2.ipython\n"
     ]
    }
   ],
   "source": [
    "#Use R in python\n",
    "%load_ext rpy2.ipython"
   ]
  },
  {
   "cell_type": "markdown",
   "metadata": {},
   "source": [
    "### Custom python modules <a name=\"custom-python-modules\"></a>"
   ]
  },
  {
   "cell_type": "code",
   "execution_count": 59,
   "metadata": {},
   "outputs": [],
   "source": [
    "#Load my python code\n",
    "%run modules/genomes.py\n",
    "%run modules/adjacencies.py\n",
    "%run modules/matrix.py\n",
    "%run modules/bootstrap.py\n",
    "%run modules/plot_trees.py"
   ]
  },
  {
   "cell_type": "markdown",
   "metadata": {},
   "source": [
    "## Input data description  <a name=\"input-data-description\"></a>"
   ]
  },
  {
   "cell_type": "markdown",
   "metadata": {},
   "source": [
    "All input data are stored in `data/gene_order_phylogeny/`."
   ]
  },
  {
   "cell_type": "markdown",
   "metadata": {},
   "source": [
    "It includes an `ancGenes` file defining **gene families**, and files with **gene coordinates**, both in the **dyogen format**. Briefly, gene families were defined from gene trees built with the TreeBeST pipeline, including a total of 78 genomes and 55 ray-finned fish (*internally designated as GoodThreshold Genomicus V2 data*). In what follows, a subset of the gene families, containing the **13 selected ray-finned fish** and **2 outgroups** (chicken and xenopus) is extracted. This dataset is then used for all analyses."
   ]
  },
  {
   "cell_type": "code",
   "execution_count": 49,
   "metadata": {},
   "outputs": [
    {
     "name": "stdout",
     "output_type": "stream",
     "text": [
      "data/gene_order_phylogeny/\n",
      "├── ancGenes.Euteleostomi.list.bz2\n",
      "├── genes.Amia.calva.list.bz2\n",
      "├── genes.Astyanax.mexicanus.list.bz2\n",
      "├── genes.Danio.rerio.list.bz2\n",
      "├── genes.Gallus.gallus.list.bz2\n",
      "├── genes.Gasterosteus.aculeatus.list.bz2\n",
      "├── genes.Lepisosteus.oculatus.list.bz2\n",
      "├── genes.Oreochromis.niloticus.list.bz2\n",
      "├── genes.Oryzias.latipes.list.bz2\n",
      "├── genes.Paramormyrops.kingsleyae.list.bz2\n",
      "├── genes.Poecilia.formosa.list.bz2\n",
      "├── genes.Scleropages.formosus.list.bz2\n",
      "├── genes.Takifugu.rubripes.list.bz2\n",
      "├── genes.Tetraodon.nigroviridis.list.bz2\n",
      "├── genes.Xenopus.tropicalis.list.bz2\n",
      "└── genes.Xiphophorus.maculatus.list.bz2\n",
      "\n",
      "0 directories, 16 files\n"
     ]
    }
   ],
   "source": [
    "%%bash\n",
    "tree data/gene_order_phylogeny/"
   ]
  },
  {
   "cell_type": "markdown",
   "metadata": {},
   "source": [
    "Define global variables for paths to input data:"
   ]
  },
  {
   "cell_type": "code",
   "execution_count": 50,
   "metadata": {},
   "outputs": [],
   "source": [
    "FAMILIES = \"data/gene_order_phylogeny/ancGenes.Euteleostomi.list.bz2\"\n",
    "GENES = \"data/gene_order_phylogeny/genes.%s.list.bz2\""
   ]
  },
  {
   "cell_type": "markdown",
   "metadata": {},
   "source": [
    "## Gene order phylogeny <a name=\"gene-order-phylogeny\"></a>"
   ]
  },
  {
   "cell_type": "markdown",
   "metadata": {},
   "source": [
    "The gene order phylogeny is built in 5 steps detailed below. First, a **selection of marker genes** is conducted to limit the effect of differential gene content. The genomes are then reduced to these marker genes and **gene adjacencies** are stored. Next, a **distance matrix** then a **neighbor-joining tree** are built. Finally, **bootstrap** is perfomed to add support to nodes of the phylogeny.\n",
    "\n",
    "*Note: the code below writes a lot of intermediary files that may seem unnecessary. These were initally used for additional unpublished controls and analyses.*\n",
    "\n",
    "All outputs are stored in `output/`."
   ]
  },
  {
   "cell_type": "code",
   "execution_count": 51,
   "metadata": {},
   "outputs": [],
   "source": [
    "os.makedirs(\"output\", exist_ok=True)"
   ]
  },
  {
   "cell_type": "markdown",
   "metadata": {},
   "source": [
    "### Marker genes selection <a name=\"marker-genes-selection\"></a>"
   ]
  },
  {
   "cell_type": "markdown",
   "metadata": {},
   "source": [
    "Because the selected species contain teleost species that underwent a common whole-genome duplication event, we retained only gene families with exactly one gene copy in non-duplicated genomes and one or two gene copies in duplicated genomes. Corresponding custom functions can be found in `modules/genomes.py`."
   ]
  },
  {
   "cell_type": "code",
   "execution_count": 52,
   "metadata": {},
   "outputs": [],
   "source": [
    "# global variable with all species name\n",
    "ALL_SPECIES = ['Gallus gallus','Xenopus tropicalis','Lepisosteus oculatus', 'Amia calva', 'Paramormyrops kingsleyae','Scleropages formosus', 'Astyanax mexicanus','Danio rerio','Gasterosteus aculeatus', 'Tetraodon nigroviridis', 'Takifugu rubripes', 'Oreochromis niloticus', 'Oryzias latipes', 'Poecilia formosa', 'Xiphophorus maculatus']\n",
    "\n",
    "#global variable with latin to common name correspondance (for plots)\n",
    "SP_DICT = {'Gallus':'Chicken', 'Xenopus':'Xenopus', 'Lepisosteus':'Gar', 'Amia':'Bowfin', 'Paramormyrops':'Paramormyrops', 'Scleropages':'Asian bonytongue', 'Astyanax':'Cavefish', 'Danio':'Zebrafish', 'Gasterosteus':'Stickleback', 'Tetraodon':'Tetraodon', 'Takifugu':'Fugu', 'Oreochromis':'Tilapia', 'Oryzias':'Medaka', 'Poecilia':'Amazon molly', 'Xiphophorus':'Platyfish'}\n",
    "\n",
    "# global variable with name of non-duplicated species (non-teleost)\n",
    "NON_DUP = ['Lepisosteus oculatus', 'Amia calva', 'Gallus gallus', 'Xenopus tropicalis']\n",
    "\n",
    "# Build a dict containing genes of all study species\n",
    "all_sp_genes, genes_on_random_contig = {}, set()\n",
    "for sp in ALL_SPECIES:\n",
    "    sp = sp.replace(' ','.')\n",
    "    genefile = GENES % (sp)\n",
    "    all_sp_genes[sp], tmp_genes_on_random_contig = extract_all_genes(genefile)\n",
    "    genes_on_random_contig.update(tmp_genes_on_random_contig)"
   ]
  },
  {
   "cell_type": "code",
   "execution_count": 53,
   "metadata": {},
   "outputs": [
    {
     "name": "stdout",
     "output_type": "stream",
     "text": [
      "Number of marker gene families selected: 3223.\n",
      "Number of corresponding genes in each species: {'Gallus.gallus': 3223, 'Xenopus.tropicalis': 3223, 'Lepisosteus.oculatus': 3223, 'Amia.calva': 3223, 'Paramormyrops.kingsleyae': 4067, 'Scleropages.formosus': 4039, 'Astyanax.mexicanus': 3765, 'Danio.rerio': 3721, 'Gasterosteus.aculeatus': 3607, 'Tetraodon.nigroviridis': 3713, 'Takifugu.rubripes': 3683, 'Oreochromis.niloticus': 3659, 'Oryzias.latipes': 3604, 'Poecilia.formosa': 3851, 'Xiphophorus.maculatus': 3601}\n"
     ]
    }
   ],
   "source": [
    "# Filter gene families to retain (1-to-1 or 1-to-2 for duplicated species)\n",
    "filter_families(all_sp_genes, NON_DUP, 'data/gene_order_phylogeny/ancGenes.Euteleostomi.list.bz2', 'output/ancGenes.Euteleostomi.filtered')"
   ]
  },
  {
   "cell_type": "code",
   "execution_count": 54,
   "metadata": {},
   "outputs": [],
   "source": [
    "# Write reduced genomes, i.e. containing only retained families, in fasta format\n",
    "name_families, unRAND = read('output/ancGenes.Euteleostomi.filtered', genes_on_random_contig) \n",
    "write_genomes(name_families, GENES, ALL_SPECIES, 'output/mygenomes.fa')"
   ]
  },
  {
   "cell_type": "markdown",
   "metadata": {},
   "source": [
    "At the end of this step, the file `output/mygenomes.fa` stores marker gene order in the 15 selected species."
   ]
  },
  {
   "cell_type": "markdown",
   "metadata": {},
   "source": [
    "### Adjacencies extraction <a name=\"adjacencies-extraction\"></a>"
   ]
  },
  {
   "cell_type": "markdown",
   "metadata": {},
   "source": [
    "This step consists in a simple parsing of the multiple genomes fasta file, to extract sets of **gene adjacencies** present in each species. Corresponding custom functions can be found in `modules/adjacencies.py`."
   ]
  },
  {
   "cell_type": "code",
   "execution_count": 55,
   "metadata": {},
   "outputs": [],
   "source": [
    "#Load genomes in a dict\n",
    "d_seq = load_genomes(\"output/mygenomes.fa\")"
   ]
  },
  {
   "cell_type": "markdown",
   "metadata": {},
   "source": [
    "**First pass extraction**"
   ]
  },
  {
   "cell_type": "code",
   "execution_count": 56,
   "metadata": {},
   "outputs": [],
   "source": [
    "#Save all adjacencies for all species and in each direction. For instance, (-1,2) is equivalent to (-2,1).\n",
    "adj_list, adj_list_rev = save_all_adj(d_seq)"
   ]
  },
  {
   "cell_type": "markdown",
   "metadata": {},
   "source": [
    "**Final extraction** : filter out tetraodon adjacencies on random contig that are in no other species (UnRandom is a contig with all scaffolds chained in a random order)."
   ]
  },
  {
   "cell_type": "code",
   "execution_count": 57,
   "metadata": {},
   "outputs": [
    {
     "name": "stdout",
     "output_type": "stream",
     "text": [
      "Number of total adjacencies: 16561\n",
      "Number of derived adjacencies shared only by Bowfin and Gar: 372\n",
      "Number of derived adjacencies shared by Bowfin and Teleosts only: 108\n",
      "Number of derived adjacencies shared by Gar and Teleosts only: 86\n"
     ]
    }
   ],
   "source": [
    "#Write adjacencies in a binary absence/presence matrix and filter tetraodon adjacencies (save them in 'to_ign')\n",
    "all_adj, to_ign = make_binary_adj_matrix(adj_list, adj_list_rev, ALL_SPECIES, unrandom=unRAND, sp_with_rm=\"Tetraodon nigroviridis\")\n",
    "\n",
    "#Also filter out tetraodon adjacencies from the adjacencies dict\n",
    "adj_list, adj_list_rev = save_all_adj(d_seq, to_ignore=to_ign, sp_with_ign=\"Tetraodon nigroviridis\")"
   ]
  },
  {
   "cell_type": "markdown",
   "metadata": {},
   "source": [
    "The dictionnaries `adj_list` and `adj_list_rev` store the complete sets of gene adjacencies in each species, while `all_adj` stores it in a binary absence/presence matrix."
   ]
  },
  {
   "cell_type": "markdown",
   "metadata": {},
   "source": [
    "### Distance matrix computation <a name=\"distance-matrix-computation\"></a>"
   ]
  },
  {
   "cell_type": "markdown",
   "metadata": {},
   "source": [
    "Two strategies can be used to compute the pairwise distance :\n",
    " - the 'simple' normalized breakpoint distance\n",
    " - the normalized breakpoint distance corrected for fractionation bias\n",
    " \n",
    "Briefly, ... (explain)\n",
    " \n",
    "You can select the strategy below:"
   ]
  },
  {
   "cell_type": "code",
   "execution_count": 58,
   "metadata": {},
   "outputs": [],
   "source": [
    "CORRECT_FOR_FRAC_BIAS = False #set to True to use the correction for post-WGD fractionation"
   ]
  },
  {
   "cell_type": "markdown",
   "metadata": {},
   "source": [
    "Next, we compute all pairwise distances and build the distance matrix. Corresponding custom functions can be found in `modules/matrix.py`."
   ]
  },
  {
   "cell_type": "code",
   "execution_count": 61,
   "metadata": {},
   "outputs": [
    {
     "data": {
      "image/png": "[encoded data removed]",
      "text/plain": [
       "<Figure size 576x576 with 2 Axes>"
      ]
     },
     "metadata": {},
     "output_type": "display_data"
    }
   ],
   "source": [
    "if CORRECT_FOR_FRAC_BIAS:\n",
    "    correct_frac_bias(adj_list, adj_list_rev)\n",
    "\n",
    "# build the distance matrix, plot it, and write it to file 'output/dist_mat'\n",
    "make_distance_matrix(adj_list, adj_list_rev, SP_DICT, ALL_SPECIES)"
   ]
  },
  {
   "cell_type": "markdown",
   "metadata": {},
   "source": [
    "The file `output/dist_mat` stores the computed distance matrix."
   ]
  },
  {
   "cell_type": "markdown",
   "metadata": {},
   "source": [
    "### Neighbor-joining tree reconstruction <a name=\"neighbor-joining-tree-reconstruction\"></a>"
   ]
  },
  {
   "cell_type": "markdown",
   "metadata": {},
   "source": [
    "Use the `ape` R library to build a neighbor-joining tree from the distance matrix."
   ]
  },
  {
   "cell_type": "code",
   "execution_count": 16,
   "metadata": {},
   "outputs": [],
   "source": [
    "%%R \n",
    "library('ape')\n",
    "\n",
    "build_tree <- function(method=c(\"NJ\", \"FASTME\", \"UPGMA\"), root=FALSE){\n",
    "\n",
    "    method <- match.arg(method)\n",
    "    \n",
    "    #reformat the distance matrix\n",
    "    dist.mat <- read.table('output/dist_mat', header = TRUE, sep = \"\", skip = 0)\n",
    "    rownames(dist_mat) <- colnames(dist.mat)\n",
    "    dist.mat <- as.matrix(dist.mat)\n",
    "\n",
    "    #build tree\n",
    "    tree <- bionj(dist_mat) \n",
    "    write.tree(a.nj, file='output/bionj.nwk')\n",
    "#     tree <- root(tree, outgroup=c('Xenopus', 'Chicken'), resolve.root=TRUE) # root using the outgroups\n",
    "    plot(tree, \"phylo\") # we plot it, unrooted\n",
    "    nodelabels()\n",
    "}"
   ]
  },
  {
   "cell_type": "code",
   "execution_count": 17,
   "metadata": {},
   "outputs": [
    {
     "data": {
      "image/png": "[encoded data removed]"
     },
     "metadata": {},
     "output_type": "display_data"
    }
   ],
   "source": [
    "%%R\n",
    "nj_tree()"
   ]
  },
  {
   "cell_type": "markdown",
   "metadata": {},
   "source": [
    "The file `output/output/bionj.nwk` stores the neighbor-joining tree."
   ]
  },
  {
   "cell_type": "markdown",
   "metadata": {},
   "source": [
    "### Bootstrap support  <a name=\"bootstrap-support\"></a>"
   ]
  },
  {
   "cell_type": "markdown",
   "metadata": {},
   "source": [
    "- Generate 100 bootstrap replicates of the binary absence/presence adjacency matrix."
   ]
  },
  {
   "cell_type": "code",
   "execution_count": 18,
   "metadata": {
    "scrolled": true
   },
   "outputs": [
    {
     "name": "stdout",
     "output_type": "stream",
     "text": [
      "10 bootstrap replicates done\n",
      "20 bootstrap replicates done\n",
      "30 bootstrap replicates done\n",
      "40 bootstrap replicates done\n",
      "50 bootstrap replicates done\n",
      "60 bootstrap replicates done\n",
      "70 bootstrap replicates done\n",
      "80 bootstrap replicates done\n",
      "90 bootstrap replicates done\n",
      "100 bootstrap replicates done\n",
      "100 bootstrap replicates done\n"
     ]
    }
   ],
   "source": [
    "bootstrap_matrix(all_adj, ALL_SPECIES, SP_DICT)"
   ]
  },
  {
   "cell_type": "markdown",
   "metadata": {},
   "source": [
    "- Build a distance matrix and tree for each replicate"
   ]
  },
  {
   "cell_type": "code",
   "execution_count": 19,
   "metadata": {},
   "outputs": [],
   "source": [
    "%%R \n",
    "library('ape') \n",
    "\n",
    "boot_tree <- function(root=FALSE){\n",
    "    dist_mat <- read.table('output/dist_mat', header = TRUE, sep = \"\", skip = 0)\n",
    "\n",
    "    # load distance matrix of bootstrap replicates and build trees\n",
    "    for (i in 0:99){\n",
    "      infile = paste('output/bootstrap/dist_mat_', as.character(i), '.txt', sep='')\n",
    "      outfile = paste('output/bootstrap/bionj_', as.character(i), '.nwk', sep='')\n",
    "      dist_mat <- read.table(infile, header = TRUE, sep = \"\", skip = 0)\n",
    "      rownames(dist_mat) <- colnames(dist_mat)\n",
    "      dist_mat <- as.matrix(dist_mat)\n",
    "        \n",
    "      # neighbour joining tree construction for each bootstrap replicate and write to file\n",
    "      a.nj <- bionj(dist_mat)\n",
    "      write.tree(a.nj, file=outfile)\n",
    "    }\n",
    "}"
   ]
  },
  {
   "cell_type": "code",
   "execution_count": 20,
   "metadata": {},
   "outputs": [],
   "source": [
    "%%R\n",
    "boot_tree()"
   ]
  },
  {
   "cell_type": "markdown",
   "metadata": {},
   "source": [
    "- Add bootstrap support"
   ]
  },
  {
   "cell_type": "code",
   "execution_count": 21,
   "metadata": {},
   "outputs": [],
   "source": [
    "bstrap = glob.glob('output/bootstrap/bionj_*.nwk')\n",
    "tree = 'output/bionj.nwk'\n",
    "add_bootstrap_support(tree, bstrap)"
   ]
  },
  {
   "cell_type": "markdown",
   "metadata": {},
   "source": [
    "- Plot the phylogeny"
   ]
  },
  {
   "cell_type": "code",
   "execution_count": 22,
   "metadata": {},
   "outputs": [],
   "source": [
    "def layout(node):\n",
    "    if node.is_leaf():\n",
    "        N = AttrFace(\"name\", fsize=9)\n",
    "        faces.add_face_to_node(N, node, 0)\n",
    "        \n",
    "        \n",
    "def draw_tree(tree, outfile):\n",
    "    \n",
    "    \"\"\"\n",
    "    SVG figure of the final tree with bootstrap support.\n",
    "    \"\"\"\n",
    "    \n",
    "    tree = Tree(tree)\n",
    "    ts = TreeStyle()\n",
    "    lca = tree.get_common_ancestor(['Bowfin', 'Gar'])\n",
    "    for n in tree.traverse():\n",
    "\n",
    "        nstyle = NodeStyle()\n",
    "        nstyle['size'] = 0\n",
    "\n",
    "        if n == lca or n.name in ['Bowfin', 'Gar']:\n",
    "\n",
    "            nstyle['bgcolor'] = 'pink'\n",
    "\n",
    "        else:\n",
    "            nstyle['bgcolor'] = 'white'\n",
    "\n",
    "        if n.name in ['Stickleback']:\n",
    "            nstyle[\"hz_line_color\"] = \"grey\"\n",
    "            nstyle[\"hz_line_width\"] = 2\n",
    "\n",
    "        n.set_style(nstyle)\n",
    "\n",
    "    ts.show_leaf_name = False\n",
    "    ts.layout_fn = layout\n",
    "    ts.show_branch_support = True\n",
    "    ts.tree_width = 300\n",
    "    tree.render(outfile, dpi=80, tree_style=ts)\n",
    "    plt.close(\"all\")"
   ]
  },
  {
   "cell_type": "code",
   "execution_count": 23,
   "metadata": {},
   "outputs": [],
   "source": [
    "draw_tree('output/bootstrap_consensus.nwk', 'output/bionj_tree.svg')"
   ]
  },
  {
   "cell_type": "code",
   "execution_count": 24,
   "metadata": {},
   "outputs": [
    {
     "data": {
      "image/svg+xml": [
       "<svg xmlns=\"http://www.w3.org/2000/svg\" xmlns:xlink=\"http://www.w3.org/1999/xlink\" width=\"135.467mm\" height=\"103.011mm\" viewBox=\"0 0 384.882 292\" version=\"1.2\" baseProfile=\"tiny\"> <title>Generated with ETE http://etetoolkit.org</title> <desc>Generated with ETE http://etetoolkit.org</desc> <defs> </defs> <g fill=\"none\" stroke=\"black\" stroke-width=\"1\" fill-rule=\"evenodd\" stroke-linecap=\"square\" stroke-linejoin=\"bevel\">      <g fill=\"none\" stroke=\"none\" transform=\"matrix(1,0,0,1,0,0)\" font-family=\"Sans Serif\" font-size=\"9pt\" font-weight=\"400\" font-style=\"normal\"> <rect x=\"0\" y=\"0\" width=\"384.882\" height=\"292\"/> </g>      <g fill=\"none\" stroke=\"none\" transform=\"matrix(1,0,0,1,1,1)\" font-family=\"Sans Serif\" font-size=\"9pt\" font-weight=\"400\" font-style=\"normal\"> <rect x=\"0\" y=\"0\" width=\"382.882\" height=\"240\"/> </g>      <g fill=\"#ffffff\" fill-opacity=\"1\" stroke=\"#ffffff\" stroke-opacity=\"1\" stroke-width=\"1\" stroke-linecap=\"square\" stroke-linejoin=\"bevel\" transform=\"matrix(1,0,0,1,1,1)\" font-family=\"Sans Serif\" font-size=\"9pt\" font-weight=\"400\" font-style=\"normal\"> <rect x=\"0\" y=\"0\" width=\"382.882\" height=\"240\"/> </g>      <g fill=\"#ffffff\" fill-opacity=\"1\" stroke=\"#ffffff\" stroke-opacity=\"1\" stroke-width=\"1\" stroke-linecap=\"square\" stroke-linejoin=\"bevel\" transform=\"matrix(1,0,0,1,20,1)\" font-family=\"Sans Serif\" font-size=\"9pt\" font-weight=\"400\" font-style=\"normal\"> <rect x=\"0\" y=\"0\" width=\"363.882\" height=\"32\"/> </g>      <g fill=\"#ffffff\" fill-opacity=\"1\" stroke=\"#ffffff\" stroke-opacity=\"1\" stroke-width=\"1\" stroke-linecap=\"square\" stroke-linejoin=\"bevel\" transform=\"matrix(1,0,0,1,58.475,1)\" font-family=\"Sans Serif\" font-size=\"9pt\" font-weight=\"400\" font-style=\"normal\"> <rect x=\"0\" y=\"0\" width=\"325.407\" height=\"16\"/> </g>      <g fill=\"#ffffff\" fill-opacity=\"1\" stroke=\"#ffffff\" stroke-opacity=\"1\" stroke-width=\"1\" stroke-linecap=\"square\" stroke-linejoin=\"bevel\" transform=\"matrix(1,0,0,1,58.475,17)\" font-family=\"Sans Serif\" font-size=\"9pt\" font-weight=\"400\" font-style=\"normal\"> <rect x=\"0\" y=\"0\" width=\"325.407\" height=\"16\"/> </g>      <g fill=\"#ffffff\" fill-opacity=\"1\" stroke=\"#ffffff\" stroke-opacity=\"1\" stroke-width=\"1\" stroke-linecap=\"square\" stroke-linejoin=\"bevel\" transform=\"matrix(1,0,0,1,20,33)\" font-family=\"Sans Serif\" font-size=\"9pt\" font-weight=\"400\" font-style=\"normal\"> <rect x=\"0\" y=\"0\" width=\"363.882\" height=\"208\"/> </g>      <g fill=\"#ffc0cb\" fill-opacity=\"1\" stroke=\"#ffc0cb\" stroke-opacity=\"1\" stroke-width=\"1\" stroke-linecap=\"square\" stroke-linejoin=\"bevel\" transform=\"matrix(1,0,0,1,58.475,33)\" font-family=\"Sans Serif\" font-size=\"9pt\" font-weight=\"400\" font-style=\"normal\"> <rect x=\"0\" y=\"0\" width=\"325.407\" height=\"32\"/> </g>      <g fill=\"#ffc0cb\" fill-opacity=\"1\" stroke=\"#ffc0cb\" stroke-opacity=\"1\" stroke-width=\"1\" stroke-linecap=\"square\" stroke-linejoin=\"bevel\" transform=\"matrix(1,0,0,1,125.5,33)\" font-family=\"Sans Serif\" font-size=\"9pt\" font-weight=\"400\" font-style=\"normal\"> <rect x=\"0\" y=\"0\" width=\"258.382\" height=\"16\"/> </g>      <g fill=\"#ffc0cb\" fill-opacity=\"1\" stroke=\"#ffc0cb\" stroke-opacity=\"1\" stroke-width=\"1\" stroke-linecap=\"square\" stroke-linejoin=\"bevel\" transform=\"matrix(1,0,0,1,125.5,49)\" font-family=\"Sans Serif\" font-size=\"9pt\" font-weight=\"400\" font-style=\"normal\"> <rect x=\"0\" y=\"0\" width=\"258.382\" height=\"16\"/> </g>      <g fill=\"#ffffff\" fill-opacity=\"1\" stroke=\"#ffffff\" stroke-opacity=\"1\" stroke-width=\"1\" stroke-linecap=\"square\" stroke-linejoin=\"bevel\" transform=\"matrix(1,0,0,1,58.475,65)\" font-family=\"Sans Serif\" font-size=\"9pt\" font-weight=\"400\" font-style=\"normal\"> <rect x=\"0\" y=\"0\" width=\"325.407\" height=\"176\"/> </g>      <g fill=\"#ffffff\" fill-opacity=\"1\" stroke=\"#ffffff\" stroke-opacity=\"1\" stroke-width=\"1\" stroke-linecap=\"square\" stroke-linejoin=\"bevel\" transform=\"matrix(1,0,0,1,86.6505,65)\" font-family=\"Sans Serif\" font-size=\"9pt\" font-weight=\"400\" font-style=\"normal\"> <rect x=\"0\" y=\"0\" width=\"297.232\" height=\"32\"/> </g>      <g fill=\"#ffffff\" fill-opacity=\"1\" stroke=\"#ffffff\" stroke-opacity=\"1\" stroke-width=\"1\" stroke-linecap=\"square\" stroke-linejoin=\"bevel\" transform=\"matrix(1,0,0,1,146.289,65)\" font-family=\"Sans Serif\" font-size=\"9pt\" font-weight=\"400\" font-style=\"normal\"> <rect x=\"0\" y=\"0\" width=\"237.593\" height=\"16\"/> </g>      <g fill=\"#ffffff\" fill-opacity=\"1\" stroke=\"#ffffff\" stroke-opacity=\"1\" stroke-width=\"1\" stroke-linecap=\"square\" stroke-linejoin=\"bevel\" transform=\"matrix(1,0,0,1,146.289,81)\" font-family=\"Sans Serif\" font-size=\"9pt\" font-weight=\"400\" font-style=\"normal\"> <rect x=\"0\" y=\"0\" width=\"237.593\" height=\"16\"/> </g>      <g fill=\"#ffffff\" fill-opacity=\"1\" stroke=\"#ffffff\" stroke-opacity=\"1\" stroke-width=\"1\" stroke-linecap=\"square\" stroke-linejoin=\"bevel\" transform=\"matrix(1,0,0,1,86.6505,97)\" font-family=\"Sans Serif\" font-size=\"9pt\" font-weight=\"400\" font-style=\"normal\"> <rect x=\"0\" y=\"0\" width=\"297.232\" height=\"144\"/> </g>      <g fill=\"#ffffff\" fill-opacity=\"1\" stroke=\"#ffffff\" stroke-opacity=\"1\" stroke-width=\"1\" stroke-linecap=\"square\" stroke-linejoin=\"bevel\" transform=\"matrix(1,0,0,1,113.003,97)\" font-family=\"Sans Serif\" font-size=\"9pt\" font-weight=\"400\" font-style=\"normal\"> <rect x=\"0\" y=\"0\" width=\"270.879\" height=\"32\"/> </g>      <g fill=\"#ffffff\" fill-opacity=\"1\" stroke=\"#ffffff\" stroke-opacity=\"1\" stroke-width=\"1\" stroke-linecap=\"square\" stroke-linejoin=\"bevel\" transform=\"matrix(1,0,0,1,187.828,97)\" font-family=\"Sans Serif\" font-size=\"9pt\" font-weight=\"400\" font-style=\"normal\"> <rect x=\"0\" y=\"0\" width=\"196.054\" height=\"16\"/> </g>      <g fill=\"#ffffff\" fill-opacity=\"1\" stroke=\"#ffffff\" stroke-opacity=\"1\" stroke-width=\"1\" stroke-linecap=\"square\" stroke-linejoin=\"bevel\" transform=\"matrix(1,0,0,1,187.828,113)\" font-family=\"Sans Serif\" font-size=\"9pt\" font-weight=\"400\" font-style=\"normal\"> <rect x=\"0\" y=\"0\" width=\"196.054\" height=\"16\"/> </g>      <g fill=\"#ffffff\" fill-opacity=\"1\" stroke=\"#ffffff\" stroke-opacity=\"1\" stroke-width=\"1\" stroke-linecap=\"square\" stroke-linejoin=\"bevel\" transform=\"matrix(1,0,0,1,113.003,129)\" font-family=\"Sans Serif\" font-size=\"9pt\" font-weight=\"400\" font-style=\"normal\"> <rect x=\"0\" y=\"0\" width=\"270.879\" height=\"112\"/> </g>      <g fill=\"#ffffff\" fill-opacity=\"1\" stroke=\"#ffffff\" stroke-opacity=\"1\" stroke-width=\"1\" stroke-linecap=\"square\" stroke-linejoin=\"bevel\" transform=\"matrix(1,0,0,1,214.181,129)\" font-family=\"Sans Serif\" font-size=\"9pt\" font-weight=\"400\" font-style=\"normal\"> <rect x=\"0\" y=\"0\" width=\"169.701\" height=\"32\"/> </g>      <g fill=\"#ffffff\" fill-opacity=\"1\" stroke=\"#ffffff\" stroke-opacity=\"1\" stroke-width=\"1\" stroke-linecap=\"square\" stroke-linejoin=\"bevel\" transform=\"matrix(1,0,0,1,251.672,129)\" font-family=\"Sans Serif\" font-size=\"9pt\" font-weight=\"400\" font-style=\"normal\"> <rect x=\"0\" y=\"0\" width=\"132.21\" height=\"16\"/> </g>      <g fill=\"#ffffff\" fill-opacity=\"1\" stroke=\"#ffffff\" stroke-opacity=\"1\" stroke-width=\"1\" stroke-linecap=\"square\" stroke-linejoin=\"bevel\" transform=\"matrix(1,0,0,1,251.672,145)\" font-family=\"Sans Serif\" font-size=\"9pt\" font-weight=\"400\" font-style=\"normal\"> <rect x=\"0\" y=\"0\" width=\"132.21\" height=\"16\"/> </g>      <g fill=\"#ffffff\" fill-opacity=\"1\" stroke=\"#ffffff\" stroke-opacity=\"1\" stroke-width=\"1\" stroke-linecap=\"square\" stroke-linejoin=\"bevel\" transform=\"matrix(1,0,0,1,214.181,161)\" font-family=\"Sans Serif\" font-size=\"9pt\" font-weight=\"400\" font-style=\"normal\"> <rect x=\"0\" y=\"0\" width=\"169.701\" height=\"80\"/> </g>      <g fill=\"#ffffff\" fill-opacity=\"1\" stroke=\"#ffffff\" stroke-opacity=\"1\" stroke-width=\"1\" stroke-linecap=\"square\" stroke-linejoin=\"bevel\" transform=\"matrix(1,0,0,1,227.181,161)\" font-family=\"Sans Serif\" font-size=\"9pt\" font-weight=\"400\" font-style=\"normal\"> <rect x=\"0\" y=\"0\" width=\"156.701\" height=\"16\"/> </g>      <g fill=\"#ffffff\" fill-opacity=\"1\" stroke=\"#ffffff\" stroke-opacity=\"1\" stroke-width=\"1\" stroke-linecap=\"square\" stroke-linejoin=\"bevel\" transform=\"matrix(1,0,0,1,227.181,177)\" font-family=\"Sans Serif\" font-size=\"9pt\" font-weight=\"400\" font-style=\"normal\"> <rect x=\"0\" y=\"0\" width=\"156.701\" height=\"64\"/> </g>      <g fill=\"#ffffff\" fill-opacity=\"1\" stroke=\"#ffffff\" stroke-opacity=\"1\" stroke-width=\"1\" stroke-linecap=\"square\" stroke-linejoin=\"bevel\" transform=\"matrix(1,0,0,1,240.181,177)\" font-family=\"Sans Serif\" font-size=\"9pt\" font-weight=\"400\" font-style=\"normal\"> <rect x=\"0\" y=\"0\" width=\"143.701\" height=\"48\"/> </g>      <g fill=\"#ffffff\" fill-opacity=\"1\" stroke=\"#ffffff\" stroke-opacity=\"1\" stroke-width=\"1\" stroke-linecap=\"square\" stroke-linejoin=\"bevel\" transform=\"matrix(1,0,0,1,253.181,177)\" font-family=\"Sans Serif\" font-size=\"9pt\" font-weight=\"400\" font-style=\"normal\"> <rect x=\"0\" y=\"0\" width=\"130.701\" height=\"32\"/> </g>      <g fill=\"#ffffff\" fill-opacity=\"1\" stroke=\"#ffffff\" stroke-opacity=\"1\" stroke-width=\"1\" stroke-linecap=\"square\" stroke-linejoin=\"bevel\" transform=\"matrix(1,0,0,1,288.01,177)\" font-family=\"Sans Serif\" font-size=\"9pt\" font-weight=\"400\" font-style=\"normal\"> <rect x=\"0\" y=\"0\" width=\"95.8719\" height=\"16\"/> </g>      <g fill=\"#ffffff\" fill-opacity=\"1\" stroke=\"#ffffff\" stroke-opacity=\"1\" stroke-width=\"1\" stroke-linecap=\"square\" stroke-linejoin=\"bevel\" transform=\"matrix(1,0,0,1,288.01,193)\" font-family=\"Sans Serif\" font-size=\"9pt\" font-weight=\"400\" font-style=\"normal\"> <rect x=\"0\" y=\"0\" width=\"95.8719\" height=\"16\"/> </g>      <g fill=\"#ffffff\" fill-opacity=\"1\" stroke=\"#ffffff\" stroke-opacity=\"1\" stroke-width=\"1\" stroke-linecap=\"square\" stroke-linejoin=\"bevel\" transform=\"matrix(1,0,0,1,253.181,209)\" font-family=\"Sans Serif\" font-size=\"9pt\" font-weight=\"400\" font-style=\"normal\"> <rect x=\"0\" y=\"0\" width=\"130.701\" height=\"16\"/> </g>      <g fill=\"#ffffff\" fill-opacity=\"1\" stroke=\"#ffffff\" stroke-opacity=\"1\" stroke-width=\"1\" stroke-linecap=\"square\" stroke-linejoin=\"bevel\" transform=\"matrix(1,0,0,1,240.181,225)\" font-family=\"Sans Serif\" font-size=\"9pt\" font-weight=\"400\" font-style=\"normal\"> <rect x=\"0\" y=\"0\" width=\"143.701\" height=\"16\"/> </g>                                                                                                                          <g fill=\"none\" stroke=\"#000000\" stroke-opacity=\"1\" stroke-width=\"1\" stroke-linecap=\"butt\" stroke-linejoin=\"bevel\" transform=\"matrix(1,0,0,1,1,1)\" font-family=\"Sans Serif\" font-size=\"9pt\" font-weight=\"400\" font-style=\"normal\"> <polyline fill=\"none\" vector-effect=\"non-scaling-stroke\" points=\"19,16 19,79.0625 \"/> </g>      <g fill=\"none\" stroke=\"#808080\" stroke-opacity=\"1\" stroke-dasharray=\"1,2\" stroke-dashoffset=\"0\" stroke-width=\"1\" stroke-linecap=\"butt\" stroke-linejoin=\"bevel\" transform=\"matrix(1,0,0,1,1,1)\" font-family=\"Sans Serif\" font-size=\"9pt\" font-weight=\"400\" font-style=\"normal\"> <polyline fill=\"none\" vector-effect=\"non-scaling-stroke\" points=\"0,47.5313 19,47.5313 \"/> </g>                    <g fill=\"none\" stroke=\"#8b0000\" stroke-opacity=\"1\" stroke-width=\"1\" stroke-linecap=\"square\" stroke-linejoin=\"bevel\" transform=\"matrix(1,0,0,1,1,48.5313)\" font-family=\"Arial\" font-size=\"8pt\" font-weight=\"400\" font-style=\"normal\"> <text fill=\"#8b0000\" fill-opacity=\"1\" stroke=\"none\" xml:space=\"preserve\" x=\"0\" y=\"10\" font-family=\"Arial\" font-size=\"8pt\" font-weight=\"400\" font-style=\"normal\">100</text> </g>          <g fill=\"none\" stroke=\"#000000\" stroke-opacity=\"1\" stroke-width=\"1\" stroke-linecap=\"butt\" stroke-linejoin=\"bevel\" transform=\"matrix(1,0,0,1,20,1)\" font-family=\"Sans Serif\" font-size=\"9pt\" font-weight=\"400\" font-style=\"normal\"> <polyline fill=\"none\" vector-effect=\"non-scaling-stroke\" points=\"38.475,8 38.475,24 \"/> </g>            <g fill=\"none\" stroke=\"#000000\" stroke-opacity=\"1\" stroke-width=\"1\" stroke-linecap=\"butt\" stroke-linejoin=\"bevel\" transform=\"matrix(1,0,0,1,20,1)\" font-family=\"Sans Serif\" font-size=\"9pt\" font-weight=\"400\" font-style=\"normal\"> <polyline fill=\"none\" vector-effect=\"non-scaling-stroke\" points=\"0,16 38.475,16 \"/> </g>              <g fill=\"none\" stroke=\"#8b0000\" stroke-opacity=\"1\" stroke-width=\"1\" stroke-linecap=\"square\" stroke-linejoin=\"bevel\" transform=\"matrix(1,0,0,1,39.475,17)\" font-family=\"Arial\" font-size=\"8pt\" font-weight=\"400\" font-style=\"normal\"> <text fill=\"#8b0000\" fill-opacity=\"1\" stroke=\"none\" xml:space=\"preserve\" x=\"0\" y=\"10\" font-family=\"Arial\" font-size=\"8pt\" font-weight=\"400\" font-style=\"normal\">100</text> </g>                <g fill=\"none\" stroke=\"#000000\" stroke-opacity=\"1\" stroke-width=\"1\" stroke-linecap=\"butt\" stroke-linejoin=\"bevel\" transform=\"matrix(1,0,0,1,58.475,1)\" font-family=\"Sans Serif\" font-size=\"9pt\" font-weight=\"400\" font-style=\"normal\"> <polyline fill=\"none\" vector-effect=\"non-scaling-stroke\" points=\"0,8 129.208,8 \"/> </g>          <g fill=\"none\" stroke=\"#000000\" stroke-opacity=\"1\" stroke-width=\"1\" stroke-linecap=\"square\" stroke-linejoin=\"bevel\" transform=\"matrix(1,0,0,1,187.683,1)\" font-family=\"Verdana\" font-size=\"9pt\" font-weight=\"400\" font-style=\"normal\"> <text fill=\"#000000\" fill-opacity=\"1\" stroke=\"none\" xml:space=\"preserve\" x=\"0\" y=\"13\" font-family=\"Verdana\" font-size=\"9pt\" font-weight=\"400\" font-style=\"normal\">Xenopus</text> </g>                    <g fill=\"none\" stroke=\"#000000\" stroke-opacity=\"1\" stroke-width=\"1\" stroke-linecap=\"butt\" stroke-linejoin=\"bevel\" transform=\"matrix(1,0,0,1,58.475,17)\" font-family=\"Sans Serif\" font-size=\"9pt\" font-weight=\"400\" font-style=\"normal\"> <polyline fill=\"none\" vector-effect=\"non-scaling-stroke\" points=\"0,8 108.575,8 \"/> </g>          <g fill=\"none\" stroke=\"#000000\" stroke-opacity=\"1\" stroke-width=\"1\" stroke-linecap=\"square\" stroke-linejoin=\"bevel\" transform=\"matrix(1,0,0,1,167.05,17)\" font-family=\"Verdana\" font-size=\"9pt\" font-weight=\"400\" font-style=\"normal\"> <text fill=\"#000000\" fill-opacity=\"1\" stroke=\"none\" xml:space=\"preserve\" x=\"0\" y=\"13\" font-family=\"Verdana\" font-size=\"9pt\" font-weight=\"400\" font-style=\"normal\">Chicken</text> </g>              <g fill=\"none\" stroke=\"#000000\" stroke-opacity=\"1\" stroke-width=\"1\" stroke-linecap=\"butt\" stroke-linejoin=\"bevel\" transform=\"matrix(1,0,0,1,20,33)\" font-family=\"Sans Serif\" font-size=\"9pt\" font-weight=\"400\" font-style=\"normal\"> <polyline fill=\"none\" vector-effect=\"non-scaling-stroke\" points=\"38.475,16 38.475,78.125 \"/> </g>            <g fill=\"none\" stroke=\"#000000\" stroke-opacity=\"1\" stroke-width=\"1\" stroke-linecap=\"butt\" stroke-linejoin=\"bevel\" transform=\"matrix(1,0,0,1,20,33)\" font-family=\"Sans Serif\" font-size=\"9pt\" font-weight=\"400\" font-style=\"normal\"> <polyline fill=\"none\" vector-effect=\"non-scaling-stroke\" points=\"0,47.0625 38.475,47.0625 \"/> </g>              <g fill=\"none\" stroke=\"#8b0000\" stroke-opacity=\"1\" stroke-width=\"1\" stroke-linecap=\"square\" stroke-linejoin=\"bevel\" transform=\"matrix(1,0,0,1,39.475,80.0625)\" font-family=\"Arial\" font-size=\"8pt\" font-weight=\"400\" font-style=\"normal\"> <text fill=\"#8b0000\" fill-opacity=\"1\" stroke=\"none\" xml:space=\"preserve\" x=\"0\" y=\"10\" font-family=\"Arial\" font-size=\"8pt\" font-weight=\"400\" font-style=\"normal\">100</text> </g>          <g fill=\"none\" stroke=\"#000000\" stroke-opacity=\"1\" stroke-width=\"1\" stroke-linecap=\"butt\" stroke-linejoin=\"bevel\" transform=\"matrix(1,0,0,1,58.475,33)\" font-family=\"Sans Serif\" font-size=\"9pt\" font-weight=\"400\" font-style=\"normal\"> <polyline fill=\"none\" vector-effect=\"non-scaling-stroke\" points=\"67.0251,8 67.0251,24 \"/> </g>            <g fill=\"none\" stroke=\"#000000\" stroke-opacity=\"1\" stroke-width=\"1\" stroke-linecap=\"butt\" stroke-linejoin=\"bevel\" transform=\"matrix(1,0,0,1,58.475,33)\" font-family=\"Sans Serif\" font-size=\"9pt\" font-weight=\"400\" font-style=\"normal\"> <polyline fill=\"none\" vector-effect=\"non-scaling-stroke\" points=\"0,16 67.0251,16 \"/> </g>              <g fill=\"none\" stroke=\"#8b0000\" stroke-opacity=\"1\" stroke-width=\"1\" stroke-linecap=\"square\" stroke-linejoin=\"bevel\" transform=\"matrix(1,0,0,1,106.5,49)\" font-family=\"Arial\" font-size=\"8pt\" font-weight=\"400\" font-style=\"normal\"> <text fill=\"#8b0000\" fill-opacity=\"1\" stroke=\"none\" xml:space=\"preserve\" x=\"0\" y=\"10\" font-family=\"Arial\" font-size=\"8pt\" font-weight=\"400\" font-style=\"normal\">100</text> </g>                <g fill=\"none\" stroke=\"#000000\" stroke-opacity=\"1\" stroke-width=\"1\" stroke-linecap=\"butt\" stroke-linejoin=\"bevel\" transform=\"matrix(1,0,0,1,125.5,33)\" font-family=\"Sans Serif\" font-size=\"9pt\" font-weight=\"400\" font-style=\"normal\"> <polyline fill=\"none\" vector-effect=\"non-scaling-stroke\" points=\"0,8 52.0064,8 \"/> </g>          <g fill=\"none\" stroke=\"#000000\" stroke-opacity=\"1\" stroke-width=\"1\" stroke-linecap=\"square\" stroke-linejoin=\"bevel\" transform=\"matrix(1,0,0,1,177.507,33)\" font-family=\"Verdana\" font-size=\"9pt\" font-weight=\"400\" font-style=\"normal\"> <text fill=\"#000000\" fill-opacity=\"1\" stroke=\"none\" xml:space=\"preserve\" x=\"0\" y=\"13\" font-family=\"Verdana\" font-size=\"9pt\" font-weight=\"400\" font-style=\"normal\">Bowfin</text> </g>                    <g fill=\"none\" stroke=\"#000000\" stroke-opacity=\"1\" stroke-width=\"1\" stroke-linecap=\"butt\" stroke-linejoin=\"bevel\" transform=\"matrix(1,0,0,1,125.5,49)\" font-family=\"Sans Serif\" font-size=\"9pt\" font-weight=\"400\" font-style=\"normal\"> <polyline fill=\"none\" vector-effect=\"non-scaling-stroke\" points=\"0,8 52.8004,8 \"/> </g>          <g fill=\"none\" stroke=\"#000000\" stroke-opacity=\"1\" stroke-width=\"1\" stroke-linecap=\"square\" stroke-linejoin=\"bevel\" transform=\"matrix(1,0,0,1,178.301,49)\" font-family=\"Verdana\" font-size=\"9pt\" font-weight=\"400\" font-style=\"normal\"> <text fill=\"#000000\" fill-opacity=\"1\" stroke=\"none\" xml:space=\"preserve\" x=\"0\" y=\"13\" font-family=\"Verdana\" font-size=\"9pt\" font-weight=\"400\" font-style=\"normal\">Gar</text> </g>              <g fill=\"none\" stroke=\"#000000\" stroke-opacity=\"1\" stroke-width=\"1\" stroke-linecap=\"butt\" stroke-linejoin=\"bevel\" transform=\"matrix(1,0,0,1,58.475,65)\" font-family=\"Sans Serif\" font-size=\"9pt\" font-weight=\"400\" font-style=\"normal\"> <polyline fill=\"none\" vector-effect=\"non-scaling-stroke\" points=\"28.1755,16 28.1755,76.25 \"/> </g>            <g fill=\"none\" stroke=\"#000000\" stroke-opacity=\"1\" stroke-width=\"1\" stroke-linecap=\"butt\" stroke-linejoin=\"bevel\" transform=\"matrix(1,0,0,1,58.475,65)\" font-family=\"Sans Serif\" font-size=\"9pt\" font-weight=\"400\" font-style=\"normal\"> <polyline fill=\"none\" vector-effect=\"non-scaling-stroke\" points=\"0,46.125 28.1755,46.125 \"/> </g>              <g fill=\"none\" stroke=\"#8b0000\" stroke-opacity=\"1\" stroke-width=\"1\" stroke-linecap=\"square\" stroke-linejoin=\"bevel\" transform=\"matrix(1,0,0,1,67.6505,111.125)\" font-family=\"Arial\" font-size=\"8pt\" font-weight=\"400\" font-style=\"normal\"> <text fill=\"#8b0000\" fill-opacity=\"1\" stroke=\"none\" xml:space=\"preserve\" x=\"0\" y=\"10\" font-family=\"Arial\" font-size=\"8pt\" font-weight=\"400\" font-style=\"normal\">100</text> </g>          <g fill=\"none\" stroke=\"#000000\" stroke-opacity=\"1\" stroke-width=\"1\" stroke-linecap=\"butt\" stroke-linejoin=\"bevel\" transform=\"matrix(1,0,0,1,86.6505,65)\" font-family=\"Sans Serif\" font-size=\"9pt\" font-weight=\"400\" font-style=\"normal\"> <polyline fill=\"none\" vector-effect=\"non-scaling-stroke\" points=\"59.6388,8 59.6388,24 \"/> </g>            <g fill=\"none\" stroke=\"#000000\" stroke-opacity=\"1\" stroke-width=\"1\" stroke-linecap=\"butt\" stroke-linejoin=\"bevel\" transform=\"matrix(1,0,0,1,86.6505,65)\" font-family=\"Sans Serif\" font-size=\"9pt\" font-weight=\"400\" font-style=\"normal\"> <polyline fill=\"none\" vector-effect=\"non-scaling-stroke\" points=\"0,16 59.6388,16 \"/> </g>              <g fill=\"none\" stroke=\"#8b0000\" stroke-opacity=\"1\" stroke-width=\"1\" stroke-linecap=\"square\" stroke-linejoin=\"bevel\" transform=\"matrix(1,0,0,1,127.289,81)\" font-family=\"Arial\" font-size=\"8pt\" font-weight=\"400\" font-style=\"normal\"> <text fill=\"#8b0000\" fill-opacity=\"1\" stroke=\"none\" xml:space=\"preserve\" x=\"0\" y=\"10\" font-family=\"Arial\" font-size=\"8pt\" font-weight=\"400\" font-style=\"normal\">100</text> </g>                <g fill=\"none\" stroke=\"#000000\" stroke-opacity=\"1\" stroke-width=\"1\" stroke-linecap=\"butt\" stroke-linejoin=\"bevel\" transform=\"matrix(1,0,0,1,146.289,65)\" font-family=\"Sans Serif\" font-size=\"9pt\" font-weight=\"400\" font-style=\"normal\"> <polyline fill=\"none\" vector-effect=\"non-scaling-stroke\" points=\"0,8 55.2047,8 \"/> </g>          <g fill=\"none\" stroke=\"#000000\" stroke-opacity=\"1\" stroke-width=\"1\" stroke-linecap=\"square\" stroke-linejoin=\"bevel\" transform=\"matrix(1,0,0,1,201.494,65)\" font-family=\"Verdana\" font-size=\"9pt\" font-weight=\"400\" font-style=\"normal\"> <text fill=\"#000000\" fill-opacity=\"1\" stroke=\"none\" xml:space=\"preserve\" x=\"0\" y=\"13\" font-family=\"Verdana\" font-size=\"9pt\" font-weight=\"400\" font-style=\"normal\">Asian_bonytongue</text> </g>                    <g fill=\"none\" stroke=\"#000000\" stroke-opacity=\"1\" stroke-width=\"1\" stroke-linecap=\"butt\" stroke-linejoin=\"bevel\" transform=\"matrix(1,0,0,1,146.289,81)\" font-family=\"Sans Serif\" font-size=\"9pt\" font-weight=\"400\" font-style=\"normal\"> <polyline fill=\"none\" vector-effect=\"non-scaling-stroke\" points=\"0,8 67.7856,8 \"/> </g>          <g fill=\"none\" stroke=\"#000000\" stroke-opacity=\"1\" stroke-width=\"1\" stroke-linecap=\"square\" stroke-linejoin=\"bevel\" transform=\"matrix(1,0,0,1,214.075,81)\" font-family=\"Verdana\" font-size=\"9pt\" font-weight=\"400\" font-style=\"normal\"> <text fill=\"#000000\" fill-opacity=\"1\" stroke=\"none\" xml:space=\"preserve\" x=\"0\" y=\"13\" font-family=\"Verdana\" font-size=\"9pt\" font-weight=\"400\" font-style=\"normal\">Paramormyrops</text> </g>              <g fill=\"none\" stroke=\"#000000\" stroke-opacity=\"1\" stroke-width=\"1\" stroke-linecap=\"butt\" stroke-linejoin=\"bevel\" transform=\"matrix(1,0,0,1,86.6505,97)\" font-family=\"Sans Serif\" font-size=\"9pt\" font-weight=\"400\" font-style=\"normal\"> <polyline fill=\"none\" vector-effect=\"non-scaling-stroke\" points=\"26.3527,16 26.3527,72.5 \"/> </g>            <g fill=\"none\" stroke=\"#000000\" stroke-opacity=\"1\" stroke-width=\"1\" stroke-linecap=\"butt\" stroke-linejoin=\"bevel\" transform=\"matrix(1,0,0,1,86.6505,97)\" font-family=\"Sans Serif\" font-size=\"9pt\" font-weight=\"400\" font-style=\"normal\"> <polyline fill=\"none\" vector-effect=\"non-scaling-stroke\" points=\"0,44.25 26.3527,44.25 \"/> </g>              <g fill=\"none\" stroke=\"#8b0000\" stroke-opacity=\"1\" stroke-width=\"1\" stroke-linecap=\"square\" stroke-linejoin=\"bevel\" transform=\"matrix(1,0,0,1,94.0032,141.25)\" font-family=\"Arial\" font-size=\"8pt\" font-weight=\"400\" font-style=\"normal\"> <text fill=\"#8b0000\" fill-opacity=\"1\" stroke=\"none\" xml:space=\"preserve\" x=\"0\" y=\"10\" font-family=\"Arial\" font-size=\"8pt\" font-weight=\"400\" font-style=\"normal\">100</text> </g>          <g fill=\"none\" stroke=\"#000000\" stroke-opacity=\"1\" stroke-width=\"1\" stroke-linecap=\"butt\" stroke-linejoin=\"bevel\" transform=\"matrix(1,0,0,1,113.003,97)\" font-family=\"Sans Serif\" font-size=\"9pt\" font-weight=\"400\" font-style=\"normal\"> <polyline fill=\"none\" vector-effect=\"non-scaling-stroke\" points=\"74.8253,8 74.8253,24 \"/> </g>            <g fill=\"none\" stroke=\"#000000\" stroke-opacity=\"1\" stroke-width=\"1\" stroke-linecap=\"butt\" stroke-linejoin=\"bevel\" transform=\"matrix(1,0,0,1,113.003,97)\" font-family=\"Sans Serif\" font-size=\"9pt\" font-weight=\"400\" font-style=\"normal\"> <polyline fill=\"none\" vector-effect=\"non-scaling-stroke\" points=\"0,16 74.8253,16 \"/> </g>              <g fill=\"none\" stroke=\"#8b0000\" stroke-opacity=\"1\" stroke-width=\"1\" stroke-linecap=\"square\" stroke-linejoin=\"bevel\" transform=\"matrix(1,0,0,1,168.828,113)\" font-family=\"Arial\" font-size=\"8pt\" font-weight=\"400\" font-style=\"normal\"> <text fill=\"#8b0000\" fill-opacity=\"1\" stroke=\"none\" xml:space=\"preserve\" x=\"0\" y=\"10\" font-family=\"Arial\" font-size=\"8pt\" font-weight=\"400\" font-style=\"normal\">100</text> </g>                <g fill=\"none\" stroke=\"#000000\" stroke-opacity=\"1\" stroke-width=\"1\" stroke-linecap=\"butt\" stroke-linejoin=\"bevel\" transform=\"matrix(1,0,0,1,187.828,97)\" font-family=\"Sans Serif\" font-size=\"9pt\" font-weight=\"400\" font-style=\"normal\"> <polyline fill=\"none\" vector-effect=\"non-scaling-stroke\" points=\"0,8 106.803,8 \"/> </g>          <g fill=\"none\" stroke=\"#000000\" stroke-opacity=\"1\" stroke-width=\"1\" stroke-linecap=\"square\" stroke-linejoin=\"bevel\" transform=\"matrix(1,0,0,1,294.631,97)\" font-family=\"Verdana\" font-size=\"9pt\" font-weight=\"400\" font-style=\"normal\"> <text fill=\"#000000\" fill-opacity=\"1\" stroke=\"none\" xml:space=\"preserve\" x=\"0\" y=\"13\" font-family=\"Verdana\" font-size=\"9pt\" font-weight=\"400\" font-style=\"normal\">Zebrafish</text> </g>                    <g fill=\"none\" stroke=\"#000000\" stroke-opacity=\"1\" stroke-width=\"1\" stroke-linecap=\"butt\" stroke-linejoin=\"bevel\" transform=\"matrix(1,0,0,1,187.828,113)\" font-family=\"Sans Serif\" font-size=\"9pt\" font-weight=\"400\" font-style=\"normal\"> <polyline fill=\"none\" vector-effect=\"non-scaling-stroke\" points=\"0,8 106.635,8 \"/> </g>          <g fill=\"none\" stroke=\"#000000\" stroke-opacity=\"1\" stroke-width=\"1\" stroke-linecap=\"square\" stroke-linejoin=\"bevel\" transform=\"matrix(1,0,0,1,294.464,113)\" font-family=\"Verdana\" font-size=\"9pt\" font-weight=\"400\" font-style=\"normal\"> <text fill=\"#000000\" fill-opacity=\"1\" stroke=\"none\" xml:space=\"preserve\" x=\"0\" y=\"13\" font-family=\"Verdana\" font-size=\"9pt\" font-weight=\"400\" font-style=\"normal\">Cavefish</text> </g>              <g fill=\"none\" stroke=\"#000000\" stroke-opacity=\"1\" stroke-width=\"1\" stroke-linecap=\"butt\" stroke-linejoin=\"bevel\" transform=\"matrix(1,0,0,1,113.003,129)\" font-family=\"Sans Serif\" font-size=\"9pt\" font-weight=\"400\" font-style=\"normal\"> <polyline fill=\"none\" vector-effect=\"non-scaling-stroke\" points=\"101.178,16 101.178,65 \"/> </g>            <g fill=\"none\" stroke=\"#000000\" stroke-opacity=\"1\" stroke-width=\"1\" stroke-linecap=\"butt\" stroke-linejoin=\"bevel\" transform=\"matrix(1,0,0,1,113.003,129)\" font-family=\"Sans Serif\" font-size=\"9pt\" font-weight=\"400\" font-style=\"normal\"> <polyline fill=\"none\" vector-effect=\"non-scaling-stroke\" points=\"0,40.5 101.178,40.5 \"/> </g>              <g fill=\"none\" stroke=\"#8b0000\" stroke-opacity=\"1\" stroke-width=\"1\" stroke-linecap=\"square\" stroke-linejoin=\"bevel\" transform=\"matrix(1,0,0,1,195.181,169.5)\" font-family=\"Arial\" font-size=\"8pt\" font-weight=\"400\" font-style=\"normal\"> <text fill=\"#8b0000\" fill-opacity=\"1\" stroke=\"none\" xml:space=\"preserve\" x=\"0\" y=\"10\" font-family=\"Arial\" font-size=\"8pt\" font-weight=\"400\" font-style=\"normal\">100</text> </g>          <g fill=\"none\" stroke=\"#000000\" stroke-opacity=\"1\" stroke-width=\"1\" stroke-linecap=\"butt\" stroke-linejoin=\"bevel\" transform=\"matrix(1,0,0,1,214.181,129)\" font-family=\"Sans Serif\" font-size=\"9pt\" font-weight=\"400\" font-style=\"normal\"> <polyline fill=\"none\" vector-effect=\"non-scaling-stroke\" points=\"37.4909,8 37.4909,24 \"/> </g>            <g fill=\"none\" stroke=\"#000000\" stroke-opacity=\"1\" stroke-width=\"1\" stroke-linecap=\"butt\" stroke-linejoin=\"bevel\" transform=\"matrix(1,0,0,1,214.181,129)\" font-family=\"Sans Serif\" font-size=\"9pt\" font-weight=\"400\" font-style=\"normal\"> <polyline fill=\"none\" vector-effect=\"non-scaling-stroke\" points=\"0,16 37.4909,16 \"/> </g>              <g fill=\"none\" stroke=\"#8b0000\" stroke-opacity=\"1\" stroke-width=\"1\" stroke-linecap=\"square\" stroke-linejoin=\"bevel\" transform=\"matrix(1,0,0,1,232.672,145)\" font-family=\"Arial\" font-size=\"8pt\" font-weight=\"400\" font-style=\"normal\"> <text fill=\"#8b0000\" fill-opacity=\"1\" stroke=\"none\" xml:space=\"preserve\" x=\"0\" y=\"10\" font-family=\"Arial\" font-size=\"8pt\" font-weight=\"400\" font-style=\"normal\">100</text> </g>                <g fill=\"none\" stroke=\"#000000\" stroke-opacity=\"1\" stroke-width=\"1\" stroke-linecap=\"butt\" stroke-linejoin=\"bevel\" transform=\"matrix(1,0,0,1,251.672,129)\" font-family=\"Sans Serif\" font-size=\"9pt\" font-weight=\"400\" font-style=\"normal\"> <polyline fill=\"none\" vector-effect=\"non-scaling-stroke\" points=\"0,8 34.4547,8 \"/> </g>          <g fill=\"none\" stroke=\"#000000\" stroke-opacity=\"1\" stroke-width=\"1\" stroke-linecap=\"square\" stroke-linejoin=\"bevel\" transform=\"matrix(1,0,0,1,286.127,129)\" font-family=\"Verdana\" font-size=\"9pt\" font-weight=\"400\" font-style=\"normal\"> <text fill=\"#000000\" fill-opacity=\"1\" stroke=\"none\" xml:space=\"preserve\" x=\"0\" y=\"13\" font-family=\"Verdana\" font-size=\"9pt\" font-weight=\"400\" font-style=\"normal\">Fugu</text> </g>                    <g fill=\"none\" stroke=\"#000000\" stroke-opacity=\"1\" stroke-width=\"1\" stroke-linecap=\"butt\" stroke-linejoin=\"bevel\" transform=\"matrix(1,0,0,1,251.672,145)\" font-family=\"Sans Serif\" font-size=\"9pt\" font-weight=\"400\" font-style=\"normal\"> <polyline fill=\"none\" vector-effect=\"non-scaling-stroke\" points=\"0,8 68.328,8 \"/> </g>          <g fill=\"none\" stroke=\"#000000\" stroke-opacity=\"1\" stroke-width=\"1\" stroke-linecap=\"square\" stroke-linejoin=\"bevel\" transform=\"matrix(1,0,0,1,320,145)\" font-family=\"Verdana\" font-size=\"9pt\" font-weight=\"400\" font-style=\"normal\"> <text fill=\"#000000\" fill-opacity=\"1\" stroke=\"none\" xml:space=\"preserve\" x=\"0\" y=\"13\" font-family=\"Verdana\" font-size=\"9pt\" font-weight=\"400\" font-style=\"normal\">Tetraodon</text> </g>              <g fill=\"none\" stroke=\"#000000\" stroke-opacity=\"1\" stroke-width=\"1\" stroke-linecap=\"butt\" stroke-linejoin=\"bevel\" transform=\"matrix(1,0,0,1,214.181,161)\" font-family=\"Sans Serif\" font-size=\"9pt\" font-weight=\"400\" font-style=\"normal\"> <polyline fill=\"none\" vector-effect=\"non-scaling-stroke\" points=\"13,7 13,58 \"/> </g>      <g fill=\"none\" stroke=\"#808080\" stroke-opacity=\"1\" stroke-dasharray=\"1,2\" stroke-dashoffset=\"0\" stroke-width=\"1\" stroke-linecap=\"butt\" stroke-linejoin=\"bevel\" transform=\"matrix(1,0,0,1,214.181,161)\" font-family=\"Sans Serif\" font-size=\"9pt\" font-weight=\"400\" font-style=\"normal\"> <polyline fill=\"none\" vector-effect=\"non-scaling-stroke\" points=\"10.6182,33 13,33 \"/> </g>      <g fill=\"none\" stroke=\"#000000\" stroke-opacity=\"1\" stroke-width=\"1\" stroke-linecap=\"butt\" stroke-linejoin=\"bevel\" transform=\"matrix(1,0,0,1,214.181,161)\" font-family=\"Sans Serif\" font-size=\"9pt\" font-weight=\"400\" font-style=\"normal\"> <polyline fill=\"none\" vector-effect=\"non-scaling-stroke\" points=\"0,33 10.6182,33 \"/> </g>              <g fill=\"none\" stroke=\"#8b0000\" stroke-opacity=\"1\" stroke-width=\"1\" stroke-linecap=\"square\" stroke-linejoin=\"bevel\" transform=\"matrix(1,0,0,1,214.181,194)\" font-family=\"Arial\" font-size=\"8pt\" font-weight=\"400\" font-style=\"normal\"> <text fill=\"#8b0000\" fill-opacity=\"1\" stroke=\"none\" xml:space=\"preserve\" x=\"0\" y=\"10\" font-family=\"Arial\" font-size=\"8pt\" font-weight=\"400\" font-style=\"normal\">99</text> </g>                <g fill=\"none\" stroke=\"#808080\" stroke-opacity=\"1\" stroke-width=\"2\" stroke-linecap=\"butt\" stroke-linejoin=\"bevel\" transform=\"matrix(1,0,0,1,227.181,161)\" font-family=\"Sans Serif\" font-size=\"9pt\" font-weight=\"400\" font-style=\"normal\"> <polyline fill=\"none\" vector-effect=\"none\" points=\"0,8 65.7111,8 \"/> </g>          <g fill=\"none\" stroke=\"#000000\" stroke-opacity=\"1\" stroke-width=\"1\" stroke-linecap=\"square\" stroke-linejoin=\"bevel\" transform=\"matrix(1,0,0,1,292.892,161)\" font-family=\"Verdana\" font-size=\"9pt\" font-weight=\"400\" font-style=\"normal\"> <text fill=\"#000000\" fill-opacity=\"1\" stroke=\"none\" xml:space=\"preserve\" x=\"0\" y=\"13\" font-family=\"Verdana\" font-size=\"9pt\" font-weight=\"400\" font-style=\"normal\">Stickleback</text> </g>              <g fill=\"none\" stroke=\"#000000\" stroke-opacity=\"1\" stroke-width=\"1\" stroke-linecap=\"butt\" stroke-linejoin=\"bevel\" transform=\"matrix(1,0,0,1,227.181,177)\" font-family=\"Sans Serif\" font-size=\"9pt\" font-weight=\"400\" font-style=\"normal\"> <polyline fill=\"none\" vector-effect=\"non-scaling-stroke\" points=\"13,28 13,56 \"/> </g>      <g fill=\"none\" stroke=\"#808080\" stroke-opacity=\"1\" stroke-dasharray=\"1,2\" stroke-dashoffset=\"0\" stroke-width=\"1\" stroke-linecap=\"butt\" stroke-linejoin=\"bevel\" transform=\"matrix(1,0,0,1,227.181,177)\" font-family=\"Sans Serif\" font-size=\"9pt\" font-weight=\"400\" font-style=\"normal\"> <polyline fill=\"none\" vector-effect=\"non-scaling-stroke\" points=\"4.59061,42 13,42 \"/> </g>      <g fill=\"none\" stroke=\"#000000\" stroke-opacity=\"1\" stroke-width=\"1\" stroke-linecap=\"butt\" stroke-linejoin=\"bevel\" transform=\"matrix(1,0,0,1,227.181,177)\" font-family=\"Sans Serif\" font-size=\"9pt\" font-weight=\"400\" font-style=\"normal\"> <polyline fill=\"none\" vector-effect=\"non-scaling-stroke\" points=\"0,42 4.59061,42 \"/> </g>              <g fill=\"none\" stroke=\"#8b0000\" stroke-opacity=\"1\" stroke-width=\"1\" stroke-linecap=\"square\" stroke-linejoin=\"bevel\" transform=\"matrix(1,0,0,1,227.181,219)\" font-family=\"Arial\" font-size=\"8pt\" font-weight=\"400\" font-style=\"normal\"> <text fill=\"#8b0000\" fill-opacity=\"1\" stroke=\"none\" xml:space=\"preserve\" x=\"0\" y=\"10\" font-family=\"Arial\" font-size=\"8pt\" font-weight=\"400\" font-style=\"normal\">75</text> </g>          <g fill=\"none\" stroke=\"#000000\" stroke-opacity=\"1\" stroke-width=\"1\" stroke-linecap=\"butt\" stroke-linejoin=\"bevel\" transform=\"matrix(1,0,0,1,240.181,177)\" font-family=\"Sans Serif\" font-size=\"9pt\" font-weight=\"400\" font-style=\"normal\"> <polyline fill=\"none\" vector-effect=\"non-scaling-stroke\" points=\"13,16 13,40 \"/> </g>      <g fill=\"none\" stroke=\"#808080\" stroke-opacity=\"1\" stroke-dasharray=\"1,2\" stroke-dashoffset=\"0\" stroke-width=\"1\" stroke-linecap=\"butt\" stroke-linejoin=\"bevel\" transform=\"matrix(1,0,0,1,240.181,177)\" font-family=\"Sans Serif\" font-size=\"9pt\" font-weight=\"400\" font-style=\"normal\"> <polyline fill=\"none\" vector-effect=\"non-scaling-stroke\" points=\"3.78544,28 13,28 \"/> </g>      <g fill=\"none\" stroke=\"#000000\" stroke-opacity=\"1\" stroke-width=\"1\" stroke-linecap=\"butt\" stroke-linejoin=\"bevel\" transform=\"matrix(1,0,0,1,240.181,177)\" font-family=\"Sans Serif\" font-size=\"9pt\" font-weight=\"400\" font-style=\"normal\"> <polyline fill=\"none\" vector-effect=\"non-scaling-stroke\" points=\"0,28 3.78544,28 \"/> </g>              <g fill=\"none\" stroke=\"#8b0000\" stroke-opacity=\"1\" stroke-width=\"1\" stroke-linecap=\"square\" stroke-linejoin=\"bevel\" transform=\"matrix(1,0,0,1,240.181,205)\" font-family=\"Arial\" font-size=\"8pt\" font-weight=\"400\" font-style=\"normal\"> <text fill=\"#8b0000\" fill-opacity=\"1\" stroke=\"none\" xml:space=\"preserve\" x=\"0\" y=\"10\" font-family=\"Arial\" font-size=\"8pt\" font-weight=\"400\" font-style=\"normal\">64</text> </g>          <g fill=\"none\" stroke=\"#000000\" stroke-opacity=\"1\" stroke-width=\"1\" stroke-linecap=\"butt\" stroke-linejoin=\"bevel\" transform=\"matrix(1,0,0,1,253.181,177)\" font-family=\"Sans Serif\" font-size=\"9pt\" font-weight=\"400\" font-style=\"normal\"> <polyline fill=\"none\" vector-effect=\"non-scaling-stroke\" points=\"34.8294,8 34.8294,24 \"/> </g>            <g fill=\"none\" stroke=\"#000000\" stroke-opacity=\"1\" stroke-width=\"1\" stroke-linecap=\"butt\" stroke-linejoin=\"bevel\" transform=\"matrix(1,0,0,1,253.181,177)\" font-family=\"Sans Serif\" font-size=\"9pt\" font-weight=\"400\" font-style=\"normal\"> <polyline fill=\"none\" vector-effect=\"non-scaling-stroke\" points=\"0,16 34.8294,16 \"/> </g>              <g fill=\"none\" stroke=\"#8b0000\" stroke-opacity=\"1\" stroke-width=\"1\" stroke-linecap=\"square\" stroke-linejoin=\"bevel\" transform=\"matrix(1,0,0,1,269.01,193)\" font-family=\"Arial\" font-size=\"8pt\" font-weight=\"400\" font-style=\"normal\"> <text fill=\"#8b0000\" fill-opacity=\"1\" stroke=\"none\" xml:space=\"preserve\" x=\"0\" y=\"10\" font-family=\"Arial\" font-size=\"8pt\" font-weight=\"400\" font-style=\"normal\">100</text> </g>                <g fill=\"none\" stroke=\"#000000\" stroke-opacity=\"1\" stroke-width=\"1\" stroke-linecap=\"butt\" stroke-linejoin=\"bevel\" transform=\"matrix(1,0,0,1,288.01,177)\" font-family=\"Sans Serif\" font-size=\"9pt\" font-weight=\"400\" font-style=\"normal\"> <polyline fill=\"none\" vector-effect=\"non-scaling-stroke\" points=\"0,8 21.5664,8 \"/> </g>          <g fill=\"none\" stroke=\"#000000\" stroke-opacity=\"1\" stroke-width=\"1\" stroke-linecap=\"square\" stroke-linejoin=\"bevel\" transform=\"matrix(1,0,0,1,309.577,177)\" font-family=\"Verdana\" font-size=\"9pt\" font-weight=\"400\" font-style=\"normal\"> <text fill=\"#000000\" fill-opacity=\"1\" stroke=\"none\" xml:space=\"preserve\" x=\"0\" y=\"13\" font-family=\"Verdana\" font-size=\"9pt\" font-weight=\"400\" font-style=\"normal\">Platyfish</text> </g>                    <g fill=\"none\" stroke=\"#000000\" stroke-opacity=\"1\" stroke-width=\"1\" stroke-linecap=\"butt\" stroke-linejoin=\"bevel\" transform=\"matrix(1,0,0,1,288.01,193)\" font-family=\"Sans Serif\" font-size=\"9pt\" font-weight=\"400\" font-style=\"normal\"> <polyline fill=\"none\" vector-effect=\"non-scaling-stroke\" points=\"0,8 6.87194,8 \"/> </g>          <g fill=\"none\" stroke=\"#000000\" stroke-opacity=\"1\" stroke-width=\"1\" stroke-linecap=\"square\" stroke-linejoin=\"bevel\" transform=\"matrix(1,0,0,1,294.882,193)\" font-family=\"Verdana\" font-size=\"9pt\" font-weight=\"400\" font-style=\"normal\"> <text fill=\"#000000\" fill-opacity=\"1\" stroke=\"none\" xml:space=\"preserve\" x=\"0\" y=\"13\" font-family=\"Verdana\" font-size=\"9pt\" font-weight=\"400\" font-style=\"normal\">Amazon_molly</text> </g>                    <g fill=\"none\" stroke=\"#000000\" stroke-opacity=\"1\" stroke-width=\"1\" stroke-linecap=\"butt\" stroke-linejoin=\"bevel\" transform=\"matrix(1,0,0,1,253.181,209)\" font-family=\"Sans Serif\" font-size=\"9pt\" font-weight=\"400\" font-style=\"normal\"> <polyline fill=\"none\" vector-effect=\"non-scaling-stroke\" points=\"0,8 66.0802,8 \"/> </g>          <g fill=\"none\" stroke=\"#000000\" stroke-opacity=\"1\" stroke-width=\"1\" stroke-linecap=\"square\" stroke-linejoin=\"bevel\" transform=\"matrix(1,0,0,1,319.261,209)\" font-family=\"Verdana\" font-size=\"9pt\" font-weight=\"400\" font-style=\"normal\"> <text fill=\"#000000\" fill-opacity=\"1\" stroke=\"none\" xml:space=\"preserve\" x=\"0\" y=\"13\" font-family=\"Verdana\" font-size=\"9pt\" font-weight=\"400\" font-style=\"normal\">Medaka</text> </g>                    <g fill=\"none\" stroke=\"#000000\" stroke-opacity=\"1\" stroke-width=\"1\" stroke-linecap=\"butt\" stroke-linejoin=\"bevel\" transform=\"matrix(1,0,0,1,240.181,225)\" font-family=\"Sans Serif\" font-size=\"9pt\" font-weight=\"400\" font-style=\"normal\"> <polyline fill=\"none\" vector-effect=\"non-scaling-stroke\" points=\"0,8 52.4929,8 \"/> </g>          <g fill=\"none\" stroke=\"#000000\" stroke-opacity=\"1\" stroke-width=\"1\" stroke-linecap=\"square\" stroke-linejoin=\"bevel\" transform=\"matrix(1,0,0,1,292.674,225)\" font-family=\"Verdana\" font-size=\"9pt\" font-weight=\"400\" font-style=\"normal\"> <text fill=\"#000000\" fill-opacity=\"1\" stroke=\"none\" xml:space=\"preserve\" x=\"0\" y=\"13\" font-family=\"Verdana\" font-size=\"9pt\" font-weight=\"400\" font-style=\"normal\">Tilapia</text> </g>                                                                                                                                  <g fill=\"none\" stroke=\"#000000\" stroke-opacity=\"1\" stroke-width=\"1\" stroke-linecap=\"square\" stroke-linejoin=\"bevel\" transform=\"matrix(1,0,0,1,1,242)\" font-family=\"Sans Serif\" font-size=\"9pt\" font-weight=\"400\" font-style=\"normal\"> <polyline fill=\"none\" vector-effect=\"none\" points=\"0,5 50,5 \"/> </g>      <g fill=\"none\" stroke=\"#000000\" stroke-opacity=\"1\" stroke-width=\"1\" stroke-linecap=\"square\" stroke-linejoin=\"bevel\" transform=\"matrix(1,0,0,1,1,242)\" font-family=\"Sans Serif\" font-size=\"9pt\" font-weight=\"400\" font-style=\"normal\"> <polyline fill=\"none\" vector-effect=\"none\" points=\"0,0 0,10 \"/> </g>      <g fill=\"none\" stroke=\"#000000\" stroke-opacity=\"1\" stroke-width=\"1\" stroke-linecap=\"square\" stroke-linejoin=\"bevel\" transform=\"matrix(1,0,0,1,1,242)\" font-family=\"Sans Serif\" font-size=\"9pt\" font-weight=\"400\" font-style=\"normal\"> <polyline fill=\"none\" vector-effect=\"none\" points=\"50,0 50,10 \"/> </g>      <g fill=\"none\" stroke=\"#000000\" stroke-opacity=\"1\" stroke-width=\"1\" stroke-linecap=\"square\" stroke-linejoin=\"bevel\" transform=\"matrix(1,0,0,1,1,252)\" font-family=\"Sans Serif\" font-size=\"9pt\" font-weight=\"400\" font-style=\"normal\"> <text fill=\"#000000\" fill-opacity=\"1\" stroke=\"none\" xml:space=\"preserve\" x=\"0\" y=\"12\" font-family=\"Sans Serif\" font-size=\"9pt\" font-weight=\"400\" font-style=\"normal\">0.0894217</text> </g>     </g> </svg>"
      ],
      "text/plain": [
       "<IPython.core.display.SVG object>"
      ]
     },
     "execution_count": 24,
     "metadata": {},
     "output_type": "execute_result"
    }
   ],
   "source": [
    "from IPython.core.display import SVG\n",
    "SVG(filename='output/bionj_tree.svg')"
   ]
  },
  {
   "cell_type": "markdown",
   "metadata": {},
   "source": [
    "## Maximum parsimony gene order phylogeny <a name=\"gene-order-phylogeny-pars\"></a>"
   ]
  },
  {
   "cell_type": "code",
   "execution_count": null,
   "metadata": {},
   "outputs": [],
   "source": []
  }
 ],
 "metadata": {
  "kernelspec": {
   "display_name": "Python [conda env:bowfin_env]",
   "language": "python",
   "name": "conda-env-bowfin_env-py"
  },
  "language_info": {
   "codemirror_mode": {
    "name": "ipython",
    "version": 3
   },
   "file_extension": ".py",
   "mimetype": "text/x-python",
   "name": "python",
   "nbconvert_exporter": "python",
   "pygments_lexer": "ipython3",
   "version": "3.9.0"
  }
 },
 "nbformat": 4,
 "nbformat_minor": 4
}
